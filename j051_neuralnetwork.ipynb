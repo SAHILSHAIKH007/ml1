{
  "nbformat": 4,
  "nbformat_minor": 0,
  "metadata": {
    "colab": {
      "name": "j051_neuralnetwork.ipynb",
      "provenance": [],
      "collapsed_sections": []
    },
    "kernelspec": {
      "name": "python3",
      "display_name": "Python 3"
    },
    "language_info": {
      "name": "python"
    }
  },
  "cells": [
    {
      "cell_type": "markdown",
      "source": [
        ""
      ],
      "metadata": {
        "id": "Ien-OOBxpC-A"
      }
    },
    {
      "cell_type": "code",
      "execution_count": null,
      "metadata": {
        "colab": {
          "base_uri": "https://localhost:8080/"
        },
        "id": "JatrdbesWheb",
        "outputId": "8b209c3a-ef15-47e2-b26b-46416be5ef65"
      },
      "outputs": [
        {
          "output_type": "stream",
          "name": "stdout",
          "text": [
            "The Required libraries for the ANN has been imported from the keras\n"
          ]
        }
      ],
      "source": [
        "import keras \n",
        "from keras import Sequential \n",
        "from keras.layers import Flatten, Dense, Dropout, BatchNormalization, Conv1D,MaxPool1D\n",
        "from keras.preprocessing.image import ImageDataGenerator\n",
        "from tensorflow.keras.optimizers import Adam\n",
        "print('The Required libraries for the ANN has been imported from the keras') "
      ]
    },
    {
      "cell_type": "code",
      "source": [
        "import numpy as np\n",
        "import pandas as pd\n",
        "import matplotlib.pyplot as plt \n",
        "import seaborn as sns\n",
        "from sklearn import datasets,metrics\n",
        "from sklearn.model_selection import train_test_split\n",
        "from sklearn.preprocessing import StandardScaler"
      ],
      "metadata": {
        "id": "fUKtoMdJaiI1"
      },
      "execution_count": null,
      "outputs": []
    },
    {
      "cell_type": "code",
      "source": [
        "from sklearn.datasets import load_boston #importing the boston dataset from the sk learn library #load boston is a function and .data and.traget are its methods b\n",
        "boston=load_boston() #storing the dataset in boston variable\n",
        "X=boston.data\n",
        "Y=boston.target"
      ],
      "metadata": {
        "colab": {
          "base_uri": "https://localhost:8080/"
        },
        "id": "bm1vLU4Gb5N0",
        "outputId": "55a33cb3-6d20-4018-f471-dce444f08410"
      },
      "execution_count": null,
      "outputs": [
        {
          "output_type": "stream",
          "name": "stderr",
          "text": [
            "/usr/local/lib/python3.7/dist-packages/sklearn/utils/deprecation.py:87: FutureWarning: Function load_boston is deprecated; `load_boston` is deprecated in 1.0 and will be removed in 1.2.\n",
            "\n",
            "    The Boston housing prices dataset has an ethical problem. You can refer to\n",
            "    the documentation of this function for further details.\n",
            "\n",
            "    The scikit-learn maintainers therefore strongly discourage the use of this\n",
            "    dataset unless the purpose of the code is to study and educate about\n",
            "    ethical issues in data science and machine learning.\n",
            "\n",
            "    In this special case, you can fetch the dataset from the original\n",
            "    source::\n",
            "\n",
            "        import pandas as pd\n",
            "        import numpy as np\n",
            "\n",
            "\n",
            "        data_url = \"http://lib.stat.cmu.edu/datasets/boston\"\n",
            "        raw_df = pd.read_csv(data_url, sep=\"\\s+\", skiprows=22, header=None)\n",
            "        data = np.hstack([raw_df.values[::2, :], raw_df.values[1::2, :2]])\n",
            "        target = raw_df.values[1::2, 2]\n",
            "\n",
            "    Alternative datasets include the California housing dataset (i.e.\n",
            "    :func:`~sklearn.datasets.fetch_california_housing`) and the Ames housing\n",
            "    dataset. You can load the datasets as follows::\n",
            "\n",
            "        from sklearn.datasets import fetch_california_housing\n",
            "        housing = fetch_california_housing()\n",
            "\n",
            "    for the California housing dataset and::\n",
            "\n",
            "        from sklearn.datasets import fetch_openml\n",
            "        housing = fetch_openml(name=\"house_prices\", as_frame=True)\n",
            "\n",
            "    for the Ames housing dataset.\n",
            "    \n",
            "  warnings.warn(msg, category=FutureWarning)\n"
          ]
        }
      ]
    },
    {
      "cell_type": "code",
      "source": [
        ""
      ],
      "metadata": {
        "id": "Y8uwCdSucd71",
        "colab": {
          "base_uri": "https://localhost:8080/",
          "height": 183
        },
        "outputId": "75c8ec02-8220-40be-c446-9c5acf1ff93f"
      },
      "execution_count": null,
      "outputs": [
        {
          "output_type": "error",
          "ename": "NameError",
          "evalue": "ignored",
          "traceback": [
            "\u001b[0;31m---------------------------------------------------------------------------\u001b[0m",
            "\u001b[0;31mNameError\u001b[0m                                 Traceback (most recent call last)",
            "\u001b[0;32m<ipython-input-4-d5b9dc97e79e>\u001b[0m in \u001b[0;36m<module>\u001b[0;34m()\u001b[0m\n\u001b[0;32m----> 1\u001b[0;31m \u001b[0mX\u001b[0m \u001b[0;34m=\u001b[0m \u001b[0mdf\u001b[0m\u001b[0;34m.\u001b[0m\u001b[0miloc\u001b[0m\u001b[0;34m[\u001b[0m\u001b[0;34m:\u001b[0m\u001b[0;34m,\u001b[0m\u001b[0;36m2\u001b[0m\u001b[0;34m:\u001b[0m\u001b[0;36m32\u001b[0m\u001b[0;34m]\u001b[0m\u001b[0;34m.\u001b[0m\u001b[0mvalues\u001b[0m\u001b[0;34m\u001b[0m\u001b[0;34m\u001b[0m\u001b[0m\n\u001b[0m\u001b[1;32m      2\u001b[0m \u001b[0mY\u001b[0m \u001b[0;34m=\u001b[0m \u001b[0mdf\u001b[0m\u001b[0;34m.\u001b[0m\u001b[0miloc\u001b[0m\u001b[0;34m[\u001b[0m\u001b[0;34m:\u001b[0m\u001b[0;34m,\u001b[0m\u001b[0;36m1\u001b[0m\u001b[0;34m]\u001b[0m\u001b[0;34m.\u001b[0m\u001b[0mvalues\u001b[0m\u001b[0;34m\u001b[0m\u001b[0;34m\u001b[0m\u001b[0m\n",
            "\u001b[0;31mNameError\u001b[0m: name 'df' is not defined"
          ]
        }
      ]
    },
    {
      "cell_type": "code",
      "source": [
        "X"
      ],
      "metadata": {
        "colab": {
          "base_uri": "https://localhost:8080/"
        },
        "id": "OAlwUccNd3pc",
        "outputId": "7e858957-9620-411b-9f4f-03f2c75fa6a0"
      },
      "execution_count": null,
      "outputs": [
        {
          "output_type": "execute_result",
          "data": {
            "text/plain": [
              "array([[6.3200e-03, 1.8000e+01, 2.3100e+00, ..., 1.5300e+01, 3.9690e+02,\n",
              "        4.9800e+00],\n",
              "       [2.7310e-02, 0.0000e+00, 7.0700e+00, ..., 1.7800e+01, 3.9690e+02,\n",
              "        9.1400e+00],\n",
              "       [2.7290e-02, 0.0000e+00, 7.0700e+00, ..., 1.7800e+01, 3.9283e+02,\n",
              "        4.0300e+00],\n",
              "       ...,\n",
              "       [6.0760e-02, 0.0000e+00, 1.1930e+01, ..., 2.1000e+01, 3.9690e+02,\n",
              "        5.6400e+00],\n",
              "       [1.0959e-01, 0.0000e+00, 1.1930e+01, ..., 2.1000e+01, 3.9345e+02,\n",
              "        6.4800e+00],\n",
              "       [4.7410e-02, 0.0000e+00, 1.1930e+01, ..., 2.1000e+01, 3.9690e+02,\n",
              "        7.8800e+00]])"
            ]
          },
          "metadata": {},
          "execution_count": 4
        }
      ]
    },
    {
      "cell_type": "code",
      "source": [
        "Y"
      ],
      "metadata": {
        "colab": {
          "base_uri": "https://localhost:8080/"
        },
        "id": "Y1RH3FdAd-qU",
        "outputId": "fcbf11d1-51f9-4996-cb36-ba3a39ee8ede"
      },
      "execution_count": null,
      "outputs": [
        {
          "output_type": "execute_result",
          "data": {
            "text/plain": [
              "array([24. , 21.6, 34.7, 33.4, 36.2, 28.7, 22.9, 27.1, 16.5, 18.9, 15. ,\n",
              "       18.9, 21.7, 20.4, 18.2, 19.9, 23.1, 17.5, 20.2, 18.2, 13.6, 19.6,\n",
              "       15.2, 14.5, 15.6, 13.9, 16.6, 14.8, 18.4, 21. , 12.7, 14.5, 13.2,\n",
              "       13.1, 13.5, 18.9, 20. , 21. , 24.7, 30.8, 34.9, 26.6, 25.3, 24.7,\n",
              "       21.2, 19.3, 20. , 16.6, 14.4, 19.4, 19.7, 20.5, 25. , 23.4, 18.9,\n",
              "       35.4, 24.7, 31.6, 23.3, 19.6, 18.7, 16. , 22.2, 25. , 33. , 23.5,\n",
              "       19.4, 22. , 17.4, 20.9, 24.2, 21.7, 22.8, 23.4, 24.1, 21.4, 20. ,\n",
              "       20.8, 21.2, 20.3, 28. , 23.9, 24.8, 22.9, 23.9, 26.6, 22.5, 22.2,\n",
              "       23.6, 28.7, 22.6, 22. , 22.9, 25. , 20.6, 28.4, 21.4, 38.7, 43.8,\n",
              "       33.2, 27.5, 26.5, 18.6, 19.3, 20.1, 19.5, 19.5, 20.4, 19.8, 19.4,\n",
              "       21.7, 22.8, 18.8, 18.7, 18.5, 18.3, 21.2, 19.2, 20.4, 19.3, 22. ,\n",
              "       20.3, 20.5, 17.3, 18.8, 21.4, 15.7, 16.2, 18. , 14.3, 19.2, 19.6,\n",
              "       23. , 18.4, 15.6, 18.1, 17.4, 17.1, 13.3, 17.8, 14. , 14.4, 13.4,\n",
              "       15.6, 11.8, 13.8, 15.6, 14.6, 17.8, 15.4, 21.5, 19.6, 15.3, 19.4,\n",
              "       17. , 15.6, 13.1, 41.3, 24.3, 23.3, 27. , 50. , 50. , 50. , 22.7,\n",
              "       25. , 50. , 23.8, 23.8, 22.3, 17.4, 19.1, 23.1, 23.6, 22.6, 29.4,\n",
              "       23.2, 24.6, 29.9, 37.2, 39.8, 36.2, 37.9, 32.5, 26.4, 29.6, 50. ,\n",
              "       32. , 29.8, 34.9, 37. , 30.5, 36.4, 31.1, 29.1, 50. , 33.3, 30.3,\n",
              "       34.6, 34.9, 32.9, 24.1, 42.3, 48.5, 50. , 22.6, 24.4, 22.5, 24.4,\n",
              "       20. , 21.7, 19.3, 22.4, 28.1, 23.7, 25. , 23.3, 28.7, 21.5, 23. ,\n",
              "       26.7, 21.7, 27.5, 30.1, 44.8, 50. , 37.6, 31.6, 46.7, 31.5, 24.3,\n",
              "       31.7, 41.7, 48.3, 29. , 24. , 25.1, 31.5, 23.7, 23.3, 22. , 20.1,\n",
              "       22.2, 23.7, 17.6, 18.5, 24.3, 20.5, 24.5, 26.2, 24.4, 24.8, 29.6,\n",
              "       42.8, 21.9, 20.9, 44. , 50. , 36. , 30.1, 33.8, 43.1, 48.8, 31. ,\n",
              "       36.5, 22.8, 30.7, 50. , 43.5, 20.7, 21.1, 25.2, 24.4, 35.2, 32.4,\n",
              "       32. , 33.2, 33.1, 29.1, 35.1, 45.4, 35.4, 46. , 50. , 32.2, 22. ,\n",
              "       20.1, 23.2, 22.3, 24.8, 28.5, 37.3, 27.9, 23.9, 21.7, 28.6, 27.1,\n",
              "       20.3, 22.5, 29. , 24.8, 22. , 26.4, 33.1, 36.1, 28.4, 33.4, 28.2,\n",
              "       22.8, 20.3, 16.1, 22.1, 19.4, 21.6, 23.8, 16.2, 17.8, 19.8, 23.1,\n",
              "       21. , 23.8, 23.1, 20.4, 18.5, 25. , 24.6, 23. , 22.2, 19.3, 22.6,\n",
              "       19.8, 17.1, 19.4, 22.2, 20.7, 21.1, 19.5, 18.5, 20.6, 19. , 18.7,\n",
              "       32.7, 16.5, 23.9, 31.2, 17.5, 17.2, 23.1, 24.5, 26.6, 22.9, 24.1,\n",
              "       18.6, 30.1, 18.2, 20.6, 17.8, 21.7, 22.7, 22.6, 25. , 19.9, 20.8,\n",
              "       16.8, 21.9, 27.5, 21.9, 23.1, 50. , 50. , 50. , 50. , 50. , 13.8,\n",
              "       13.8, 15. , 13.9, 13.3, 13.1, 10.2, 10.4, 10.9, 11.3, 12.3,  8.8,\n",
              "        7.2, 10.5,  7.4, 10.2, 11.5, 15.1, 23.2,  9.7, 13.8, 12.7, 13.1,\n",
              "       12.5,  8.5,  5. ,  6.3,  5.6,  7.2, 12.1,  8.3,  8.5,  5. , 11.9,\n",
              "       27.9, 17.2, 27.5, 15. , 17.2, 17.9, 16.3,  7. ,  7.2,  7.5, 10.4,\n",
              "        8.8,  8.4, 16.7, 14.2, 20.8, 13.4, 11.7,  8.3, 10.2, 10.9, 11. ,\n",
              "        9.5, 14.5, 14.1, 16.1, 14.3, 11.7, 13.4,  9.6,  8.7,  8.4, 12.8,\n",
              "       10.5, 17.1, 18.4, 15.4, 10.8, 11.8, 14.9, 12.6, 14.1, 13. , 13.4,\n",
              "       15.2, 16.1, 17.8, 14.9, 14.1, 12.7, 13.5, 14.9, 20. , 16.4, 17.7,\n",
              "       19.5, 20.2, 21.4, 19.9, 19. , 19.1, 19.1, 20.1, 19.9, 19.6, 23.2,\n",
              "       29.8, 13.8, 13.3, 16.7, 12. , 14.6, 21.4, 23. , 23.7, 25. , 21.8,\n",
              "       20.6, 21.2, 19.1, 20.6, 15.2,  7. ,  8.1, 13.6, 20.1, 21.8, 24.5,\n",
              "       23.1, 19.7, 18.3, 21.2, 17.5, 16.8, 22.4, 20.6, 23.9, 22. , 11.9])"
            ]
          },
          "metadata": {},
          "execution_count": 5
        }
      ]
    },
    {
      "cell_type": "code",
      "source": [
        "\n",
        "from sklearn.model_selection import train_test_split \n",
        "X_train, X_test, Y_train, Y_test = train_test_split(X,Y, test_size= 0.2, random_state= 0)\n",
        "\n",
        "\n",
        "from sklearn.preprocessing import StandardScaler\n",
        "sc = StandardScaler()\n",
        "X_train = sc.fit_transform(X_train)\n",
        "X_test = sc.transform(X_test)\n",
        "\n",
        "print('The data type of actual data',type(boston))\n",
        "print('The data type of the X and Y is',type(X))\n"
      ],
      "metadata": {
        "colab": {
          "base_uri": "https://localhost:8080/"
        },
        "id": "D6oyKi2oeEn1",
        "outputId": "ec8042e1-7717-4ef1-d5c1-b6f9fefda017"
      },
      "execution_count": null,
      "outputs": [
        {
          "output_type": "stream",
          "name": "stdout",
          "text": [
            "The data type of actual data <class 'sklearn.utils.Bunch'>\n",
            "The data type of the X and Y is <class 'numpy.ndarray'>\n"
          ]
        }
      ]
    },
    {
      "cell_type": "code",
      "source": [
        "Y"
      ],
      "metadata": {
        "colab": {
          "base_uri": "https://localhost:8080/"
        },
        "id": "zt9FlLt8hDad",
        "outputId": "36bb6379-a708-4843-91c9-ff8ed9119161"
      },
      "execution_count": null,
      "outputs": [
        {
          "output_type": "execute_result",
          "data": {
            "text/plain": [
              "array([24. , 21.6, 34.7, 33.4, 36.2, 28.7, 22.9, 27.1, 16.5, 18.9, 15. ,\n",
              "       18.9, 21.7, 20.4, 18.2, 19.9, 23.1, 17.5, 20.2, 18.2, 13.6, 19.6,\n",
              "       15.2, 14.5, 15.6, 13.9, 16.6, 14.8, 18.4, 21. , 12.7, 14.5, 13.2,\n",
              "       13.1, 13.5, 18.9, 20. , 21. , 24.7, 30.8, 34.9, 26.6, 25.3, 24.7,\n",
              "       21.2, 19.3, 20. , 16.6, 14.4, 19.4, 19.7, 20.5, 25. , 23.4, 18.9,\n",
              "       35.4, 24.7, 31.6, 23.3, 19.6, 18.7, 16. , 22.2, 25. , 33. , 23.5,\n",
              "       19.4, 22. , 17.4, 20.9, 24.2, 21.7, 22.8, 23.4, 24.1, 21.4, 20. ,\n",
              "       20.8, 21.2, 20.3, 28. , 23.9, 24.8, 22.9, 23.9, 26.6, 22.5, 22.2,\n",
              "       23.6, 28.7, 22.6, 22. , 22.9, 25. , 20.6, 28.4, 21.4, 38.7, 43.8,\n",
              "       33.2, 27.5, 26.5, 18.6, 19.3, 20.1, 19.5, 19.5, 20.4, 19.8, 19.4,\n",
              "       21.7, 22.8, 18.8, 18.7, 18.5, 18.3, 21.2, 19.2, 20.4, 19.3, 22. ,\n",
              "       20.3, 20.5, 17.3, 18.8, 21.4, 15.7, 16.2, 18. , 14.3, 19.2, 19.6,\n",
              "       23. , 18.4, 15.6, 18.1, 17.4, 17.1, 13.3, 17.8, 14. , 14.4, 13.4,\n",
              "       15.6, 11.8, 13.8, 15.6, 14.6, 17.8, 15.4, 21.5, 19.6, 15.3, 19.4,\n",
              "       17. , 15.6, 13.1, 41.3, 24.3, 23.3, 27. , 50. , 50. , 50. , 22.7,\n",
              "       25. , 50. , 23.8, 23.8, 22.3, 17.4, 19.1, 23.1, 23.6, 22.6, 29.4,\n",
              "       23.2, 24.6, 29.9, 37.2, 39.8, 36.2, 37.9, 32.5, 26.4, 29.6, 50. ,\n",
              "       32. , 29.8, 34.9, 37. , 30.5, 36.4, 31.1, 29.1, 50. , 33.3, 30.3,\n",
              "       34.6, 34.9, 32.9, 24.1, 42.3, 48.5, 50. , 22.6, 24.4, 22.5, 24.4,\n",
              "       20. , 21.7, 19.3, 22.4, 28.1, 23.7, 25. , 23.3, 28.7, 21.5, 23. ,\n",
              "       26.7, 21.7, 27.5, 30.1, 44.8, 50. , 37.6, 31.6, 46.7, 31.5, 24.3,\n",
              "       31.7, 41.7, 48.3, 29. , 24. , 25.1, 31.5, 23.7, 23.3, 22. , 20.1,\n",
              "       22.2, 23.7, 17.6, 18.5, 24.3, 20.5, 24.5, 26.2, 24.4, 24.8, 29.6,\n",
              "       42.8, 21.9, 20.9, 44. , 50. , 36. , 30.1, 33.8, 43.1, 48.8, 31. ,\n",
              "       36.5, 22.8, 30.7, 50. , 43.5, 20.7, 21.1, 25.2, 24.4, 35.2, 32.4,\n",
              "       32. , 33.2, 33.1, 29.1, 35.1, 45.4, 35.4, 46. , 50. , 32.2, 22. ,\n",
              "       20.1, 23.2, 22.3, 24.8, 28.5, 37.3, 27.9, 23.9, 21.7, 28.6, 27.1,\n",
              "       20.3, 22.5, 29. , 24.8, 22. , 26.4, 33.1, 36.1, 28.4, 33.4, 28.2,\n",
              "       22.8, 20.3, 16.1, 22.1, 19.4, 21.6, 23.8, 16.2, 17.8, 19.8, 23.1,\n",
              "       21. , 23.8, 23.1, 20.4, 18.5, 25. , 24.6, 23. , 22.2, 19.3, 22.6,\n",
              "       19.8, 17.1, 19.4, 22.2, 20.7, 21.1, 19.5, 18.5, 20.6, 19. , 18.7,\n",
              "       32.7, 16.5, 23.9, 31.2, 17.5, 17.2, 23.1, 24.5, 26.6, 22.9, 24.1,\n",
              "       18.6, 30.1, 18.2, 20.6, 17.8, 21.7, 22.7, 22.6, 25. , 19.9, 20.8,\n",
              "       16.8, 21.9, 27.5, 21.9, 23.1, 50. , 50. , 50. , 50. , 50. , 13.8,\n",
              "       13.8, 15. , 13.9, 13.3, 13.1, 10.2, 10.4, 10.9, 11.3, 12.3,  8.8,\n",
              "        7.2, 10.5,  7.4, 10.2, 11.5, 15.1, 23.2,  9.7, 13.8, 12.7, 13.1,\n",
              "       12.5,  8.5,  5. ,  6.3,  5.6,  7.2, 12.1,  8.3,  8.5,  5. , 11.9,\n",
              "       27.9, 17.2, 27.5, 15. , 17.2, 17.9, 16.3,  7. ,  7.2,  7.5, 10.4,\n",
              "        8.8,  8.4, 16.7, 14.2, 20.8, 13.4, 11.7,  8.3, 10.2, 10.9, 11. ,\n",
              "        9.5, 14.5, 14.1, 16.1, 14.3, 11.7, 13.4,  9.6,  8.7,  8.4, 12.8,\n",
              "       10.5, 17.1, 18.4, 15.4, 10.8, 11.8, 14.9, 12.6, 14.1, 13. , 13.4,\n",
              "       15.2, 16.1, 17.8, 14.9, 14.1, 12.7, 13.5, 14.9, 20. , 16.4, 17.7,\n",
              "       19.5, 20.2, 21.4, 19.9, 19. , 19.1, 19.1, 20.1, 19.9, 19.6, 23.2,\n",
              "       29.8, 13.8, 13.3, 16.7, 12. , 14.6, 21.4, 23. , 23.7, 25. , 21.8,\n",
              "       20.6, 21.2, 19.1, 20.6, 15.2,  7. ,  8.1, 13.6, 20.1, 21.8, 24.5,\n",
              "       23.1, 19.7, 18.3, 21.2, 17.5, 16.8, 22.4, 20.6, 23.9, 22. , 11.9])"
            ]
          },
          "metadata": {},
          "execution_count": 7
        }
      ]
    },
    {
      "cell_type": "code",
      "source": [
        "X_train"
      ],
      "metadata": {
        "colab": {
          "base_uri": "https://localhost:8080/"
        },
        "id": "vZ3bpXoTgute",
        "outputId": "34626382-f624-4833-f950-824615115782"
      },
      "execution_count": null,
      "outputs": [
        {
          "output_type": "execute_result",
          "data": {
            "text/plain": [
              "array([[-0.37257438, -0.49960763, -0.70492455, ..., -0.48463784,\n",
              "         0.3716906 , -0.41100022],\n",
              "       [-0.39709866, -0.49960763, -0.04487755, ...,  0.33649132,\n",
              "         0.20501196, -0.38768057],\n",
              "       [-0.402693  ,  0.77116771, -0.88675963, ..., -0.84958414,\n",
              "         0.36660893, -0.18191902],\n",
              "       ...,\n",
              "       [-0.39805586, -0.49960763, -0.15941933, ..., -0.30216469,\n",
              "         0.40342278, -0.33006734],\n",
              "       [-0.38842357, -0.49960763, -0.60326872, ..., -0.25654641,\n",
              "         0.38343489,  0.8359148 ],\n",
              "       [-0.39951258, -0.49960763, -1.01275558, ..., -0.84958414,\n",
              "         0.43041207,  0.27212814]])"
            ]
          },
          "metadata": {},
          "execution_count": 8
        }
      ]
    },
    {
      "cell_type": "code",
      "source": [
        "X_test"
      ],
      "metadata": {
        "colab": {
          "base_uri": "https://localhost:8080/"
        },
        "id": "VDrteUIJhApc",
        "outputId": "ac4ddfe4-f6b9-4413-f8bf-03dd51d64180"
      },
      "execution_count": null,
      "outputs": [
        {
          "output_type": "execute_result",
          "data": {
            "text/plain": [
              "array([[-0.40835869, -0.49960763, -1.12872913, ..., -0.71272928,\n",
              "         0.18547577, -0.73610347],\n",
              "       [ 0.71925111, -0.49960763,  0.9988844 , ...,  0.79267419,\n",
              "         0.0831649 , -0.4356916 ],\n",
              "       [-0.40257488, -0.49960763,  0.39610829, ..., -0.94082071,\n",
              "         0.39472748, -0.30263246],\n",
              "       ...,\n",
              "       [-0.3982601 ,  0.55937182, -0.85812418, ...,  0.56458276,\n",
              "         0.41019833,  0.06087961],\n",
              "       [-0.39934279, -0.49960763, -0.07637654, ...,  0.0627816 ,\n",
              "         0.30517724, -0.45626776],\n",
              "       [-0.40088071, -0.49960763, -0.36702631, ...,  1.1120022 ,\n",
              "         0.41166637, -0.05983383]])"
            ]
          },
          "metadata": {},
          "execution_count": 9
        }
      ]
    },
    {
      "cell_type": "code",
      "source": [
        "X.shape"
      ],
      "metadata": {
        "colab": {
          "base_uri": "https://localhost:8080/"
        },
        "id": "i_JDEWV2i9xQ",
        "outputId": "d4f88223-055c-498f-8729-d6011a0923e6"
      },
      "execution_count": null,
      "outputs": [
        {
          "output_type": "execute_result",
          "data": {
            "text/plain": [
              "(506, 13)"
            ]
          },
          "metadata": {},
          "execution_count": 10
        }
      ]
    },
    {
      "cell_type": "code",
      "source": [
        "model_NN = Sequential()\n",
        "\n",
        "#Add input layers\n",
        "model_NN.add(Dense(13,input_shape=(13,)))\n",
        "#add hidden layer\n",
        "\n",
        "model_NN.add(Dense(6, activation='relu'))\n",
        "\n",
        "model_NN.add(Dense(2, activation='relu'))\n",
        "\n",
        "\n",
        "#Add output layer\n",
        "model_NN.add(Dense(1, activation='linear'))"
      ],
      "metadata": {
        "id": "yxdU2LTZiZ3U"
      },
      "execution_count": null,
      "outputs": []
    },
    {
      "cell_type": "code",
      "source": [
        "from tensorflow.keras.losses import MeanSquaredLogarithmicError\n",
        "msle = MeanSquaredLogarithmicError()\n",
        "model_NN.compile(optimizer='Adam', loss=msle, metrics=[msle])"
      ],
      "metadata": {
        "id": "FbTnf-dxkH5s"
      },
      "execution_count": null,
      "outputs": []
    },
    {
      "cell_type": "code",
      "source": [
        "model = model_NN.fit(X_train,Y_train, epochs=150, validation_data=(X_test,Y_test), verbose=1, batch_size=1)"
      ],
      "metadata": {
        "colab": {
          "base_uri": "https://localhost:8080/"
        },
        "id": "5-W9elMOkuOW",
        "outputId": "dea82170-0831-49c4-cd86-4f9a757d5ab2"
      },
      "execution_count": null,
      "outputs": [
        {
          "output_type": "stream",
          "name": "stdout",
          "text": [
            "Epoch 1/150\n",
            "404/404 [==============================] - 1s 2ms/step - loss: 0.0137 - mean_squared_logarithmic_error: 0.0137 - val_loss: 0.0508 - val_mean_squared_logarithmic_error: 0.0508\n",
            "Epoch 2/150\n",
            "404/404 [==============================] - 1s 2ms/step - loss: 0.0135 - mean_squared_logarithmic_error: 0.0135 - val_loss: 0.0488 - val_mean_squared_logarithmic_error: 0.0488\n",
            "Epoch 3/150\n",
            "404/404 [==============================] - 1s 2ms/step - loss: 0.0135 - mean_squared_logarithmic_error: 0.0135 - val_loss: 0.0529 - val_mean_squared_logarithmic_error: 0.0529\n",
            "Epoch 4/150\n",
            "404/404 [==============================] - 1s 2ms/step - loss: 0.0140 - mean_squared_logarithmic_error: 0.0140 - val_loss: 0.0480 - val_mean_squared_logarithmic_error: 0.0480\n",
            "Epoch 5/150\n",
            "404/404 [==============================] - 1s 2ms/step - loss: 0.0140 - mean_squared_logarithmic_error: 0.0140 - val_loss: 0.0498 - val_mean_squared_logarithmic_error: 0.0498\n",
            "Epoch 6/150\n",
            "404/404 [==============================] - 1s 2ms/step - loss: 0.0132 - mean_squared_logarithmic_error: 0.0132 - val_loss: 0.0479 - val_mean_squared_logarithmic_error: 0.0479\n",
            "Epoch 7/150\n",
            "404/404 [==============================] - 1s 2ms/step - loss: 0.0140 - mean_squared_logarithmic_error: 0.0140 - val_loss: 0.0494 - val_mean_squared_logarithmic_error: 0.0494\n",
            "Epoch 8/150\n",
            "404/404 [==============================] - 1s 2ms/step - loss: 0.0133 - mean_squared_logarithmic_error: 0.0133 - val_loss: 0.0513 - val_mean_squared_logarithmic_error: 0.0513\n",
            "Epoch 9/150\n",
            "404/404 [==============================] - 1s 3ms/step - loss: 0.0137 - mean_squared_logarithmic_error: 0.0137 - val_loss: 0.0484 - val_mean_squared_logarithmic_error: 0.0484\n",
            "Epoch 10/150\n",
            "404/404 [==============================] - 1s 2ms/step - loss: 0.0132 - mean_squared_logarithmic_error: 0.0132 - val_loss: 0.0507 - val_mean_squared_logarithmic_error: 0.0507\n",
            "Epoch 11/150\n",
            "404/404 [==============================] - 1s 2ms/step - loss: 0.0135 - mean_squared_logarithmic_error: 0.0135 - val_loss: 0.0464 - val_mean_squared_logarithmic_error: 0.0464\n",
            "Epoch 12/150\n",
            "404/404 [==============================] - 1s 2ms/step - loss: 0.0133 - mean_squared_logarithmic_error: 0.0133 - val_loss: 0.0505 - val_mean_squared_logarithmic_error: 0.0505\n",
            "Epoch 13/150\n",
            "404/404 [==============================] - 1s 2ms/step - loss: 0.0132 - mean_squared_logarithmic_error: 0.0132 - val_loss: 0.0513 - val_mean_squared_logarithmic_error: 0.0513\n",
            "Epoch 14/150\n",
            "404/404 [==============================] - 1s 2ms/step - loss: 0.0138 - mean_squared_logarithmic_error: 0.0138 - val_loss: 0.0479 - val_mean_squared_logarithmic_error: 0.0479\n",
            "Epoch 15/150\n",
            "404/404 [==============================] - 1s 2ms/step - loss: 0.0140 - mean_squared_logarithmic_error: 0.0140 - val_loss: 0.0472 - val_mean_squared_logarithmic_error: 0.0472\n",
            "Epoch 16/150\n",
            "404/404 [==============================] - 1s 2ms/step - loss: 0.0140 - mean_squared_logarithmic_error: 0.0140 - val_loss: 0.0482 - val_mean_squared_logarithmic_error: 0.0482\n",
            "Epoch 17/150\n",
            "404/404 [==============================] - 1s 2ms/step - loss: 0.0137 - mean_squared_logarithmic_error: 0.0137 - val_loss: 0.0483 - val_mean_squared_logarithmic_error: 0.0483\n",
            "Epoch 18/150\n",
            "404/404 [==============================] - 1s 2ms/step - loss: 0.0132 - mean_squared_logarithmic_error: 0.0132 - val_loss: 0.0518 - val_mean_squared_logarithmic_error: 0.0518\n",
            "Epoch 19/150\n",
            "404/404 [==============================] - 1s 2ms/step - loss: 0.0140 - mean_squared_logarithmic_error: 0.0140 - val_loss: 0.0488 - val_mean_squared_logarithmic_error: 0.0488\n",
            "Epoch 20/150\n",
            "404/404 [==============================] - 1s 2ms/step - loss: 0.0135 - mean_squared_logarithmic_error: 0.0135 - val_loss: 0.0506 - val_mean_squared_logarithmic_error: 0.0506\n",
            "Epoch 21/150\n",
            "404/404 [==============================] - 1s 2ms/step - loss: 0.0132 - mean_squared_logarithmic_error: 0.0132 - val_loss: 0.0479 - val_mean_squared_logarithmic_error: 0.0479\n",
            "Epoch 22/150\n",
            "404/404 [==============================] - 1s 2ms/step - loss: 0.0138 - mean_squared_logarithmic_error: 0.0138 - val_loss: 0.0470 - val_mean_squared_logarithmic_error: 0.0470\n",
            "Epoch 23/150\n",
            "404/404 [==============================] - 1s 2ms/step - loss: 0.0131 - mean_squared_logarithmic_error: 0.0131 - val_loss: 0.0478 - val_mean_squared_logarithmic_error: 0.0478\n",
            "Epoch 24/150\n",
            "404/404 [==============================] - 1s 2ms/step - loss: 0.0136 - mean_squared_logarithmic_error: 0.0136 - val_loss: 0.0472 - val_mean_squared_logarithmic_error: 0.0472\n",
            "Epoch 25/150\n",
            "404/404 [==============================] - 1s 2ms/step - loss: 0.0131 - mean_squared_logarithmic_error: 0.0131 - val_loss: 0.0547 - val_mean_squared_logarithmic_error: 0.0547\n",
            "Epoch 26/150\n",
            "404/404 [==============================] - 1s 2ms/step - loss: 0.0133 - mean_squared_logarithmic_error: 0.0133 - val_loss: 0.0500 - val_mean_squared_logarithmic_error: 0.0500\n",
            "Epoch 27/150\n",
            "404/404 [==============================] - 1s 2ms/step - loss: 0.0144 - mean_squared_logarithmic_error: 0.0144 - val_loss: 0.0502 - val_mean_squared_logarithmic_error: 0.0502\n",
            "Epoch 28/150\n",
            "404/404 [==============================] - 1s 2ms/step - loss: 0.0134 - mean_squared_logarithmic_error: 0.0134 - val_loss: 0.0492 - val_mean_squared_logarithmic_error: 0.0492\n",
            "Epoch 29/150\n",
            "404/404 [==============================] - 1s 2ms/step - loss: 0.0132 - mean_squared_logarithmic_error: 0.0132 - val_loss: 0.0541 - val_mean_squared_logarithmic_error: 0.0541\n",
            "Epoch 30/150\n",
            "404/404 [==============================] - 1s 2ms/step - loss: 0.0136 - mean_squared_logarithmic_error: 0.0136 - val_loss: 0.0476 - val_mean_squared_logarithmic_error: 0.0476\n",
            "Epoch 31/150\n",
            "404/404 [==============================] - 1s 2ms/step - loss: 0.0138 - mean_squared_logarithmic_error: 0.0138 - val_loss: 0.0484 - val_mean_squared_logarithmic_error: 0.0484\n",
            "Epoch 32/150\n",
            "404/404 [==============================] - 1s 2ms/step - loss: 0.0129 - mean_squared_logarithmic_error: 0.0129 - val_loss: 0.0470 - val_mean_squared_logarithmic_error: 0.0470\n",
            "Epoch 33/150\n",
            "404/404 [==============================] - 1s 2ms/step - loss: 0.0136 - mean_squared_logarithmic_error: 0.0136 - val_loss: 0.0500 - val_mean_squared_logarithmic_error: 0.0500\n",
            "Epoch 34/150\n",
            "404/404 [==============================] - 1s 2ms/step - loss: 0.0131 - mean_squared_logarithmic_error: 0.0131 - val_loss: 0.0494 - val_mean_squared_logarithmic_error: 0.0494\n",
            "Epoch 35/150\n",
            "404/404 [==============================] - 1s 2ms/step - loss: 0.0136 - mean_squared_logarithmic_error: 0.0136 - val_loss: 0.0498 - val_mean_squared_logarithmic_error: 0.0498\n",
            "Epoch 36/150\n",
            "404/404 [==============================] - 1s 2ms/step - loss: 0.0141 - mean_squared_logarithmic_error: 0.0141 - val_loss: 0.0507 - val_mean_squared_logarithmic_error: 0.0507\n",
            "Epoch 37/150\n",
            "404/404 [==============================] - 1s 2ms/step - loss: 0.0133 - mean_squared_logarithmic_error: 0.0133 - val_loss: 0.0477 - val_mean_squared_logarithmic_error: 0.0477\n",
            "Epoch 38/150\n",
            "404/404 [==============================] - 1s 2ms/step - loss: 0.0135 - mean_squared_logarithmic_error: 0.0135 - val_loss: 0.0509 - val_mean_squared_logarithmic_error: 0.0509\n",
            "Epoch 39/150\n",
            "404/404 [==============================] - 1s 2ms/step - loss: 0.0136 - mean_squared_logarithmic_error: 0.0136 - val_loss: 0.0480 - val_mean_squared_logarithmic_error: 0.0480\n",
            "Epoch 40/150\n",
            "404/404 [==============================] - 1s 2ms/step - loss: 0.0137 - mean_squared_logarithmic_error: 0.0137 - val_loss: 0.0495 - val_mean_squared_logarithmic_error: 0.0495\n",
            "Epoch 41/150\n",
            "404/404 [==============================] - 1s 2ms/step - loss: 0.0132 - mean_squared_logarithmic_error: 0.0132 - val_loss: 0.0525 - val_mean_squared_logarithmic_error: 0.0525\n",
            "Epoch 42/150\n",
            "404/404 [==============================] - 1s 2ms/step - loss: 0.0130 - mean_squared_logarithmic_error: 0.0130 - val_loss: 0.0513 - val_mean_squared_logarithmic_error: 0.0513\n",
            "Epoch 43/150\n",
            "404/404 [==============================] - 1s 2ms/step - loss: 0.0138 - mean_squared_logarithmic_error: 0.0138 - val_loss: 0.0493 - val_mean_squared_logarithmic_error: 0.0493\n",
            "Epoch 44/150\n",
            "404/404 [==============================] - 1s 2ms/step - loss: 0.0135 - mean_squared_logarithmic_error: 0.0135 - val_loss: 0.0507 - val_mean_squared_logarithmic_error: 0.0507\n",
            "Epoch 45/150\n",
            "404/404 [==============================] - 1s 2ms/step - loss: 0.0133 - mean_squared_logarithmic_error: 0.0133 - val_loss: 0.0481 - val_mean_squared_logarithmic_error: 0.0481\n",
            "Epoch 46/150\n",
            "404/404 [==============================] - 1s 2ms/step - loss: 0.0131 - mean_squared_logarithmic_error: 0.0131 - val_loss: 0.0491 - val_mean_squared_logarithmic_error: 0.0491\n",
            "Epoch 47/150\n",
            "404/404 [==============================] - 1s 2ms/step - loss: 0.0138 - mean_squared_logarithmic_error: 0.0138 - val_loss: 0.0523 - val_mean_squared_logarithmic_error: 0.0523\n",
            "Epoch 48/150\n",
            "404/404 [==============================] - 1s 2ms/step - loss: 0.0132 - mean_squared_logarithmic_error: 0.0132 - val_loss: 0.0489 - val_mean_squared_logarithmic_error: 0.0489\n",
            "Epoch 49/150\n",
            "404/404 [==============================] - 1s 2ms/step - loss: 0.0137 - mean_squared_logarithmic_error: 0.0137 - val_loss: 0.0510 - val_mean_squared_logarithmic_error: 0.0510\n",
            "Epoch 50/150\n",
            "404/404 [==============================] - 1s 2ms/step - loss: 0.0138 - mean_squared_logarithmic_error: 0.0138 - val_loss: 0.0480 - val_mean_squared_logarithmic_error: 0.0480\n",
            "Epoch 51/150\n",
            "404/404 [==============================] - 1s 2ms/step - loss: 0.0133 - mean_squared_logarithmic_error: 0.0133 - val_loss: 0.0506 - val_mean_squared_logarithmic_error: 0.0506\n",
            "Epoch 52/150\n",
            "404/404 [==============================] - 1s 2ms/step - loss: 0.0137 - mean_squared_logarithmic_error: 0.0137 - val_loss: 0.0479 - val_mean_squared_logarithmic_error: 0.0479\n",
            "Epoch 53/150\n",
            "404/404 [==============================] - 1s 2ms/step - loss: 0.0133 - mean_squared_logarithmic_error: 0.0133 - val_loss: 0.0515 - val_mean_squared_logarithmic_error: 0.0515\n",
            "Epoch 54/150\n",
            "404/404 [==============================] - 1s 2ms/step - loss: 0.0133 - mean_squared_logarithmic_error: 0.0133 - val_loss: 0.0482 - val_mean_squared_logarithmic_error: 0.0482\n",
            "Epoch 55/150\n",
            "404/404 [==============================] - 1s 2ms/step - loss: 0.0133 - mean_squared_logarithmic_error: 0.0133 - val_loss: 0.0501 - val_mean_squared_logarithmic_error: 0.0501\n",
            "Epoch 56/150\n",
            "404/404 [==============================] - 1s 2ms/step - loss: 0.0132 - mean_squared_logarithmic_error: 0.0132 - val_loss: 0.0507 - val_mean_squared_logarithmic_error: 0.0507\n",
            "Epoch 57/150\n",
            "404/404 [==============================] - 1s 2ms/step - loss: 0.0138 - mean_squared_logarithmic_error: 0.0138 - val_loss: 0.0485 - val_mean_squared_logarithmic_error: 0.0485\n",
            "Epoch 58/150\n",
            "404/404 [==============================] - 1s 2ms/step - loss: 0.0132 - mean_squared_logarithmic_error: 0.0132 - val_loss: 0.0512 - val_mean_squared_logarithmic_error: 0.0512\n",
            "Epoch 59/150\n",
            "404/404 [==============================] - 1s 2ms/step - loss: 0.0137 - mean_squared_logarithmic_error: 0.0137 - val_loss: 0.0498 - val_mean_squared_logarithmic_error: 0.0498\n",
            "Epoch 60/150\n",
            "404/404 [==============================] - 1s 2ms/step - loss: 0.0131 - mean_squared_logarithmic_error: 0.0131 - val_loss: 0.0522 - val_mean_squared_logarithmic_error: 0.0522\n",
            "Epoch 61/150\n",
            "404/404 [==============================] - 1s 2ms/step - loss: 0.0132 - mean_squared_logarithmic_error: 0.0132 - val_loss: 0.0468 - val_mean_squared_logarithmic_error: 0.0468\n",
            "Epoch 62/150\n",
            "404/404 [==============================] - 1s 2ms/step - loss: 0.0135 - mean_squared_logarithmic_error: 0.0135 - val_loss: 0.0510 - val_mean_squared_logarithmic_error: 0.0510\n",
            "Epoch 63/150\n",
            "404/404 [==============================] - 1s 2ms/step - loss: 0.0133 - mean_squared_logarithmic_error: 0.0133 - val_loss: 0.0485 - val_mean_squared_logarithmic_error: 0.0485\n",
            "Epoch 64/150\n",
            "404/404 [==============================] - 1s 2ms/step - loss: 0.0132 - mean_squared_logarithmic_error: 0.0132 - val_loss: 0.0466 - val_mean_squared_logarithmic_error: 0.0466\n",
            "Epoch 65/150\n",
            "404/404 [==============================] - 1s 2ms/step - loss: 0.0136 - mean_squared_logarithmic_error: 0.0136 - val_loss: 0.0491 - val_mean_squared_logarithmic_error: 0.0491\n",
            "Epoch 66/150\n",
            "404/404 [==============================] - 1s 2ms/step - loss: 0.0135 - mean_squared_logarithmic_error: 0.0135 - val_loss: 0.0503 - val_mean_squared_logarithmic_error: 0.0503\n",
            "Epoch 67/150\n",
            "404/404 [==============================] - 1s 2ms/step - loss: 0.0134 - mean_squared_logarithmic_error: 0.0134 - val_loss: 0.0486 - val_mean_squared_logarithmic_error: 0.0486\n",
            "Epoch 68/150\n",
            "404/404 [==============================] - 1s 2ms/step - loss: 0.0135 - mean_squared_logarithmic_error: 0.0135 - val_loss: 0.0467 - val_mean_squared_logarithmic_error: 0.0467\n",
            "Epoch 69/150\n",
            "404/404 [==============================] - 1s 2ms/step - loss: 0.0135 - mean_squared_logarithmic_error: 0.0135 - val_loss: 0.0503 - val_mean_squared_logarithmic_error: 0.0503\n",
            "Epoch 70/150\n",
            "404/404 [==============================] - 1s 2ms/step - loss: 0.0132 - mean_squared_logarithmic_error: 0.0132 - val_loss: 0.0487 - val_mean_squared_logarithmic_error: 0.0487\n",
            "Epoch 71/150\n",
            "404/404 [==============================] - 1s 2ms/step - loss: 0.0132 - mean_squared_logarithmic_error: 0.0132 - val_loss: 0.0507 - val_mean_squared_logarithmic_error: 0.0507\n",
            "Epoch 72/150\n",
            "404/404 [==============================] - 1s 2ms/step - loss: 0.0137 - mean_squared_logarithmic_error: 0.0137 - val_loss: 0.0493 - val_mean_squared_logarithmic_error: 0.0493\n",
            "Epoch 73/150\n",
            "404/404 [==============================] - 1s 2ms/step - loss: 0.0134 - mean_squared_logarithmic_error: 0.0134 - val_loss: 0.0508 - val_mean_squared_logarithmic_error: 0.0508\n",
            "Epoch 74/150\n",
            "404/404 [==============================] - 1s 2ms/step - loss: 0.0132 - mean_squared_logarithmic_error: 0.0132 - val_loss: 0.0474 - val_mean_squared_logarithmic_error: 0.0474\n",
            "Epoch 75/150\n",
            "404/404 [==============================] - 1s 2ms/step - loss: 0.0135 - mean_squared_logarithmic_error: 0.0135 - val_loss: 0.0564 - val_mean_squared_logarithmic_error: 0.0564\n",
            "Epoch 76/150\n",
            "404/404 [==============================] - 1s 2ms/step - loss: 0.0130 - mean_squared_logarithmic_error: 0.0130 - val_loss: 0.0492 - val_mean_squared_logarithmic_error: 0.0492\n",
            "Epoch 77/150\n",
            "404/404 [==============================] - 1s 2ms/step - loss: 0.0134 - mean_squared_logarithmic_error: 0.0134 - val_loss: 0.0503 - val_mean_squared_logarithmic_error: 0.0503\n",
            "Epoch 78/150\n",
            "404/404 [==============================] - 1s 2ms/step - loss: 0.0134 - mean_squared_logarithmic_error: 0.0134 - val_loss: 0.0501 - val_mean_squared_logarithmic_error: 0.0501\n",
            "Epoch 79/150\n",
            "404/404 [==============================] - 1s 2ms/step - loss: 0.0137 - mean_squared_logarithmic_error: 0.0137 - val_loss: 0.0473 - val_mean_squared_logarithmic_error: 0.0473\n",
            "Epoch 80/150\n",
            "404/404 [==============================] - 1s 2ms/step - loss: 0.0130 - mean_squared_logarithmic_error: 0.0130 - val_loss: 0.0517 - val_mean_squared_logarithmic_error: 0.0517\n",
            "Epoch 81/150\n",
            "404/404 [==============================] - 1s 2ms/step - loss: 0.0133 - mean_squared_logarithmic_error: 0.0133 - val_loss: 0.0524 - val_mean_squared_logarithmic_error: 0.0524\n",
            "Epoch 82/150\n",
            "404/404 [==============================] - 1s 2ms/step - loss: 0.0141 - mean_squared_logarithmic_error: 0.0141 - val_loss: 0.0492 - val_mean_squared_logarithmic_error: 0.0492\n",
            "Epoch 83/150\n",
            "404/404 [==============================] - 1s 2ms/step - loss: 0.0130 - mean_squared_logarithmic_error: 0.0130 - val_loss: 0.0485 - val_mean_squared_logarithmic_error: 0.0485\n",
            "Epoch 84/150\n",
            "404/404 [==============================] - 1s 2ms/step - loss: 0.0129 - mean_squared_logarithmic_error: 0.0129 - val_loss: 0.0475 - val_mean_squared_logarithmic_error: 0.0475\n",
            "Epoch 85/150\n",
            "404/404 [==============================] - 1s 2ms/step - loss: 0.0135 - mean_squared_logarithmic_error: 0.0135 - val_loss: 0.0479 - val_mean_squared_logarithmic_error: 0.0479\n",
            "Epoch 86/150\n",
            "404/404 [==============================] - 1s 2ms/step - loss: 0.0140 - mean_squared_logarithmic_error: 0.0140 - val_loss: 0.0509 - val_mean_squared_logarithmic_error: 0.0509\n",
            "Epoch 87/150\n",
            "404/404 [==============================] - 1s 2ms/step - loss: 0.0133 - mean_squared_logarithmic_error: 0.0133 - val_loss: 0.0489 - val_mean_squared_logarithmic_error: 0.0489\n",
            "Epoch 88/150\n",
            "404/404 [==============================] - 1s 2ms/step - loss: 0.0134 - mean_squared_logarithmic_error: 0.0134 - val_loss: 0.0481 - val_mean_squared_logarithmic_error: 0.0481\n",
            "Epoch 89/150\n",
            "404/404 [==============================] - 1s 2ms/step - loss: 0.0129 - mean_squared_logarithmic_error: 0.0129 - val_loss: 0.0497 - val_mean_squared_logarithmic_error: 0.0497\n",
            "Epoch 90/150\n",
            "404/404 [==============================] - 1s 2ms/step - loss: 0.0135 - mean_squared_logarithmic_error: 0.0135 - val_loss: 0.0507 - val_mean_squared_logarithmic_error: 0.0507\n",
            "Epoch 91/150\n",
            "404/404 [==============================] - 1s 2ms/step - loss: 0.0131 - mean_squared_logarithmic_error: 0.0131 - val_loss: 0.0490 - val_mean_squared_logarithmic_error: 0.0490\n",
            "Epoch 92/150\n",
            "404/404 [==============================] - 1s 2ms/step - loss: 0.0135 - mean_squared_logarithmic_error: 0.0135 - val_loss: 0.0519 - val_mean_squared_logarithmic_error: 0.0519\n",
            "Epoch 93/150\n",
            "404/404 [==============================] - 1s 2ms/step - loss: 0.0129 - mean_squared_logarithmic_error: 0.0129 - val_loss: 0.0491 - val_mean_squared_logarithmic_error: 0.0491\n",
            "Epoch 94/150\n",
            "404/404 [==============================] - 1s 2ms/step - loss: 0.0138 - mean_squared_logarithmic_error: 0.0138 - val_loss: 0.0528 - val_mean_squared_logarithmic_error: 0.0528\n",
            "Epoch 95/150\n",
            "404/404 [==============================] - 1s 2ms/step - loss: 0.0142 - mean_squared_logarithmic_error: 0.0142 - val_loss: 0.0523 - val_mean_squared_logarithmic_error: 0.0523\n",
            "Epoch 96/150\n",
            "404/404 [==============================] - 1s 2ms/step - loss: 0.0132 - mean_squared_logarithmic_error: 0.0132 - val_loss: 0.0473 - val_mean_squared_logarithmic_error: 0.0473\n",
            "Epoch 97/150\n",
            "404/404 [==============================] - 1s 2ms/step - loss: 0.0132 - mean_squared_logarithmic_error: 0.0132 - val_loss: 0.0514 - val_mean_squared_logarithmic_error: 0.0514\n",
            "Epoch 98/150\n",
            "404/404 [==============================] - 1s 2ms/step - loss: 0.0139 - mean_squared_logarithmic_error: 0.0139 - val_loss: 0.0501 - val_mean_squared_logarithmic_error: 0.0501\n",
            "Epoch 99/150\n",
            "404/404 [==============================] - 1s 2ms/step - loss: 0.0130 - mean_squared_logarithmic_error: 0.0130 - val_loss: 0.0477 - val_mean_squared_logarithmic_error: 0.0477\n",
            "Epoch 100/150\n",
            "404/404 [==============================] - 1s 2ms/step - loss: 0.0132 - mean_squared_logarithmic_error: 0.0132 - val_loss: 0.0516 - val_mean_squared_logarithmic_error: 0.0516\n",
            "Epoch 101/150\n",
            "404/404 [==============================] - 1s 2ms/step - loss: 0.0137 - mean_squared_logarithmic_error: 0.0137 - val_loss: 0.0492 - val_mean_squared_logarithmic_error: 0.0492\n",
            "Epoch 102/150\n",
            "404/404 [==============================] - 1s 2ms/step - loss: 0.0136 - mean_squared_logarithmic_error: 0.0136 - val_loss: 0.0503 - val_mean_squared_logarithmic_error: 0.0503\n",
            "Epoch 103/150\n",
            "404/404 [==============================] - 1s 2ms/step - loss: 0.0129 - mean_squared_logarithmic_error: 0.0129 - val_loss: 0.0524 - val_mean_squared_logarithmic_error: 0.0524\n",
            "Epoch 104/150\n",
            "404/404 [==============================] - 1s 2ms/step - loss: 0.0132 - mean_squared_logarithmic_error: 0.0132 - val_loss: 0.0487 - val_mean_squared_logarithmic_error: 0.0487\n",
            "Epoch 105/150\n",
            "404/404 [==============================] - 1s 2ms/step - loss: 0.0136 - mean_squared_logarithmic_error: 0.0136 - val_loss: 0.0464 - val_mean_squared_logarithmic_error: 0.0464\n",
            "Epoch 106/150\n",
            "404/404 [==============================] - 1s 2ms/step - loss: 0.0139 - mean_squared_logarithmic_error: 0.0139 - val_loss: 0.0466 - val_mean_squared_logarithmic_error: 0.0466\n",
            "Epoch 107/150\n",
            "404/404 [==============================] - 1s 2ms/step - loss: 0.0131 - mean_squared_logarithmic_error: 0.0131 - val_loss: 0.0480 - val_mean_squared_logarithmic_error: 0.0480\n",
            "Epoch 108/150\n",
            "404/404 [==============================] - 1s 2ms/step - loss: 0.0131 - mean_squared_logarithmic_error: 0.0131 - val_loss: 0.0508 - val_mean_squared_logarithmic_error: 0.0508\n",
            "Epoch 109/150\n",
            "404/404 [==============================] - 1s 2ms/step - loss: 0.0132 - mean_squared_logarithmic_error: 0.0132 - val_loss: 0.0527 - val_mean_squared_logarithmic_error: 0.0527\n",
            "Epoch 110/150\n",
            "404/404 [==============================] - 1s 2ms/step - loss: 0.0137 - mean_squared_logarithmic_error: 0.0137 - val_loss: 0.0510 - val_mean_squared_logarithmic_error: 0.0510\n",
            "Epoch 111/150\n",
            "404/404 [==============================] - 1s 2ms/step - loss: 0.0135 - mean_squared_logarithmic_error: 0.0135 - val_loss: 0.0519 - val_mean_squared_logarithmic_error: 0.0519\n",
            "Epoch 112/150\n",
            "404/404 [==============================] - 1s 2ms/step - loss: 0.0134 - mean_squared_logarithmic_error: 0.0134 - val_loss: 0.0524 - val_mean_squared_logarithmic_error: 0.0524\n",
            "Epoch 113/150\n",
            "404/404 [==============================] - 1s 2ms/step - loss: 0.0135 - mean_squared_logarithmic_error: 0.0135 - val_loss: 0.0546 - val_mean_squared_logarithmic_error: 0.0546\n",
            "Epoch 114/150\n",
            "404/404 [==============================] - 1s 2ms/step - loss: 0.0130 - mean_squared_logarithmic_error: 0.0130 - val_loss: 0.0487 - val_mean_squared_logarithmic_error: 0.0487\n",
            "Epoch 115/150\n",
            "404/404 [==============================] - 1s 2ms/step - loss: 0.0130 - mean_squared_logarithmic_error: 0.0130 - val_loss: 0.0539 - val_mean_squared_logarithmic_error: 0.0539\n",
            "Epoch 116/150\n",
            "404/404 [==============================] - 1s 2ms/step - loss: 0.0138 - mean_squared_logarithmic_error: 0.0138 - val_loss: 0.0501 - val_mean_squared_logarithmic_error: 0.0501\n",
            "Epoch 117/150\n",
            "404/404 [==============================] - 1s 2ms/step - loss: 0.0131 - mean_squared_logarithmic_error: 0.0131 - val_loss: 0.0496 - val_mean_squared_logarithmic_error: 0.0496\n",
            "Epoch 118/150\n",
            "404/404 [==============================] - 1s 2ms/step - loss: 0.0139 - mean_squared_logarithmic_error: 0.0139 - val_loss: 0.0486 - val_mean_squared_logarithmic_error: 0.0486\n",
            "Epoch 119/150\n",
            "404/404 [==============================] - 1s 2ms/step - loss: 0.0130 - mean_squared_logarithmic_error: 0.0130 - val_loss: 0.0509 - val_mean_squared_logarithmic_error: 0.0509\n",
            "Epoch 120/150\n",
            "404/404 [==============================] - 1s 2ms/step - loss: 0.0129 - mean_squared_logarithmic_error: 0.0129 - val_loss: 0.0482 - val_mean_squared_logarithmic_error: 0.0482\n",
            "Epoch 121/150\n",
            "404/404 [==============================] - 1s 2ms/step - loss: 0.0136 - mean_squared_logarithmic_error: 0.0136 - val_loss: 0.0479 - val_mean_squared_logarithmic_error: 0.0479\n",
            "Epoch 122/150\n",
            "404/404 [==============================] - 1s 2ms/step - loss: 0.0133 - mean_squared_logarithmic_error: 0.0133 - val_loss: 0.0457 - val_mean_squared_logarithmic_error: 0.0457\n",
            "Epoch 123/150\n",
            "404/404 [==============================] - 1s 2ms/step - loss: 0.0127 - mean_squared_logarithmic_error: 0.0127 - val_loss: 0.0484 - val_mean_squared_logarithmic_error: 0.0484\n",
            "Epoch 124/150\n",
            "404/404 [==============================] - 1s 2ms/step - loss: 0.0133 - mean_squared_logarithmic_error: 0.0133 - val_loss: 0.0538 - val_mean_squared_logarithmic_error: 0.0538\n",
            "Epoch 125/150\n",
            "404/404 [==============================] - 1s 2ms/step - loss: 0.0133 - mean_squared_logarithmic_error: 0.0133 - val_loss: 0.0463 - val_mean_squared_logarithmic_error: 0.0463\n",
            "Epoch 126/150\n",
            "404/404 [==============================] - 1s 2ms/step - loss: 0.0130 - mean_squared_logarithmic_error: 0.0130 - val_loss: 0.0486 - val_mean_squared_logarithmic_error: 0.0486\n",
            "Epoch 127/150\n",
            "404/404 [==============================] - 1s 2ms/step - loss: 0.0133 - mean_squared_logarithmic_error: 0.0133 - val_loss: 0.0517 - val_mean_squared_logarithmic_error: 0.0517\n",
            "Epoch 128/150\n",
            "404/404 [==============================] - 1s 2ms/step - loss: 0.0133 - mean_squared_logarithmic_error: 0.0133 - val_loss: 0.0511 - val_mean_squared_logarithmic_error: 0.0511\n",
            "Epoch 129/150\n",
            "404/404 [==============================] - 1s 2ms/step - loss: 0.0135 - mean_squared_logarithmic_error: 0.0135 - val_loss: 0.0469 - val_mean_squared_logarithmic_error: 0.0469\n",
            "Epoch 130/150\n",
            "404/404 [==============================] - 1s 2ms/step - loss: 0.0141 - mean_squared_logarithmic_error: 0.0141 - val_loss: 0.0486 - val_mean_squared_logarithmic_error: 0.0486\n",
            "Epoch 131/150\n",
            "404/404 [==============================] - 1s 2ms/step - loss: 0.0132 - mean_squared_logarithmic_error: 0.0132 - val_loss: 0.0466 - val_mean_squared_logarithmic_error: 0.0466\n",
            "Epoch 132/150\n",
            "404/404 [==============================] - 1s 2ms/step - loss: 0.0129 - mean_squared_logarithmic_error: 0.0129 - val_loss: 0.0497 - val_mean_squared_logarithmic_error: 0.0497\n",
            "Epoch 133/150\n",
            "404/404 [==============================] - 1s 2ms/step - loss: 0.0134 - mean_squared_logarithmic_error: 0.0134 - val_loss: 0.0476 - val_mean_squared_logarithmic_error: 0.0476\n",
            "Epoch 134/150\n",
            "404/404 [==============================] - 1s 2ms/step - loss: 0.0132 - mean_squared_logarithmic_error: 0.0132 - val_loss: 0.0514 - val_mean_squared_logarithmic_error: 0.0514\n",
            "Epoch 135/150\n",
            "404/404 [==============================] - 1s 2ms/step - loss: 0.0133 - mean_squared_logarithmic_error: 0.0133 - val_loss: 0.0468 - val_mean_squared_logarithmic_error: 0.0468\n",
            "Epoch 136/150\n",
            "404/404 [==============================] - 1s 2ms/step - loss: 0.0129 - mean_squared_logarithmic_error: 0.0129 - val_loss: 0.0488 - val_mean_squared_logarithmic_error: 0.0488\n",
            "Epoch 137/150\n",
            "404/404 [==============================] - 1s 2ms/step - loss: 0.0135 - mean_squared_logarithmic_error: 0.0135 - val_loss: 0.0495 - val_mean_squared_logarithmic_error: 0.0495\n",
            "Epoch 138/150\n",
            "404/404 [==============================] - 1s 2ms/step - loss: 0.0137 - mean_squared_logarithmic_error: 0.0137 - val_loss: 0.0475 - val_mean_squared_logarithmic_error: 0.0475\n",
            "Epoch 139/150\n",
            "404/404 [==============================] - 1s 2ms/step - loss: 0.0138 - mean_squared_logarithmic_error: 0.0138 - val_loss: 0.0496 - val_mean_squared_logarithmic_error: 0.0496\n",
            "Epoch 140/150\n",
            "404/404 [==============================] - 1s 2ms/step - loss: 0.0132 - mean_squared_logarithmic_error: 0.0132 - val_loss: 0.0516 - val_mean_squared_logarithmic_error: 0.0516\n",
            "Epoch 141/150\n",
            "404/404 [==============================] - 1s 2ms/step - loss: 0.0133 - mean_squared_logarithmic_error: 0.0133 - val_loss: 0.0527 - val_mean_squared_logarithmic_error: 0.0527\n",
            "Epoch 142/150\n",
            "404/404 [==============================] - 1s 2ms/step - loss: 0.0132 - mean_squared_logarithmic_error: 0.0132 - val_loss: 0.0481 - val_mean_squared_logarithmic_error: 0.0481\n",
            "Epoch 143/150\n",
            "404/404 [==============================] - 1s 2ms/step - loss: 0.0134 - mean_squared_logarithmic_error: 0.0134 - val_loss: 0.0464 - val_mean_squared_logarithmic_error: 0.0464\n",
            "Epoch 144/150\n",
            "404/404 [==============================] - 1s 2ms/step - loss: 0.0125 - mean_squared_logarithmic_error: 0.0125 - val_loss: 0.0533 - val_mean_squared_logarithmic_error: 0.0533\n",
            "Epoch 145/150\n",
            "404/404 [==============================] - 1s 2ms/step - loss: 0.0131 - mean_squared_logarithmic_error: 0.0131 - val_loss: 0.0499 - val_mean_squared_logarithmic_error: 0.0499\n",
            "Epoch 146/150\n",
            "404/404 [==============================] - 1s 2ms/step - loss: 0.0129 - mean_squared_logarithmic_error: 0.0129 - val_loss: 0.0503 - val_mean_squared_logarithmic_error: 0.0503\n",
            "Epoch 147/150\n",
            "404/404 [==============================] - 1s 2ms/step - loss: 0.0134 - mean_squared_logarithmic_error: 0.0134 - val_loss: 0.0475 - val_mean_squared_logarithmic_error: 0.0475\n",
            "Epoch 148/150\n",
            "404/404 [==============================] - 1s 2ms/step - loss: 0.0134 - mean_squared_logarithmic_error: 0.0134 - val_loss: 0.0482 - val_mean_squared_logarithmic_error: 0.0482\n",
            "Epoch 149/150\n",
            "404/404 [==============================] - 1s 2ms/step - loss: 0.0132 - mean_squared_logarithmic_error: 0.0132 - val_loss: 0.0483 - val_mean_squared_logarithmic_error: 0.0483\n",
            "Epoch 150/150\n",
            "404/404 [==============================] - 1s 2ms/step - loss: 0.0135 - mean_squared_logarithmic_error: 0.0135 - val_loss: 0.0494 - val_mean_squared_logarithmic_error: 0.0494\n"
          ]
        }
      ]
    },
    {
      "cell_type": "code",
      "source": [
        "prediction=model_NN.predict(X_test)"
      ],
      "metadata": {
        "id": "__aol3SZXOSj"
      },
      "execution_count": null,
      "outputs": []
    },
    {
      "cell_type": "code",
      "source": [
        "prediction"
      ],
      "metadata": {
        "colab": {
          "base_uri": "https://localhost:8080/"
        },
        "id": "7fzS4W6PohyB",
        "outputId": "f3b2fca9-6a4e-4ddc-8df1-671d12cc6818"
      },
      "execution_count": null,
      "outputs": [
        {
          "output_type": "execute_result",
          "data": {
            "text/plain": [
              "array([[24.826365 ],\n",
              "       [23.912764 ],\n",
              "       [23.126709 ],\n",
              "       [11.559817 ],\n",
              "       [18.803068 ],\n",
              "       [18.97487  ],\n",
              "       [23.152943 ],\n",
              "       [22.000607 ],\n",
              "       [17.95646  ],\n",
              "       [11.357902 ],\n",
              "       [ 9.630702 ],\n",
              "       [12.963051 ],\n",
              "       [13.635058 ],\n",
              "       [10.552457 ],\n",
              "       [39.706875 ],\n",
              "       [34.27452  ],\n",
              "       [25.76583  ],\n",
              "       [39.807693 ],\n",
              "       [28.59053  ],\n",
              "       [22.155958 ],\n",
              "       [24.222553 ],\n",
              "       [22.383492 ],\n",
              "       [19.41945  ],\n",
              "       [26.682543 ],\n",
              "       [21.073019 ],\n",
              "       [18.56223  ],\n",
              "       [17.452272 ],\n",
              "       [16.136986 ],\n",
              "       [44.436924 ],\n",
              "       [19.208225 ],\n",
              "       [15.292809 ],\n",
              "       [18.4099   ],\n",
              "       [19.468534 ],\n",
              "       [21.295322 ],\n",
              "       [25.966167 ],\n",
              "       [18.106827 ],\n",
              "       [ 8.989462 ],\n",
              "       [29.192076 ],\n",
              "       [14.150711 ],\n",
              "       [13.241858 ],\n",
              "       [23.189634 ],\n",
              "       [21.858109 ],\n",
              "       [22.28338  ],\n",
              "       [16.019806 ],\n",
              "       [23.463518 ],\n",
              "       [23.88455  ],\n",
              "       [17.31053  ],\n",
              "       [10.294116 ],\n",
              "       [13.829496 ],\n",
              "       [23.750458 ],\n",
              "       [ 4.941054 ],\n",
              "       [22.034836 ],\n",
              "       [20.900225 ],\n",
              "       [44.995174 ],\n",
              "       [13.389436 ],\n",
              "       [21.22182  ],\n",
              "       [20.985544 ],\n",
              "       [18.536055 ],\n",
              "       [13.165246 ],\n",
              "       [21.613403 ],\n",
              "       [18.487673 ],\n",
              "       [20.254885 ],\n",
              "       [32.798954 ],\n",
              "       [28.031443 ],\n",
              "       [19.505796 ],\n",
              "       [27.45242  ],\n",
              "       [14.668324 ],\n",
              "       [20.09396  ],\n",
              "       [12.732296 ],\n",
              "       [20.88497  ],\n",
              "       [19.45152  ],\n",
              "       [22.383896 ],\n",
              "       [25.516186 ],\n",
              "       [28.717817 ],\n",
              "       [31.43391  ],\n",
              "       [ 8.549089 ],\n",
              "       [44.635128 ],\n",
              "       [21.585854 ],\n",
              "       [26.66183  ],\n",
              "       [20.062874 ],\n",
              "       [25.996769 ],\n",
              "       [19.317102 ],\n",
              "       [19.802689 ],\n",
              "       [44.62312  ],\n",
              "       [49.432518 ],\n",
              "       [23.6261   ],\n",
              "       [25.02492  ],\n",
              "       [13.463462 ],\n",
              "       [29.443647 ],\n",
              "       [14.7745695],\n",
              "       [20.513422 ],\n",
              "       [ 9.937453 ],\n",
              "       [21.346802 ],\n",
              "       [28.662527 ],\n",
              "       [19.41288  ],\n",
              "       [20.331112 ],\n",
              "       [10.188151 ],\n",
              "       [23.88483  ],\n",
              "       [12.169021 ],\n",
              "       [18.856163 ],\n",
              "       [23.0663   ],\n",
              "       [19.600506 ]], dtype=float32)"
            ]
          },
          "metadata": {},
          "execution_count": 30
        }
      ]
    },
    {
      "cell_type": "markdown",
      "source": [
        ""
      ],
      "metadata": {
        "id": "ImTnqi87pBDa"
      }
    },
    {
      "cell_type": "code",
      "source": [
        "from sklearn.metrics import accuracy_score,confusion_matrix,classification_report\n",
        "DNN_pred=model_NN.predict(X_test)\n",
        "DNN_pred=(DNN_pred>0.5)\n",
        "print(\"The confusion matrix of Logistic regression \\n\", confusion_matrix(Y_test,DNN_pred))\n",
        "print(\"The classification report of Logistic regression is \\n\", classification_report(Y_test,DNN_pred))\n"
      ],
      "metadata": {
        "colab": {
          "base_uri": "https://localhost:8080/"
        },
        "id": "SzHitkMeYgKV",
        "outputId": "0933a859-1916-4090-c7f4-6211f545ad35"
      },
      "execution_count": null,
      "outputs": [
        {
          "output_type": "stream",
          "name": "stdout",
          "text": [
            "The confusion matrix of Logistic regression \n",
            " [[64  3]\n",
            " [ 3 44]]\n",
            "The classification report of Logistic regression is \n",
            "               precision    recall  f1-score   support\n",
            "\n",
            "           0       0.96      0.96      0.96        67\n",
            "           1       0.94      0.94      0.94        47\n",
            "\n",
            "    accuracy                           0.95       114\n",
            "   macro avg       0.95      0.95      0.95       114\n",
            "weighted avg       0.95      0.95      0.95       114\n",
            "\n"
          ]
        }
      ]
    }
  ]
}