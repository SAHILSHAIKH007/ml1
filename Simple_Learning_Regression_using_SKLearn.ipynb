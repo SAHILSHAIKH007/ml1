
    {
      "cell_type": "markdown",
      "source": [
        "**Code**"
      ],
      "metadata": {
        "id": "aRB68wvTqAQ-"
      }
    },
    {
      "cell_type": "code",
      "execution_count": null,
      "metadata": {
        "id": "x5vgfMieFooi"
      },
      "outputs": [],
      "source": [
        "## Importing the libraries\n",
        "import numpy as np\n",
        "from sklearn.linear_model import LinearRegression\n",
        "import pandas as pd\n",
        "import matplotlib.pyplot as plt\n",
        "import warnings\n",
        "warnings.filterwarnings('ignore')"
      ]
    },
    {
      "cell_type": "code",
      "source": [
        "data=pd.read_csv('ML1.csv') ## Reading the file and storing it\n",
        "## Assigning variables to the columns\n",
        "x=data[['A']]  \n",
        "y=data[['B']]"
      ],
      "metadata": {
        "id": "Bo51Iw3ZIBa3"
      },
      "execution_count": null,
      "outputs": []
    },
    {
      "cell_type": "code",
      "source": [
        "print(data)"
      ],
      "metadata": {
        "colab": {
          "base_uri": "https://localhost:8080/"
        },
        "id": "mDgyRQVNIeed",
        "outputId": "ed5e3642-6322-4f34-c4ff-f8dc0d274345"
      },
      "execution_count": null,
      "outputs": [
        {
          "output_type": "stream",
          "name": "stdout",
          "text": [
            "   A   B\n",
            "0  1  50\n",
            "1  3  40\n",
            "2  4  35\n",
            "3  5  30\n",
            "4  6  20\n",
            "5  7  15\n",
            "6  8  10\n"
          ]
        }
      ]
    },
    {
      "cell_type": "code",
      "source": [
        "data.plot(kind='scatter',x='A',y='B') ## Scatter plot between the two variables\n",
        "plt.show()"
      ],
      "metadata": {
        "colab": {
          "base_uri": "https://localhost:8080/",
          "height": 279
        },
        "id": "LorrBgeJIhi3",
        "outputId": "dfea42ef-db86-4c37-8f33-2c15967741e4"
      },
      "execution_count": null,
      "outputs": [
        {
          "output_type": "display_data",
          "data": {
            "image/png": "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\n",
            "text/plain": [
              "<Figure size 432x288 with 1 Axes>"
            ]
          },
          "metadata": {
            "needs_background": "light"
          }
        }
      ]
    },
    {
      "cell_type": "code",
      "source": [
        "model=LinearRegression() ## Linear Regression object created\n",
        "model.fit(x,y) ##Model is trained in x,y"
      ],
      "metadata": {
        "colab": {
          "base_uri": "https://localhost:8080/"
        },
        "id": "NPYBT6AEI02M",
        "outputId": "5efa4848-2205-4adc-8de5-4975d602eb48"
      },
      "execution_count": null,
      "outputs": [
        {
          "output_type": "execute_result",
          "data": {
            "text/plain": [
              "LinearRegression()"
            ]
          },
          "metadata": {},
          "execution_count": 5
        }
      ]
    },
    {
      "cell_type": "code",
      "source": [
        "r_sq = model.score(x,y) ## To test accuracy of the model\n",
        "print(\"r^2 is\", r_sq)"
      ],
      "metadata": {
        "colab": {
          "base_uri": "https://localhost:8080/"
        },
        "id": "oDfTaHO5JAAD",
        "outputId": "485718c8-be34-4673-b913-29b2e82bb653"
      },
      "execution_count": null,
      "outputs": [
        {
          "output_type": "stream",
          "name": "stdout",
          "text": [
            "r^2 is 0.9893039893869042\n"
          ]
        }
      ]
    },
    {
      "cell_type": "code",
      "source": [
        "print('intercept:',model.intercept_) ## Value of b0\n",
        "print('slope',model.coef_) ##Value of b1"
      ],
      "metadata": {
        "colab": {
          "base_uri": "https://localhost:8080/"
        },
        "id": "72kcSzr8J3MT",
        "outputId": "386b1187-b3bc-4bd4-f107-5504e92a2f96"
      },
      "execution_count": null,
      "outputs": [
        {
          "output_type": "stream",
          "name": "stdout",
          "text": [
            "intercept: [57.33606557]\n",
            "slope [[-5.92213115]]\n"
          ]
        }
      ]
    },
    {
      "cell_type": "code",
      "source": [
        "model.predict([[15]]) ## Prediction made when input is 15"
      ],
      "metadata": {
        "colab": {
          "base_uri": "https://localhost:8080/"
        },
        "id": "rLnI81T5KiDD",
        "outputId": "e132b44c-d534-40a0-beba-e04b7ca51f2d"
      },
      "execution_count": null,
      "outputs": [
        {
          "output_type": "execute_result",
          "data": {
            "text/plain": [
              "array([[-31.49590164]])"
            ]
          },
          "metadata": {},
          "execution_count": 8
        }
      ]
    },
    {
      "cell_type": "code",
      "source": [
        "ypred=model.predict(x) ## Predicted values for all inputs of years_experience\n",
        "ypred"
      ],
      "metadata": {
        "colab": {
          "base_uri": "https://localhost:8080/"
        },
        "id": "EeaoVgg9KtOk",
        "outputId": "30b251b0-d000-4e40-ebe2-775b34aaebde"
      },
      "execution_count": null,
      "outputs": [
        {
          "output_type": "execute_result",
          "data": {
            "text/plain": [
              "array([[51.41393443],\n",
              "       [39.56967213],\n",
              "       [33.64754098],\n",
              "       [27.72540984],\n",
              "       [21.80327869],\n",
              "       [15.88114754],\n",
              "       [ 9.95901639]])"
            ]
          },
          "metadata": {},
          "execution_count": 9
        }
      ]
    },
    {
      "cell_type": "code",
      "source": [
        "data[['Salary.pred']]=ypred ## New table made of predicted value"
      ],
      "metadata": {
        "id": "Nf8GbyYEK26o"
      },
      "execution_count": null,
      "outputs": []
    },
    {
      "cell_type": "code",
      "source": [
        "data"
      ],
      "metadata": {
        "colab": {
          "base_uri": "https://localhost:8080/",
          "height": 268
        },
        "id": "VIH3f0G7K_t3",
        "outputId": "49715d26-80cb-4efb-a3a4-096c3561d174"
      },
      "execution_count": null,
      "outputs": [
        {
          "output_type": "execute_result",
          "data": {
            "text/html": [
              "\n",
              "  <div id=\"df-a639334c-25fc-47a3-9551-ab7fb7144cc8\">\n",
              "    <div class=\"colab-df-container\">\n",
              "      <div>\n",
              "<style scoped>\n",
              "    .dataframe tbody tr th:only-of-type {\n",
              "        vertical-align: middle;\n",
              "    }\n",
              "\n",
              "    .dataframe tbody tr th {\n",
              "        vertical-align: top;\n",
              "    }\n",
              "\n",
              "    .dataframe thead th {\n",
              "        text-align: right;\n",
              "    }\n",
              "</style>\n",
              "<table border=\"1\" class=\"dataframe\">\n",
              "  <thead>\n",
              "    <tr style=\"text-align: right;\">\n",
              "      <th></th>\n",
              "      <th>A</th>\n",
              "      <th>B</th>\n",
              "      <th>Salary.pred</th>\n",
              "    </tr>\n",
              "  </thead>\n",
              "  <tbody>\n",
              "    <tr>\n",
              "      <th>0</th>\n",
              "      <td>1</td>\n",
              "      <td>50</td>\n",
              "      <td>51.413934</td>\n",
              "    </tr>\n",
              "    <tr>\n",
              "      <th>1</th>\n",
              "      <td>3</td>\n",
              "      <td>40</td>\n",
              "      <td>39.569672</td>\n",
              "    </tr>\n",
              "    <tr>\n",
              "      <th>2</th>\n",
              "      <td>4</td>\n",
              "      <td>35</td>\n",
              "      <td>33.647541</td>\n",
              "    </tr>\n",
              "    <tr>\n",
              "      <th>3</th>\n",
              "      <td>5</td>\n",
              "      <td>30</td>\n",
              "      <td>27.725410</td>\n",
              "    </tr>\n",
              "    <tr>\n",
              "      <th>4</th>\n",
              "      <td>6</td>\n",
              "      <td>20</td>\n",
              "      <td>21.803279</td>\n",
              "    </tr>\n",
              "    <tr>\n",
              "      <th>5</th>\n",
              "      <td>7</td>\n",
              "      <td>15</td>\n",
              "      <td>15.881148</td>\n",
              "    </tr>\n",
              "    <tr>\n",
              "      <th>6</th>\n",
              "      <td>8</td>\n",
              "      <td>10</td>\n",
              "      <td>9.959016</td>\n",
              "    </tr>\n",
              "  </tbody>\n",
              "</table>\n",
              "</div>\n",
              "      <button class=\"colab-df-convert\" onclick=\"convertToInteractive('df-a639334c-25fc-47a3-9551-ab7fb7144cc8')\"\n",
              "              title=\"Convert this dataframe to an interactive table.\"\n",
              "              style=\"display:none;\">\n",
              "        \n",
              "  <svg xmlns=\"http://www.w3.org/2000/svg\" height=\"24px\"viewBox=\"0 0 24 24\"\n",
              "       width=\"24px\">\n",
              "    <path d=\"M0 0h24v24H0V0z\" fill=\"none\"/>\n",
              "    <path d=\"M18.56 5.44l.94 2.06.94-2.06 2.06-.94-2.06-.94-.94-2.06-.94 2.06-2.06.94zm-11 1L8.5 8.5l.94-2.06 2.06-.94-2.06-.94L8.5 2.5l-.94 2.06-2.06.94zm10 10l.94 2.06.94-2.06 2.06-.94-2.06-.94-.94-2.06-.94 2.06-2.06.94z\"/><path d=\"M17.41 7.96l-1.37-1.37c-.4-.4-.92-.59-1.43-.59-.52 0-1.04.2-1.43.59L10.3 9.45l-7.72 7.72c-.78.78-.78 2.05 0 2.83L4 21.41c.39.39.9.59 1.41.59.51 0 1.02-.2 1.41-.59l7.78-7.78 2.81-2.81c.8-.78.8-2.07 0-2.86zM5.41 20L4 18.59l7.72-7.72 1.47 1.35L5.41 20z\"/>\n",
              "  </svg>\n",
              "      </button>\n",
              "      \n",
              "  <style>\n",
              "    .colab-df-container {\n",
              "      display:flex;\n",
              "      flex-wrap:wrap;\n",
              "      gap: 12px;\n",
              "    }\n",
              "\n",
              "    .colab-df-convert {\n",
              "      background-color: #E8F0FE;\n",
              "      border: none;\n",
              "      border-radius: 50%;\n",
              "      cursor: pointer;\n",
              "      display: none;\n",
              "      fill: #1967D2;\n",
              "      height: 32px;\n",
              "      padding: 0 0 0 0;\n",
              "      width: 32px;\n",
              "    }\n",
              "\n",
              "    .colab-df-convert:hover {\n",
              "      background-color: #E2EBFA;\n",
              "      box-shadow: 0px 1px 2px rgba(60, 64, 67, 0.3), 0px 1px 3px 1px rgba(60, 64, 67, 0.15);\n",
              "      fill: #174EA6;\n",
              "    }\n",
              "\n",
              "    [theme=dark] .colab-df-convert {\n",
              "      background-color: #3B4455;\n",
              "      fill: #D2E3FC;\n",
              "    }\n",
              "\n",
              "    [theme=dark] .colab-df-convert:hover {\n",
              "      background-color: #434B5C;\n",
              "      box-shadow: 0px 1px 3px 1px rgba(0, 0, 0, 0.15);\n",
              "      filter: drop-shadow(0px 1px 2px rgba(0, 0, 0, 0.3));\n",
              "      fill: #FFFFFF;\n",
              "    }\n",
              "  </style>\n",
              "\n",
              "      <script>\n",
              "        const buttonEl =\n",
              "          document.querySelector('#df-a639334c-25fc-47a3-9551-ab7fb7144cc8 button.colab-df-convert');\n",
              "        buttonEl.style.display =\n",
              "          google.colab.kernel.accessAllowed ? 'block' : 'none';\n",
              "\n",
              "        async function convertToInteractive(key) {\n",
              "          const element = document.querySelector('#df-a639334c-25fc-47a3-9551-ab7fb7144cc8');\n",
              "          const dataTable =\n",
              "            await google.colab.kernel.invokeFunction('convertToInteractive',\n",
              "                                                     [key], {});\n",
              "          if (!dataTable) return;\n",
              "\n",
              "          const docLinkHtml = 'Like what you see? Visit the ' +\n",
              "            '<a target=\"_blank\" href=https://colab.research.google.com/notebooks/data_table.ipynb>data table notebook</a>'\n",
              "            + ' to learn more about interactive tables.';\n",
              "          element.innerHTML = '';\n",
              "          dataTable['output_type'] = 'display_data';\n",
              "          await google.colab.output.renderOutput(dataTable, element);\n",
              "          const docLink = document.createElement('div');\n",
              "          docLink.innerHTML = docLinkHtml;\n",
              "          element.appendChild(docLink);\n",
              "        }\n",
              "      </script>\n",
              "    </div>\n",
              "  </div>\n",
              "  "
            ],
            "text/plain": [
              "   A   B  Salary.pred\n",
              "0  1  50    51.413934\n",
              "1  3  40    39.569672\n",
              "2  4  35    33.647541\n",
              "3  5  30    27.725410\n",
              "4  6  20    21.803279\n",
              "5  7  15    15.881148\n",
              "6  8  10     9.959016"
            ]
          },
          "metadata": {},
          "execution_count": 11
        }
      ]
    },
    {
      "cell_type": "code",
      "source": [
        "## Scatter plot showing relation between years_experience, salary , predicted salary\n",
        "plt.xlabel('A')\n",
        "plt.ylabel('B')\n",
        "plt.scatter(x,y)\n",
        "plt.plot(x,ypred,color='red')\n",
        "plt.show()"
      ],
      "metadata": {
        "colab": {
          "base_uri": "https://localhost:8080/",
          "height": 279
        },
        "id": "m7sX-7F4LJaz",
        "outputId": "b1063d41-4786-47ff-d112-b2f4aacedde6"
      },
      "execution_count": null,
      "outputs": [
        {
          "output_type": "display_data",
          "data": {
            "image/png": "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\n",
            "text/plain": [
              "<Figure size 432x288 with 1 Axes>"
            ]
          },
          "metadata": {
            "needs_background": "light"
          }
        }
      ]
    },
    {
      "cell_type": "markdown",
      "source": [
        "# **Simple linear regression using equations without using built in functions**"
      ],
      "metadata": {
        "id": "B1Bn-CX9MLSF"
      }
    },
    {
      "cell_type": "markdown",
      "source": [
        "**Step 1-** Read the dataset.\n",
        "\n",
        "**Step 2-** Assign  values of the table to two different variables x and y.\n",
        "\n",
        "**Step 3-** Find out the values of b1 and b0 using the formulaes.\n",
        "\n",
        "**Step 4-** Using the value of b1 and b0 find out the predicted values.\n",
        "\n",
        "**Step 5-** Find out ssr,sse,sst and  then r^2 to test the accuracy of the model. \n",
        "\n",
        "**Step 6-** Use the scatter plot to visualise the relation between the predicted output and output for the same input "
      ],
      "metadata": {
        "id": "fVlEawk-u0du"
      }
    },
    {
      "cell_type": "code",
      "source": [
        "data_s=pd.read_csv('ML1.csv')"
      ],
      "metadata": {
        "id": "pFK5pFa4NDZb"
      },
      "execution_count": null,
      "outputs": []
    },
    {
      "cell_type": "code",
      "source": [
        "xMean=data_s['A'].mean() ## Calculation of x mean\n",
        "yMean=data_s['B'].mean() ## Calculation of y mean\n",
        "print(\"xMean=\",xMean)\n",
        "print(\"yMean=\",yMean)"
      ],
      "metadata": {
        "colab": {
          "base_uri": "https://localhost:8080/"
        },
        "id": "owz50NGCMoPU",
        "outputId": "d12a2554-4ecc-48e2-93bc-49f6f77546db"
      },
      "execution_count": null,
      "outputs": [
        {
          "output_type": "stream",
          "name": "stdout",
          "text": [
            "xMean= 4.857142857142857\n",
            "yMean= 28.571428571428573\n"
          ]
        }
      ]
    },
    {
      "cell_type": "code",
      "source": [
        "data_s['xi-xMean']=data_s['A']-xMean ##Adding a table of xi-xMean\n",
        "data_s['yi-yMean']=data_s['B']-yMean ##Adding a table of yi-yMean\n",
        "data_s"
      ],
      "metadata": {
        "colab": {
          "base_uri": "https://localhost:8080/",
          "height": 268
        },
        "id": "FWvbEqUbPP6r",
        "outputId": "72a53353-d3fc-45c1-923c-450defaadca0"
      },
      "execution_count": null,
      "outputs": [
        {
          "output_type": "execute_result",
          "data": {
            "text/html": [
              "\n",
              "  <div id=\"df-c2be255e-1d1d-4e0f-8310-18eb8607d011\">\n",
              "    <div class=\"colab-df-container\">\n",
              "      <div>\n",
              "<style scoped>\n",
              "    .dataframe tbody tr th:only-of-type {\n",
              "        vertical-align: middle;\n",
              "    }\n",
              "\n",
              "    .dataframe tbody tr th {\n",
              "        vertical-align: top;\n",
              "    }\n",
              "\n",
              "    .dataframe thead th {\n",
              "        text-align: right;\n",
              "    }\n",
              "</style>\n",
              "<table border=\"1\" class=\"dataframe\">\n",
              "  <thead>\n",
              "    <tr style=\"text-align: right;\">\n",
              "      <th></th>\n",
              "      <th>A</th>\n",
              "      <th>B</th>\n",
              "      <th>xi-xMean</th>\n",
              "      <th>yi-yMean</th>\n",
              "    </tr>\n",
              "  </thead>\n",
              "  <tbody>\n",
              "    <tr>\n",
              "      <th>0</th>\n",
              "      <td>1</td>\n",
              "      <td>50</td>\n",
              "      <td>-3.857143</td>\n",
              "      <td>21.428571</td>\n",
              "    </tr>\n",
              "    <tr>\n",
              "      <th>1</th>\n",
              "      <td>3</td>\n",
              "      <td>40</td>\n",
              "      <td>-1.857143</td>\n",
              "      <td>11.428571</td>\n",
              "    </tr>\n",
              "    <tr>\n",
              "      <th>2</th>\n",
              "      <td>4</td>\n",
              "      <td>35</td>\n",
              "      <td>-0.857143</td>\n",
              "      <td>6.428571</td>\n",
              "    </tr>\n",
              "    <tr>\n",
              "      <th>3</th>\n",
              "      <td>5</td>\n",
              "      <td>30</td>\n",
              "      <td>0.142857</td>\n",
              "      <td>1.428571</td>\n",
              "    </tr>\n",
              "    <tr>\n",
              "      <th>4</th>\n",
              "      <td>6</td>\n",
              "      <td>20</td>\n",
              "      <td>1.142857</td>\n",
              "      <td>-8.571429</td>\n",
              "    </tr>\n",
              "    <tr>\n",
              "      <th>5</th>\n",
              "      <td>7</td>\n",
              "      <td>15</td>\n",
              "      <td>2.142857</td>\n",
              "      <td>-13.571429</td>\n",
              "    </tr>\n",
              "    <tr>\n",
              "      <th>6</th>\n",
              "      <td>8</td>\n",
              "      <td>10</td>\n",
              "      <td>3.142857</td>\n",
              "      <td>-18.571429</td>\n",
              "    </tr>\n",
              "  </tbody>\n",
              "</table>\n",
              "</div>\n",
              "      <button class=\"colab-df-convert\" onclick=\"convertToInteractive('df-c2be255e-1d1d-4e0f-8310-18eb8607d011')\"\n",
              "              title=\"Convert this dataframe to an interactive table.\"\n",
              "              style=\"display:none;\">\n",
              "        \n",
              "  <svg xmlns=\"http://www.w3.org/2000/svg\" height=\"24px\"viewBox=\"0 0 24 24\"\n",
              "       width=\"24px\">\n",
              "    <path d=\"M0 0h24v24H0V0z\" fill=\"none\"/>\n",
              "    <path d=\"M18.56 5.44l.94 2.06.94-2.06 2.06-.94-2.06-.94-.94-2.06-.94 2.06-2.06.94zm-11 1L8.5 8.5l.94-2.06 2.06-.94-2.06-.94L8.5 2.5l-.94 2.06-2.06.94zm10 10l.94 2.06.94-2.06 2.06-.94-2.06-.94-.94-2.06-.94 2.06-2.06.94z\"/><path d=\"M17.41 7.96l-1.37-1.37c-.4-.4-.92-.59-1.43-.59-.52 0-1.04.2-1.43.59L10.3 9.45l-7.72 7.72c-.78.78-.78 2.05 0 2.83L4 21.41c.39.39.9.59 1.41.59.51 0 1.02-.2 1.41-.59l7.78-7.78 2.81-2.81c.8-.78.8-2.07 0-2.86zM5.41 20L4 18.59l7.72-7.72 1.47 1.35L5.41 20z\"/>\n",
              "  </svg>\n",
              "      </button>\n",
              "      \n",
              "  <style>\n",
              "    .colab-df-container {\n",
              "      display:flex;\n",
              "      flex-wrap:wrap;\n",
              "      gap: 12px;\n",
              "    }\n",
              "\n",
              "    .colab-df-convert {\n",
              "      background-color: #E8F0FE;\n",
              "      border: none;\n",
              "      border-radius: 50%;\n",
              "      cursor: pointer;\n",
              "      display: none;\n",
              "      fill: #1967D2;\n",
              "      height: 32px;\n",
              "      padding: 0 0 0 0;\n",
              "      width: 32px;\n",
              "    }\n",
              "\n",
              "    .colab-df-convert:hover {\n",
              "      background-color: #E2EBFA;\n",
              "      box-shadow: 0px 1px 2px rgba(60, 64, 67, 0.3), 0px 1px 3px 1px rgba(60, 64, 67, 0.15);\n",
              "      fill: #174EA6;\n",
              "    }\n",
              "\n",
              "    [theme=dark] .colab-df-convert {\n",
              "      background-color: #3B4455;\n",
              "      fill: #D2E3FC;\n",
              "    }\n",
              "\n",
              "    [theme=dark] .colab-df-convert:hover {\n",
              "      background-color: #434B5C;\n",
              "      box-shadow: 0px 1px 3px 1px rgba(0, 0, 0, 0.15);\n",
              "      filter: drop-shadow(0px 1px 2px rgba(0, 0, 0, 0.3));\n",
              "      fill: #FFFFFF;\n",
              "    }\n",
              "  </style>\n",
              "\n",
              "      <script>\n",
              "        const buttonEl =\n",
              "          document.querySelector('#df-c2be255e-1d1d-4e0f-8310-18eb8607d011 button.colab-df-convert');\n",
              "        buttonEl.style.display =\n",
              "          google.colab.kernel.accessAllowed ? 'block' : 'none';\n",
              "\n",
              "        async function convertToInteractive(key) {\n",
              "          const element = document.querySelector('#df-c2be255e-1d1d-4e0f-8310-18eb8607d011');\n",
              "          const dataTable =\n",
              "            await google.colab.kernel.invokeFunction('convertToInteractive',\n",
              "                                                     [key], {});\n",
              "          if (!dataTable) return;\n",
              "\n",
              "          const docLinkHtml = 'Like what you see? Visit the ' +\n",
              "            '<a target=\"_blank\" href=https://colab.research.google.com/notebooks/data_table.ipynb>data table notebook</a>'\n",
              "            + ' to learn more about interactive tables.';\n",
              "          element.innerHTML = '';\n",
              "          dataTable['output_type'] = 'display_data';\n",
              "          await google.colab.output.renderOutput(dataTable, element);\n",
              "          const docLink = document.createElement('div');\n",
              "          docLink.innerHTML = docLinkHtml;\n",
              "          element.appendChild(docLink);\n",
              "        }\n",
              "      </script>\n",
              "    </div>\n",
              "  </div>\n",
              "  "
            ],
            "text/plain": [
              "   A   B  xi-xMean   yi-yMean\n",
              "0  1  50 -3.857143  21.428571\n",
              "1  3  40 -1.857143  11.428571\n",
              "2  4  35 -0.857143   6.428571\n",
              "3  5  30  0.142857   1.428571\n",
              "4  6  20  1.142857  -8.571429\n",
              "5  7  15  2.142857 -13.571429\n",
              "6  8  10  3.142857 -18.571429"
            ]
          },
          "metadata": {},
          "execution_count": 15
        }
      ]
    },
    {
      "cell_type": "code",
      "source": [
        "data_s['xi-xMean*yi-yMean'] = data_s['xi-xMean'] * data_s['yi-yMean'] ## Adding a table of xi-xMean*yi-yMean\n",
        "data_s"
      ],
      "metadata": {
        "colab": {
          "base_uri": "https://localhost:8080/",
          "height": 268
        },
        "id": "9M31drqHPPEM",
        "outputId": "e50127ae-1426-49c4-ec17-98591c418312"
      },
      "execution_count": null,
      "outputs": [
        {
          "output_type": "execute_result",
          "data": {
            "text/html": [
              "\n",
              "  <div id=\"df-e876d349-b7e2-4643-9853-382d06fb5452\">\n",
              "    <div class=\"colab-df-container\">\n",
              "      <div>\n",
              "<style scoped>\n",
              "    .dataframe tbody tr th:only-of-type {\n",
              "        vertical-align: middle;\n",
              "    }\n",
              "\n",
              "    .dataframe tbody tr th {\n",
              "        vertical-align: top;\n",
              "    }\n",
              "\n",
              "    .dataframe thead th {\n",
              "        text-align: right;\n",
              "    }\n",
              "</style>\n",
              "<table border=\"1\" class=\"dataframe\">\n",
              "  <thead>\n",
              "    <tr style=\"text-align: right;\">\n",
              "      <th></th>\n",
              "      <th>A</th>\n",
              "      <th>B</th>\n",
              "      <th>xi-xMean</th>\n",
              "      <th>yi-yMean</th>\n",
              "      <th>xi-xMean*yi-yMean</th>\n",
              "    </tr>\n",
              "  </thead>\n",
              "  <tbody>\n",
              "    <tr>\n",
              "      <th>0</th>\n",
              "      <td>1</td>\n",
              "      <td>50</td>\n",
              "      <td>-3.857143</td>\n",
              "      <td>21.428571</td>\n",
              "      <td>-82.653061</td>\n",
              "    </tr>\n",
              "    <tr>\n",
              "      <th>1</th>\n",
              "      <td>3</td>\n",
              "      <td>40</td>\n",
              "      <td>-1.857143</td>\n",
              "      <td>11.428571</td>\n",
              "      <td>-21.224490</td>\n",
              "    </tr>\n",
              "    <tr>\n",
              "      <th>2</th>\n",
              "      <td>4</td>\n",
              "      <td>35</td>\n",
              "      <td>-0.857143</td>\n",
              "      <td>6.428571</td>\n",
              "      <td>-5.510204</td>\n",
              "    </tr>\n",
              "    <tr>\n",
              "      <th>3</th>\n",
              "      <td>5</td>\n",
              "      <td>30</td>\n",
              "      <td>0.142857</td>\n",
              "      <td>1.428571</td>\n",
              "      <td>0.204082</td>\n",
              "    </tr>\n",
              "    <tr>\n",
              "      <th>4</th>\n",
              "      <td>6</td>\n",
              "      <td>20</td>\n",
              "      <td>1.142857</td>\n",
              "      <td>-8.571429</td>\n",
              "      <td>-9.795918</td>\n",
              "    </tr>\n",
              "    <tr>\n",
              "      <th>5</th>\n",
              "      <td>7</td>\n",
              "      <td>15</td>\n",
              "      <td>2.142857</td>\n",
              "      <td>-13.571429</td>\n",
              "      <td>-29.081633</td>\n",
              "    </tr>\n",
              "    <tr>\n",
              "      <th>6</th>\n",
              "      <td>8</td>\n",
              "      <td>10</td>\n",
              "      <td>3.142857</td>\n",
              "      <td>-18.571429</td>\n",
              "      <td>-58.367347</td>\n",
              "    </tr>\n",
              "  </tbody>\n",
              "</table>\n",
              "</div>\n",
              "      <button class=\"colab-df-convert\" onclick=\"convertToInteractive('df-e876d349-b7e2-4643-9853-382d06fb5452')\"\n",
              "              title=\"Convert this dataframe to an interactive table.\"\n",
              "              style=\"display:none;\">\n",
              "        \n",
              "  <svg xmlns=\"http://www.w3.org/2000/svg\" height=\"24px\"viewBox=\"0 0 24 24\"\n",
              "       width=\"24px\">\n",
              "    <path d=\"M0 0h24v24H0V0z\" fill=\"none\"/>\n",
              "    <path d=\"M18.56 5.44l.94 2.06.94-2.06 2.06-.94-2.06-.94-.94-2.06-.94 2.06-2.06.94zm-11 1L8.5 8.5l.94-2.06 2.06-.94-2.06-.94L8.5 2.5l-.94 2.06-2.06.94zm10 10l.94 2.06.94-2.06 2.06-.94-2.06-.94-.94-2.06-.94 2.06-2.06.94z\"/><path d=\"M17.41 7.96l-1.37-1.37c-.4-.4-.92-.59-1.43-.59-.52 0-1.04.2-1.43.59L10.3 9.45l-7.72 7.72c-.78.78-.78 2.05 0 2.83L4 21.41c.39.39.9.59 1.41.59.51 0 1.02-.2 1.41-.59l7.78-7.78 2.81-2.81c.8-.78.8-2.07 0-2.86zM5.41 20L4 18.59l7.72-7.72 1.47 1.35L5.41 20z\"/>\n",
              "  </svg>\n",
              "      </button>\n",
              "      \n",
              "  <style>\n",
              "    .colab-df-container {\n",
              "      display:flex;\n",
              "      flex-wrap:wrap;\n",
              "      gap: 12px;\n",
              "    }\n",
              "\n",
              "    .colab-df-convert {\n",
              "      background-color: #E8F0FE;\n",
              "      border: none;\n",
              "      border-radius: 50%;\n",
              "      cursor: pointer;\n",
              "      display: none;\n",
              "      fill: #1967D2;\n",
              "      height: 32px;\n",
              "      padding: 0 0 0 0;\n",
              "      width: 32px;\n",
              "    }\n",
              "\n",
              "    .colab-df-convert:hover {\n",
              "      background-color: #E2EBFA;\n",
              "      box-shadow: 0px 1px 2px rgba(60, 64, 67, 0.3), 0px 1px 3px 1px rgba(60, 64, 67, 0.15);\n",
              "      fill: #174EA6;\n",
              "    }\n",
              "\n",
              "    [theme=dark] .colab-df-convert {\n",
              "      background-color: #3B4455;\n",
              "      fill: #D2E3FC;\n",
              "    }\n",
              "\n",
              "    [theme=dark] .colab-df-convert:hover {\n",
              "      background-color: #434B5C;\n",
              "      box-shadow: 0px 1px 3px 1px rgba(0, 0, 0, 0.15);\n",
              "      filter: drop-shadow(0px 1px 2px rgba(0, 0, 0, 0.3));\n",
              "      fill: #FFFFFF;\n",
              "    }\n",
              "  </style>\n",
              "\n",
              "      <script>\n",
              "        const buttonEl =\n",
              "          document.querySelector('#df-e876d349-b7e2-4643-9853-382d06fb5452 button.colab-df-convert');\n",
              "        buttonEl.style.display =\n",
              "          google.colab.kernel.accessAllowed ? 'block' : 'none';\n",
              "\n",
              "        async function convertToInteractive(key) {\n",
              "          const element = document.querySelector('#df-e876d349-b7e2-4643-9853-382d06fb5452');\n",
              "          const dataTable =\n",
              "            await google.colab.kernel.invokeFunction('convertToInteractive',\n",
              "                                                     [key], {});\n",
              "          if (!dataTable) return;\n",
              "\n",
              "          const docLinkHtml = 'Like what you see? Visit the ' +\n",
              "            '<a target=\"_blank\" href=https://colab.research.google.com/notebooks/data_table.ipynb>data table notebook</a>'\n",
              "            + ' to learn more about interactive tables.';\n",
              "          element.innerHTML = '';\n",
              "          dataTable['output_type'] = 'display_data';\n",
              "          await google.colab.output.renderOutput(dataTable, element);\n",
              "          const docLink = document.createElement('div');\n",
              "          docLink.innerHTML = docLinkHtml;\n",
              "          element.appendChild(docLink);\n",
              "        }\n",
              "      </script>\n",
              "    </div>\n",
              "  </div>\n",
              "  "
            ],
            "text/plain": [
              "   A   B  xi-xMean   yi-yMean  xi-xMean*yi-yMean\n",
              "0  1  50 -3.857143  21.428571         -82.653061\n",
              "1  3  40 -1.857143  11.428571         -21.224490\n",
              "2  4  35 -0.857143   6.428571          -5.510204\n",
              "3  5  30  0.142857   1.428571           0.204082\n",
              "4  6  20  1.142857  -8.571429          -9.795918\n",
              "5  7  15  2.142857 -13.571429         -29.081633\n",
              "6  8  10  3.142857 -18.571429         -58.367347"
            ]
          },
          "metadata": {},
          "execution_count": 16
        }
      ]
    },
    {
      "cell_type": "code",
      "source": [
        "data_s['(xi-xMean)^2']= data_s['xi-xMean']*data_s['xi-xMean'] ## Adding a table of (xi-xMean)^2\n",
        "data_s"
      ],
      "metadata": {
        "colab": {
          "base_uri": "https://localhost:8080/",
          "height": 268
        },
        "id": "zPixtWuHQUYT",
        "outputId": "c89fab25-264f-4909-8b1f-504537ec0231"
      },
      "execution_count": null,
      "outputs": [
        {
          "output_type": "execute_result",
          "data": {
            "text/html": [
              "\n",
              "  <div id=\"df-94f8f0a7-1dd2-48ca-8996-672c66569c10\">\n",
              "    <div class=\"colab-df-container\">\n",
              "      <div>\n",
              "<style scoped>\n",
              "    .dataframe tbody tr th:only-of-type {\n",
              "        vertical-align: middle;\n",
              "    }\n",
              "\n",
              "    .dataframe tbody tr th {\n",
              "        vertical-align: top;\n",
              "    }\n",
              "\n",
              "    .dataframe thead th {\n",
              "        text-align: right;\n",
              "    }\n",
              "</style>\n",
              "<table border=\"1\" class=\"dataframe\">\n",
              "  <thead>\n",
              "    <tr style=\"text-align: right;\">\n",
              "      <th></th>\n",
              "      <th>A</th>\n",
              "      <th>B</th>\n",
              "      <th>xi-xMean</th>\n",
              "      <th>yi-yMean</th>\n",
              "      <th>xi-xMean*yi-yMean</th>\n",
              "      <th>(xi-xMean)^2</th>\n",
              "    </tr>\n",
              "  </thead>\n",
              "  <tbody>\n",
              "    <tr>\n",
              "      <th>0</th>\n",
              "      <td>1</td>\n",
              "      <td>50</td>\n",
              "      <td>-3.857143</td>\n",
              "      <td>21.428571</td>\n",
              "      <td>-82.653061</td>\n",
              "      <td>14.877551</td>\n",
              "    </tr>\n",
              "    <tr>\n",
              "      <th>1</th>\n",
              "      <td>3</td>\n",
              "      <td>40</td>\n",
              "      <td>-1.857143</td>\n",
              "      <td>11.428571</td>\n",
              "      <td>-21.224490</td>\n",
              "      <td>3.448980</td>\n",
              "    </tr>\n",
              "    <tr>\n",
              "      <th>2</th>\n",
              "      <td>4</td>\n",
              "      <td>35</td>\n",
              "      <td>-0.857143</td>\n",
              "      <td>6.428571</td>\n",
              "      <td>-5.510204</td>\n",
              "      <td>0.734694</td>\n",
              "    </tr>\n",
              "    <tr>\n",
              "      <th>3</th>\n",
              "      <td>5</td>\n",
              "      <td>30</td>\n",
              "      <td>0.142857</td>\n",
              "      <td>1.428571</td>\n",
              "      <td>0.204082</td>\n",
              "      <td>0.020408</td>\n",
              "    </tr>\n",
              "    <tr>\n",
              "      <th>4</th>\n",
              "      <td>6</td>\n",
              "      <td>20</td>\n",
              "      <td>1.142857</td>\n",
              "      <td>-8.571429</td>\n",
              "      <td>-9.795918</td>\n",
              "      <td>1.306122</td>\n",
              "    </tr>\n",
              "    <tr>\n",
              "      <th>5</th>\n",
              "      <td>7</td>\n",
              "      <td>15</td>\n",
              "      <td>2.142857</td>\n",
              "      <td>-13.571429</td>\n",
              "      <td>-29.081633</td>\n",
              "      <td>4.591837</td>\n",
              "    </tr>\n",
              "    <tr>\n",
              "      <th>6</th>\n",
              "      <td>8</td>\n",
              "      <td>10</td>\n",
              "      <td>3.142857</td>\n",
              "      <td>-18.571429</td>\n",
              "      <td>-58.367347</td>\n",
              "      <td>9.877551</td>\n",
              "    </tr>\n",
              "  </tbody>\n",
              "</table>\n",
              "</div>\n",
              "      <button class=\"colab-df-convert\" onclick=\"convertToInteractive('df-94f8f0a7-1dd2-48ca-8996-672c66569c10')\"\n",
              "              title=\"Convert this dataframe to an interactive table.\"\n",
              "              style=\"display:none;\">\n",
              "        \n",
              "  <svg xmlns=\"http://www.w3.org/2000/svg\" height=\"24px\"viewBox=\"0 0 24 24\"\n",
              "       width=\"24px\">\n",
              "    <path d=\"M0 0h24v24H0V0z\" fill=\"none\"/>\n",
              "    <path d=\"M18.56 5.44l.94 2.06.94-2.06 2.06-.94-2.06-.94-.94-2.06-.94 2.06-2.06.94zm-11 1L8.5 8.5l.94-2.06 2.06-.94-2.06-.94L8.5 2.5l-.94 2.06-2.06.94zm10 10l.94 2.06.94-2.06 2.06-.94-2.06-.94-.94-2.06-.94 2.06-2.06.94z\"/><path d=\"M17.41 7.96l-1.37-1.37c-.4-.4-.92-.59-1.43-.59-.52 0-1.04.2-1.43.59L10.3 9.45l-7.72 7.72c-.78.78-.78 2.05 0 2.83L4 21.41c.39.39.9.59 1.41.59.51 0 1.02-.2 1.41-.59l7.78-7.78 2.81-2.81c.8-.78.8-2.07 0-2.86zM5.41 20L4 18.59l7.72-7.72 1.47 1.35L5.41 20z\"/>\n",
              "  </svg>\n",
              "      </button>\n",
              "      \n",
              "  <style>\n",
              "    .colab-df-container {\n",
              "      display:flex;\n",
              "      flex-wrap:wrap;\n",
              "      gap: 12px;\n",
              "    }\n",
              "\n",
              "    .colab-df-convert {\n",
              "      background-color: #E8F0FE;\n",
              "      border: none;\n",
              "      border-radius: 50%;\n",
              "      cursor: pointer;\n",
              "      display: none;\n",
              "      fill: #1967D2;\n",
              "      height: 32px;\n",
              "      padding: 0 0 0 0;\n",
              "      width: 32px;\n",
              "    }\n",
              "\n",
              "    .colab-df-convert:hover {\n",
              "      background-color: #E2EBFA;\n",
              "      box-shadow: 0px 1px 2px rgba(60, 64, 67, 0.3), 0px 1px 3px 1px rgba(60, 64, 67, 0.15);\n",
              "      fill: #174EA6;\n",
              "    }\n",
              "\n",
              "    [theme=dark] .colab-df-convert {\n",
              "      background-color: #3B4455;\n",
              "      fill: #D2E3FC;\n",
              "    }\n",
              "\n",
              "    [theme=dark] .colab-df-convert:hover {\n",
              "      background-color: #434B5C;\n",
              "      box-shadow: 0px 1px 3px 1px rgba(0, 0, 0, 0.15);\n",
              "      filter: drop-shadow(0px 1px 2px rgba(0, 0, 0, 0.3));\n",
              "      fill: #FFFFFF;\n",
              "    }\n",
              "  </style>\n",
              "\n",
              "      <script>\n",
              "        const buttonEl =\n",
              "          document.querySelector('#df-94f8f0a7-1dd2-48ca-8996-672c66569c10 button.colab-df-convert');\n",
              "        buttonEl.style.display =\n",
              "          google.colab.kernel.accessAllowed ? 'block' : 'none';\n",
              "\n",
              "        async function convertToInteractive(key) {\n",
              "          const element = document.querySelector('#df-94f8f0a7-1dd2-48ca-8996-672c66569c10');\n",
              "          const dataTable =\n",
              "            await google.colab.kernel.invokeFunction('convertToInteractive',\n",
              "                                                     [key], {});\n",
              "          if (!dataTable) return;\n",
              "\n",
              "          const docLinkHtml = 'Like what you see? Visit the ' +\n",
              "            '<a target=\"_blank\" href=https://colab.research.google.com/notebooks/data_table.ipynb>data table notebook</a>'\n",
              "            + ' to learn more about interactive tables.';\n",
              "          element.innerHTML = '';\n",
              "          dataTable['output_type'] = 'display_data';\n",
              "          await google.colab.output.renderOutput(dataTable, element);\n",
              "          const docLink = document.createElement('div');\n",
              "          docLink.innerHTML = docLinkHtml;\n",
              "          element.appendChild(docLink);\n",
              "        }\n",
              "      </script>\n",
              "    </div>\n",
              "  </div>\n",
              "  "
            ],
            "text/plain": [
              "   A   B  xi-xMean   yi-yMean  xi-xMean*yi-yMean  (xi-xMean)^2\n",
              "0  1  50 -3.857143  21.428571         -82.653061     14.877551\n",
              "1  3  40 -1.857143  11.428571         -21.224490      3.448980\n",
              "2  4  35 -0.857143   6.428571          -5.510204      0.734694\n",
              "3  5  30  0.142857   1.428571           0.204082      0.020408\n",
              "4  6  20  1.142857  -8.571429          -9.795918      1.306122\n",
              "5  7  15  2.142857 -13.571429         -29.081633      4.591837\n",
              "6  8  10  3.142857 -18.571429         -58.367347      9.877551"
            ]
          },
          "metadata": {},
          "execution_count": 17
        }
      ]
    },
    {
      "cell_type": "code",
      "source": [
        "print(\"xMean=\",xMean)\n",
        "print(\"yMean=\",yMean)\n",
        "print('Sum of xi-xMean*yi-yMean',data_s['xi-xMean*yi-yMean'].sum())\n",
        "print('Sum of (xi-xMean)^2',data_s['(xi-xMean)^2'].sum())"
      ],
      "metadata": {
        "colab": {
          "base_uri": "https://localhost:8080/"
        },
        "id": "5KaxECYiFwWO",
        "outputId": "0dcda3c8-c61f-4737-a077-379706c86293"
      },
      "execution_count": null,
      "outputs": [
        {
          "output_type": "stream",
          "name": "stdout",
          "text": [
            "xMean= 4.857142857142857\n",
            "yMean= 28.571428571428573\n",
            "Sum of xi-xMean*yi-yMean -206.42857142857142\n",
            "Sum of (xi-xMean)^2 34.85714285714286\n"
          ]
        }
      ]
    },
    {
      "cell_type": "code",
      "source": [
        "b1= (data_s['xi-xMean*yi-yMean'].sum())/(data_s['(xi-xMean)^2'].sum()) ##Calculation of b1\n",
        "b0 = yMean-b1*xMean ## Calculation of b0\n",
        "print('b1 is',b1)\n",
        "print ('b0 is',b0)"
      ],
      "metadata": {
        "colab": {
          "base_uri": "https://localhost:8080/"
        },
        "id": "d9tY_EYyRwWz",
        "outputId": "ed4f414d-17f5-4e9a-8bed-a66c213c0959"
      },
      "execution_count": null,
      "outputs": [
        {
          "output_type": "stream",
          "name": "stdout",
          "text": [
            "b1 is -5.922131147540982\n",
            "b0 is 57.33606557377048\n"
          ]
        }
      ]
    },
    {
      "cell_type": "code",
      "source": [
        "data_s['PRED']=b1*data_s['A']+b0 ## Adding a table of salary prediction\n",
        "data_s"
      ],
      "metadata": {
        "colab": {
          "base_uri": "https://localhost:8080/",
          "height": 268
        },
        "id": "orEbGipASTrB",
        "outputId": "985b34ec-00d6-476a-93ba-37966b4ceba9"
      },
      "execution_count": null,
      "outputs": [
        {
          "output_type": "execute_result",
          "data": {
            "text/html": [
              "\n",
              "  <div id=\"df-a930ba7f-8052-4c9e-bc3b-48062b485d47\">\n",
              "    <div class=\"colab-df-container\">\n",
              "      <div>\n",
              "<style scoped>\n",
              "    .dataframe tbody tr th:only-of-type {\n",
              "        vertical-align: middle;\n",
              "    }\n",
              "\n",
              "    .dataframe tbody tr th {\n",
              "        vertical-align: top;\n",
              "    }\n",
              "\n",
              "    .dataframe thead th {\n",
              "        text-align: right;\n",
              "    }\n",
              "</style>\n",
              "<table border=\"1\" class=\"dataframe\">\n",
              "  <thead>\n",
              "    <tr style=\"text-align: right;\">\n",
              "      <th></th>\n",
              "      <th>A</th>\n",
              "      <th>B</th>\n",
              "      <th>xi-xMean</th>\n",
              "      <th>yi-yMean</th>\n",
              "      <th>xi-xMean*yi-yMean</th>\n",
              "      <th>(xi-xMean)^2</th>\n",
              "      <th>PRED</th>\n",
              "    </tr>\n",
              "  </thead>\n",
              "  <tbody>\n",
              "    <tr>\n",
              "      <th>0</th>\n",
              "      <td>1</td>\n",
              "      <td>50</td>\n",
              "      <td>-3.857143</td>\n",
              "      <td>21.428571</td>\n",
              "      <td>-82.653061</td>\n",
              "      <td>14.877551</td>\n",
              "      <td>51.413934</td>\n",
              "    </tr>\n",
              "    <tr>\n",
              "      <th>1</th>\n",
              "      <td>3</td>\n",
              "      <td>40</td>\n",
              "      <td>-1.857143</td>\n",
              "      <td>11.428571</td>\n",
              "      <td>-21.224490</td>\n",
              "      <td>3.448980</td>\n",
              "      <td>39.569672</td>\n",
              "    </tr>\n",
              "    <tr>\n",
              "      <th>2</th>\n",
              "      <td>4</td>\n",
              "      <td>35</td>\n",
              "      <td>-0.857143</td>\n",
              "      <td>6.428571</td>\n",
              "      <td>-5.510204</td>\n",
              "      <td>0.734694</td>\n",
              "      <td>33.647541</td>\n",
              "    </tr>\n",
              "    <tr>\n",
              "      <th>3</th>\n",
              "      <td>5</td>\n",
              "      <td>30</td>\n",
              "      <td>0.142857</td>\n",
              "      <td>1.428571</td>\n",
              "      <td>0.204082</td>\n",
              "      <td>0.020408</td>\n",
              "      <td>27.725410</td>\n",
              "    </tr>\n",
              "    <tr>\n",
              "      <th>4</th>\n",
              "      <td>6</td>\n",
              "      <td>20</td>\n",
              "      <td>1.142857</td>\n",
              "      <td>-8.571429</td>\n",
              "      <td>-9.795918</td>\n",
              "      <td>1.306122</td>\n",
              "      <td>21.803279</td>\n",
              "    </tr>\n",
              "    <tr>\n",
              "      <th>5</th>\n",
              "      <td>7</td>\n",
              "      <td>15</td>\n",
              "      <td>2.142857</td>\n",
              "      <td>-13.571429</td>\n",
              "      <td>-29.081633</td>\n",
              "      <td>4.591837</td>\n",
              "      <td>15.881148</td>\n",
              "    </tr>\n",
              "    <tr>\n",
              "      <th>6</th>\n",
              "      <td>8</td>\n",
              "      <td>10</td>\n",
              "      <td>3.142857</td>\n",
              "      <td>-18.571429</td>\n",
              "      <td>-58.367347</td>\n",
              "      <td>9.877551</td>\n",
              "      <td>9.959016</td>\n",
              "    </tr>\n",
              "  </tbody>\n",
              "</table>\n",
              "</div>\n",
              "      <button class=\"colab-df-convert\" onclick=\"convertToInteractive('df-a930ba7f-8052-4c9e-bc3b-48062b485d47')\"\n",
              "              title=\"Convert this dataframe to an interactive table.\"\n",
              "              style=\"display:none;\">\n",
              "        \n",
              "  <svg xmlns=\"http://www.w3.org/2000/svg\" height=\"24px\"viewBox=\"0 0 24 24\"\n",
              "       width=\"24px\">\n",
              "    <path d=\"M0 0h24v24H0V0z\" fill=\"none\"/>\n",
              "    <path d=\"M18.56 5.44l.94 2.06.94-2.06 2.06-.94-2.06-.94-.94-2.06-.94 2.06-2.06.94zm-11 1L8.5 8.5l.94-2.06 2.06-.94-2.06-.94L8.5 2.5l-.94 2.06-2.06.94zm10 10l.94 2.06.94-2.06 2.06-.94-2.06-.94-.94-2.06-.94 2.06-2.06.94z\"/><path d=\"M17.41 7.96l-1.37-1.37c-.4-.4-.92-.59-1.43-.59-.52 0-1.04.2-1.43.59L10.3 9.45l-7.72 7.72c-.78.78-.78 2.05 0 2.83L4 21.41c.39.39.9.59 1.41.59.51 0 1.02-.2 1.41-.59l7.78-7.78 2.81-2.81c.8-.78.8-2.07 0-2.86zM5.41 20L4 18.59l7.72-7.72 1.47 1.35L5.41 20z\"/>\n",
              "  </svg>\n",
              "      </button>\n",
              "      \n",
              "  <style>\n",
              "    .colab-df-container {\n",
              "      display:flex;\n",
              "      flex-wrap:wrap;\n",
              "      gap: 12px;\n",
              "    }\n",
              "\n",
              "    .colab-df-convert {\n",
              "      background-color: #E8F0FE;\n",
              "      border: none;\n",
              "      border-radius: 50%;\n",
              "      cursor: pointer;\n",
              "      display: none;\n",
              "      fill: #1967D2;\n",
              "      height: 32px;\n",
              "      padding: 0 0 0 0;\n",
              "      width: 32px;\n",
              "    }\n",
              "\n",
              "    .colab-df-convert:hover {\n",
              "      background-color: #E2EBFA;\n",
              "      box-shadow: 0px 1px 2px rgba(60, 64, 67, 0.3), 0px 1px 3px 1px rgba(60, 64, 67, 0.15);\n",
              "      fill: #174EA6;\n",
              "    }\n",
              "\n",
              "    [theme=dark] .colab-df-convert {\n",
              "      background-color: #3B4455;\n",
              "      fill: #D2E3FC;\n",
              "    }\n",
              "\n",
              "    [theme=dark] .colab-df-convert:hover {\n",
              "      background-color: #434B5C;\n",
              "      box-shadow: 0px 1px 3px 1px rgba(0, 0, 0, 0.15);\n",
              "      filter: drop-shadow(0px 1px 2px rgba(0, 0, 0, 0.3));\n",
              "      fill: #FFFFFF;\n",
              "    }\n",
              "  </style>\n",
              "\n",
              "      <script>\n",
              "        const buttonEl =\n",
              "          document.querySelector('#df-a930ba7f-8052-4c9e-bc3b-48062b485d47 button.colab-df-convert');\n",
              "        buttonEl.style.display =\n",
              "          google.colab.kernel.accessAllowed ? 'block' : 'none';\n",
              "\n",
              "        async function convertToInteractive(key) {\n",
              "          const element = document.querySelector('#df-a930ba7f-8052-4c9e-bc3b-48062b485d47');\n",
              "          const dataTable =\n",
              "            await google.colab.kernel.invokeFunction('convertToInteractive',\n",
              "                                                     [key], {});\n",
              "          if (!dataTable) return;\n",
              "\n",
              "          const docLinkHtml = 'Like what you see? Visit the ' +\n",
              "            '<a target=\"_blank\" href=https://colab.research.google.com/notebooks/data_table.ipynb>data table notebook</a>'\n",
              "            + ' to learn more about interactive tables.';\n",
              "          element.innerHTML = '';\n",
              "          dataTable['output_type'] = 'display_data';\n",
              "          await google.colab.output.renderOutput(dataTable, element);\n",
              "          const docLink = document.createElement('div');\n",
              "          docLink.innerHTML = docLinkHtml;\n",
              "          element.appendChild(docLink);\n",
              "        }\n",
              "      </script>\n",
              "    </div>\n",
              "  </div>\n",
              "  "
            ],
            "text/plain": [
              "   A   B  xi-xMean   yi-yMean  xi-xMean*yi-yMean  (xi-xMean)^2       PRED\n",
              "0  1  50 -3.857143  21.428571         -82.653061     14.877551  51.413934\n",
              "1  3  40 -1.857143  11.428571         -21.224490      3.448980  39.569672\n",
              "2  4  35 -0.857143   6.428571          -5.510204      0.734694  33.647541\n",
              "3  5  30  0.142857   1.428571           0.204082      0.020408  27.725410\n",
              "4  6  20  1.142857  -8.571429          -9.795918      1.306122  21.803279\n",
              "5  7  15  2.142857 -13.571429         -29.081633      4.591837  15.881148\n",
              "6  8  10  3.142857 -18.571429         -58.367347      9.877551   9.959016"
            ]
          },
          "metadata": {},
          "execution_count": 20
        }
      ]
    },
    {
      "cell_type": "code",
      "source": [
        "## Calculation of ssr,sst,sse\n",
        "data_s['sst']=((data_s['B']-yMean)**2)\n",
        "data_s['ssr']=((data_s['PRED']-yMean)**2)\n",
        "data_s['sse']=((data_s['PRED']-data_s['B'])**2)\n",
        "data_s\n"
      ],
      "metadata": {
        "id": "jln323dtTCK3",
        "colab": {
          "base_uri": "https://localhost:8080/",
          "height": 268
        },
        "outputId": "6a137ba5-2ff1-4bb6-a299-d99391d3fc34"
      },
      "execution_count": null,
      "outputs": [
        {
          "output_type": "execute_result",
          "data": {
            "text/html": [
              "\n",
              "  <div id=\"df-a2adc347-9413-416c-94c0-196a83466014\">\n",
              "    <div class=\"colab-df-container\">\n",
              "      <div>\n",
              "<style scoped>\n",
              "    .dataframe tbody tr th:only-of-type {\n",
              "        vertical-align: middle;\n",
              "    }\n",
              "\n",
              "    .dataframe tbody tr th {\n",
              "        vertical-align: top;\n",
              "    }\n",
              "\n",
              "    .dataframe thead th {\n",
              "        text-align: right;\n",
              "    }\n",
              "</style>\n",
              "<table border=\"1\" class=\"dataframe\">\n",
              "  <thead>\n",
              "    <tr style=\"text-align: right;\">\n",
              "      <th></th>\n",
              "      <th>A</th>\n",
              "      <th>B</th>\n",
              "      <th>xi-xMean</th>\n",
              "      <th>yi-yMean</th>\n",
              "      <th>xi-xMean*yi-yMean</th>\n",
              "      <th>(xi-xMean)^2</th>\n",
              "      <th>PRED</th>\n",
              "      <th>sst</th>\n",
              "      <th>ssr</th>\n",
              "      <th>sse</th>\n",
              "    </tr>\n",
              "  </thead>\n",
              "  <tbody>\n",
              "    <tr>\n",
              "      <th>0</th>\n",
              "      <td>1</td>\n",
              "      <td>50</td>\n",
              "      <td>-3.857143</td>\n",
              "      <td>21.428571</td>\n",
              "      <td>-82.653061</td>\n",
              "      <td>14.877551</td>\n",
              "      <td>51.413934</td>\n",
              "      <td>459.183673</td>\n",
              "      <td>521.780074</td>\n",
              "      <td>1.999211</td>\n",
              "    </tr>\n",
              "    <tr>\n",
              "      <th>1</th>\n",
              "      <td>3</td>\n",
              "      <td>40</td>\n",
              "      <td>-1.857143</td>\n",
              "      <td>11.428571</td>\n",
              "      <td>-21.224490</td>\n",
              "      <td>3.448980</td>\n",
              "      <td>39.569672</td>\n",
              "      <td>130.612245</td>\n",
              "      <td>120.961361</td>\n",
              "      <td>0.185182</td>\n",
              "    </tr>\n",
              "    <tr>\n",
              "      <th>2</th>\n",
              "      <td>4</td>\n",
              "      <td>35</td>\n",
              "      <td>-0.857143</td>\n",
              "      <td>6.428571</td>\n",
              "      <td>-5.510204</td>\n",
              "      <td>0.734694</td>\n",
              "      <td>33.647541</td>\n",
              "      <td>41.326531</td>\n",
              "      <td>25.766917</td>\n",
              "      <td>1.829145</td>\n",
              "    </tr>\n",
              "    <tr>\n",
              "      <th>3</th>\n",
              "      <td>5</td>\n",
              "      <td>30</td>\n",
              "      <td>0.142857</td>\n",
              "      <td>1.428571</td>\n",
              "      <td>0.204082</td>\n",
              "      <td>0.020408</td>\n",
              "      <td>27.725410</td>\n",
              "      <td>2.040816</td>\n",
              "      <td>0.715748</td>\n",
              "      <td>5.173760</td>\n",
              "    </tr>\n",
              "    <tr>\n",
              "      <th>4</th>\n",
              "      <td>6</td>\n",
              "      <td>20</td>\n",
              "      <td>1.142857</td>\n",
              "      <td>-8.571429</td>\n",
              "      <td>-9.795918</td>\n",
              "      <td>1.306122</td>\n",
              "      <td>21.803279</td>\n",
              "      <td>73.469388</td>\n",
              "      <td>45.807853</td>\n",
              "      <td>3.251814</td>\n",
              "    </tr>\n",
              "    <tr>\n",
              "      <th>5</th>\n",
              "      <td>7</td>\n",
              "      <td>15</td>\n",
              "      <td>2.142857</td>\n",
              "      <td>-13.571429</td>\n",
              "      <td>-29.081633</td>\n",
              "      <td>4.591837</td>\n",
              "      <td>15.881148</td>\n",
              "      <td>184.183673</td>\n",
              "      <td>161.043233</td>\n",
              "      <td>0.776421</td>\n",
              "    </tr>\n",
              "    <tr>\n",
              "      <th>6</th>\n",
              "      <td>8</td>\n",
              "      <td>10</td>\n",
              "      <td>3.142857</td>\n",
              "      <td>-18.571429</td>\n",
              "      <td>-58.367347</td>\n",
              "      <td>9.877551</td>\n",
              "      <td>9.959016</td>\n",
              "      <td>344.897959</td>\n",
              "      <td>346.421887</td>\n",
              "      <td>0.001680</td>\n",
              "    </tr>\n",
              "  </tbody>\n",
              "</table>\n",
              "</div>\n",
              "      <button class=\"colab-df-convert\" onclick=\"convertToInteractive('df-a2adc347-9413-416c-94c0-196a83466014')\"\n",
              "              title=\"Convert this dataframe to an interactive table.\"\n",
              "              style=\"display:none;\">\n",
              "        \n",
              "  <svg xmlns=\"http://www.w3.org/2000/svg\" height=\"24px\"viewBox=\"0 0 24 24\"\n",
              "       width=\"24px\">\n",
              "    <path d=\"M0 0h24v24H0V0z\" fill=\"none\"/>\n",
              "    <path d=\"M18.56 5.44l.94 2.06.94-2.06 2.06-.94-2.06-.94-.94-2.06-.94 2.06-2.06.94zm-11 1L8.5 8.5l.94-2.06 2.06-.94-2.06-.94L8.5 2.5l-.94 2.06-2.06.94zm10 10l.94 2.06.94-2.06 2.06-.94-2.06-.94-.94-2.06-.94 2.06-2.06.94z\"/><path d=\"M17.41 7.96l-1.37-1.37c-.4-.4-.92-.59-1.43-.59-.52 0-1.04.2-1.43.59L10.3 9.45l-7.72 7.72c-.78.78-.78 2.05 0 2.83L4 21.41c.39.39.9.59 1.41.59.51 0 1.02-.2 1.41-.59l7.78-7.78 2.81-2.81c.8-.78.8-2.07 0-2.86zM5.41 20L4 18.59l7.72-7.72 1.47 1.35L5.41 20z\"/>\n",
              "  </svg>\n",
              "      </button>\n",
              "      \n",
              "  <style>\n",
              "    .colab-df-container {\n",
              "      display:flex;\n",
              "      flex-wrap:wrap;\n",
              "      gap: 12px;\n",
              "    }\n",
              "\n",
              "    .colab-df-convert {\n",
              "      background-color: #E8F0FE;\n",
              "      border: none;\n",
              "      border-radius: 50%;\n",
              "      cursor: pointer;\n",
              "      display: none;\n",
              "      fill: #1967D2;\n",
              "      height: 32px;\n",
              "      padding: 0 0 0 0;\n",
              "      width: 32px;\n",
              "    }\n",
              "\n",
              "    .colab-df-convert:hover {\n",
              "      background-color: #E2EBFA;\n",
              "      box-shadow: 0px 1px 2px rgba(60, 64, 67, 0.3), 0px 1px 3px 1px rgba(60, 64, 67, 0.15);\n",
              "      fill: #174EA6;\n",
              "    }\n",
              "\n",
              "    [theme=dark] .colab-df-convert {\n",
              "      background-color: #3B4455;\n",
              "      fill: #D2E3FC;\n",
              "    }\n",
              "\n",
              "    [theme=dark] .colab-df-convert:hover {\n",
              "      background-color: #434B5C;\n",
              "      box-shadow: 0px 1px 3px 1px rgba(0, 0, 0, 0.15);\n",
              "      filter: drop-shadow(0px 1px 2px rgba(0, 0, 0, 0.3));\n",
              "      fill: #FFFFFF;\n",
              "    }\n",
              "  </style>\n",
              "\n",
              "      <script>\n",
              "        const buttonEl =\n",
              "          document.querySelector('#df-a2adc347-9413-416c-94c0-196a83466014 button.colab-df-convert');\n",
              "        buttonEl.style.display =\n",
              "          google.colab.kernel.accessAllowed ? 'block' : 'none';\n",
              "\n",
              "        async function convertToInteractive(key) {\n",
              "          const element = document.querySelector('#df-a2adc347-9413-416c-94c0-196a83466014');\n",
              "          const dataTable =\n",
              "            await google.colab.kernel.invokeFunction('convertToInteractive',\n",
              "                                                     [key], {});\n",
              "          if (!dataTable) return;\n",
              "\n",
              "          const docLinkHtml = 'Like what you see? Visit the ' +\n",
              "            '<a target=\"_blank\" href=https://colab.research.google.com/notebooks/data_table.ipynb>data table notebook</a>'\n",
              "            + ' to learn more about interactive tables.';\n",
              "          element.innerHTML = '';\n",
              "          dataTable['output_type'] = 'display_data';\n",
              "          await google.colab.output.renderOutput(dataTable, element);\n",
              "          const docLink = document.createElement('div');\n",
              "          docLink.innerHTML = docLinkHtml;\n",
              "          element.appendChild(docLink);\n",
              "        }\n",
              "      </script>\n",
              "    </div>\n",
              "  </div>\n",
              "  "
            ],
            "text/plain": [
              "   A   B  xi-xMean   yi-yMean  ...       PRED         sst         ssr       sse\n",
              "0  1  50 -3.857143  21.428571  ...  51.413934  459.183673  521.780074  1.999211\n",
              "1  3  40 -1.857143  11.428571  ...  39.569672  130.612245  120.961361  0.185182\n",
              "2  4  35 -0.857143   6.428571  ...  33.647541   41.326531   25.766917  1.829145\n",
              "3  5  30  0.142857   1.428571  ...  27.725410    2.040816    0.715748  5.173760\n",
              "4  6  20  1.142857  -8.571429  ...  21.803279   73.469388   45.807853  3.251814\n",
              "5  7  15  2.142857 -13.571429  ...  15.881148  184.183673  161.043233  0.776421\n",
              "6  8  10  3.142857 -18.571429  ...   9.959016  344.897959  346.421887  0.001680\n",
              "\n",
              "[7 rows x 10 columns]"
            ]
          },
          "metadata": {},
          "execution_count": 21
        }
      ]
    },
    {
      "cell_type": "code",
      "source": [
        "sst=((data_s['B']-yMean)**2).sum() \n",
        "ssr=((data_s['PRED']-yMean)**2).sum()\n",
        "sse=((data_s['PRED']-data_s['B'])**2).sum()\n",
        "print('sst is ',sst)\n",
        "print('ssr is ',ssr)\n",
        "print('sse is ',sse)"
      ],
      "metadata": {
        "id": "26pZXvUxULsC",
        "colab": {
          "base_uri": "https://localhost:8080/"
        },
        "outputId": "5f95c19c-25e3-4c30-bf25-a347ee468933"
      },
      "execution_count": null,
      "outputs": [
        {
          "output_type": "stream",
          "name": "stdout",
          "text": [
            "sst is  1235.7142857142858\n",
            "ssr is  1222.4970725995313\n",
            "sse is  13.217213114754081\n"
          ]
        }
      ]
    },
    {
      "cell_type": "code",
      "source": [
        "r=ssr/sst ## Accuracy of model\n",
        "print('error is ',r)"
      ],
      "metadata": {
        "id": "Nzbq6cKIUUtj",
        "colab": {
          "base_uri": "https://localhost:8080/"
        },
        "outputId": "8b096661-2968-410e-f9bd-f637fad9b4df"
      },
      "execution_count": null,
      "outputs": [
        {
          "output_type": "stream",
          "name": "stdout",
          "text": [
            "error is  0.9893039893869039\n"
          ]
        }
      ]
    },
    {
      "cell_type": "code",
      "source": [
        "## Scatter plot showing relation between years_experience, salary , predicted salary\n",
        "plt.xlabel('YearofExperience')\n",
        "plt.ylabel('Salary')\n",
        "plt.scatter(x,y)\n",
        "plt.plot(x,data_s['Salarypred'],color='green')\n",
        "plt.show()"
      ],
      "metadata": {
        "id": "9GPs7gF6g1CR",
        "colab": {
          "base_uri": "https://localhost:8080/",
          "height": 858
        },
        "outputId": "646616bb-4e97-4999-9f05-307a084a79e9"
      },
      "execution_count": null,
      "outputs": [
        {
          "output_type": "error",
          "ename": "KeyError",
          "evalue": "ignored",
          "traceback": [
            "\u001b[0;31m---------------------------------------------------------------------------\u001b[0m",
            "\u001b[0;31mKeyError\u001b[0m                                  Traceback (most recent call last)",
            "\u001b[0;32m/usr/local/lib/python3.7/dist-packages/pandas/core/indexes/base.py\u001b[0m in \u001b[0;36mget_loc\u001b[0;34m(self, key, method, tolerance)\u001b[0m\n\u001b[1;32m   2897\u001b[0m             \u001b[0;32mtry\u001b[0m\u001b[0;34m:\u001b[0m\u001b[0;34m\u001b[0m\u001b[0;34m\u001b[0m\u001b[0m\n\u001b[0;32m-> 2898\u001b[0;31m                 \u001b[0;32mreturn\u001b[0m \u001b[0mself\u001b[0m\u001b[0;34m.\u001b[0m\u001b[0m_engine\u001b[0m\u001b[0;34m.\u001b[0m\u001b[0mget_loc\u001b[0m\u001b[0;34m(\u001b[0m\u001b[0mcasted_key\u001b[0m\u001b[0;34m)\u001b[0m\u001b[0;34m\u001b[0m\u001b[0;34m\u001b[0m\u001b[0m\n\u001b[0m\u001b[1;32m   2899\u001b[0m             \u001b[0;32mexcept\u001b[0m \u001b[0mKeyError\u001b[0m \u001b[0;32mas\u001b[0m \u001b[0merr\u001b[0m\u001b[0;34m:\u001b[0m\u001b[0;34m\u001b[0m\u001b[0;34m\u001b[0m\u001b[0m\n",
            "\u001b[0;32mpandas/_libs/index.pyx\u001b[0m in \u001b[0;36mpandas._libs.index.IndexEngine.get_loc\u001b[0;34m()\u001b[0m\n",
            "\u001b[0;32mpandas/_libs/index.pyx\u001b[0m in \u001b[0;36mpandas._libs.index.IndexEngine.get_loc\u001b[0;34m()\u001b[0m\n",
            "\u001b[0;32mpandas/_libs/hashtable_class_helper.pxi\u001b[0m in \u001b[0;36mpandas._libs.hashtable.PyObjectHashTable.get_item\u001b[0;34m()\u001b[0m\n",
            "\u001b[0;32mpandas/_libs/hashtable_class_helper.pxi\u001b[0m in \u001b[0;36mpandas._libs.hashtable.PyObjectHashTable.get_item\u001b[0;34m()\u001b[0m\n",
            "\u001b[0;31mKeyError\u001b[0m: 'Salarypred'",
            "\nThe above exception was the direct cause of the following exception:\n",
            "\u001b[0;31mKeyError\u001b[0m                                  Traceback (most recent call last)",
            "\u001b[0;32m<ipython-input-24-395c9cbc7d95>\u001b[0m in \u001b[0;36m<module>\u001b[0;34m()\u001b[0m\n\u001b[1;32m      3\u001b[0m \u001b[0mplt\u001b[0m\u001b[0;34m.\u001b[0m\u001b[0mylabel\u001b[0m\u001b[0;34m(\u001b[0m\u001b[0;34m'Salary'\u001b[0m\u001b[0;34m)\u001b[0m\u001b[0;34m\u001b[0m\u001b[0;34m\u001b[0m\u001b[0m\n\u001b[1;32m      4\u001b[0m \u001b[0mplt\u001b[0m\u001b[0;34m.\u001b[0m\u001b[0mscatter\u001b[0m\u001b[0;34m(\u001b[0m\u001b[0mx\u001b[0m\u001b[0;34m,\u001b[0m\u001b[0my\u001b[0m\u001b[0;34m)\u001b[0m\u001b[0;34m\u001b[0m\u001b[0;34m\u001b[0m\u001b[0m\n\u001b[0;32m----> 5\u001b[0;31m \u001b[0mplt\u001b[0m\u001b[0;34m.\u001b[0m\u001b[0mplot\u001b[0m\u001b[0;34m(\u001b[0m\u001b[0mx\u001b[0m\u001b[0;34m,\u001b[0m\u001b[0mdata_s\u001b[0m\u001b[0;34m[\u001b[0m\u001b[0;34m'Salarypred'\u001b[0m\u001b[0;34m]\u001b[0m\u001b[0;34m,\u001b[0m\u001b[0mcolor\u001b[0m\u001b[0;34m=\u001b[0m\u001b[0;34m'green'\u001b[0m\u001b[0;34m)\u001b[0m\u001b[0;34m\u001b[0m\u001b[0;34m\u001b[0m\u001b[0m\n\u001b[0m\u001b[1;32m      6\u001b[0m \u001b[0mplt\u001b[0m\u001b[0;34m.\u001b[0m\u001b[0mshow\u001b[0m\u001b[0;34m(\u001b[0m\u001b[0;34m)\u001b[0m\u001b[0;34m\u001b[0m\u001b[0;34m\u001b[0m\u001b[0m\n",
            "\u001b[0;32m/usr/local/lib/python3.7/dist-packages/pandas/core/frame.py\u001b[0m in \u001b[0;36m__getitem__\u001b[0;34m(self, key)\u001b[0m\n\u001b[1;32m   2904\u001b[0m             \u001b[0;32mif\u001b[0m \u001b[0mself\u001b[0m\u001b[0;34m.\u001b[0m\u001b[0mcolumns\u001b[0m\u001b[0;34m.\u001b[0m\u001b[0mnlevels\u001b[0m \u001b[0;34m>\u001b[0m \u001b[0;36m1\u001b[0m\u001b[0;34m:\u001b[0m\u001b[0;34m\u001b[0m\u001b[0;34m\u001b[0m\u001b[0m\n\u001b[1;32m   2905\u001b[0m                 \u001b[0;32mreturn\u001b[0m \u001b[0mself\u001b[0m\u001b[0;34m.\u001b[0m\u001b[0m_getitem_multilevel\u001b[0m\u001b[0;34m(\u001b[0m\u001b[0mkey\u001b[0m\u001b[0;34m)\u001b[0m\u001b[0;34m\u001b[0m\u001b[0;34m\u001b[0m\u001b[0m\n\u001b[0;32m-> 2906\u001b[0;31m             \u001b[0mindexer\u001b[0m \u001b[0;34m=\u001b[0m \u001b[0mself\u001b[0m\u001b[0;34m.\u001b[0m\u001b[0mcolumns\u001b[0m\u001b[0;34m.\u001b[0m\u001b[0mget_loc\u001b[0m\u001b[0;34m(\u001b[0m\u001b[0mkey\u001b[0m\u001b[0;34m)\u001b[0m\u001b[0;34m\u001b[0m\u001b[0;34m\u001b[0m\u001b[0m\n\u001b[0m\u001b[1;32m   2907\u001b[0m             \u001b[0;32mif\u001b[0m \u001b[0mis_integer\u001b[0m\u001b[0;34m(\u001b[0m\u001b[0mindexer\u001b[0m\u001b[0;34m)\u001b[0m\u001b[0;34m:\u001b[0m\u001b[0;34m\u001b[0m\u001b[0;34m\u001b[0m\u001b[0m\n\u001b[1;32m   2908\u001b[0m                 \u001b[0mindexer\u001b[0m \u001b[0;34m=\u001b[0m \u001b[0;34m[\u001b[0m\u001b[0mindexer\u001b[0m\u001b[0;34m]\u001b[0m\u001b[0;34m\u001b[0m\u001b[0;34m\u001b[0m\u001b[0m\n",
            "\u001b[0;32m/usr/local/lib/python3.7/dist-packages/pandas/core/indexes/base.py\u001b[0m in \u001b[0;36mget_loc\u001b[0;34m(self, key, method, tolerance)\u001b[0m\n\u001b[1;32m   2898\u001b[0m                 \u001b[0;32mreturn\u001b[0m \u001b[0mself\u001b[0m\u001b[0;34m.\u001b[0m\u001b[0m_engine\u001b[0m\u001b[0;34m.\u001b[0m\u001b[0mget_loc\u001b[0m\u001b[0;34m(\u001b[0m\u001b[0mcasted_key\u001b[0m\u001b[0;34m)\u001b[0m\u001b[0;34m\u001b[0m\u001b[0;34m\u001b[0m\u001b[0m\n\u001b[1;32m   2899\u001b[0m             \u001b[0;32mexcept\u001b[0m \u001b[0mKeyError\u001b[0m \u001b[0;32mas\u001b[0m \u001b[0merr\u001b[0m\u001b[0;34m:\u001b[0m\u001b[0;34m\u001b[0m\u001b[0;34m\u001b[0m\u001b[0m\n\u001b[0;32m-> 2900\u001b[0;31m                 \u001b[0;32mraise\u001b[0m \u001b[0mKeyError\u001b[0m\u001b[0;34m(\u001b[0m\u001b[0mkey\u001b[0m\u001b[0;34m)\u001b[0m \u001b[0;32mfrom\u001b[0m \u001b[0merr\u001b[0m\u001b[0;34m\u001b[0m\u001b[0;34m\u001b[0m\u001b[0m\n\u001b[0m\u001b[1;32m   2901\u001b[0m \u001b[0;34m\u001b[0m\u001b[0m\n\u001b[1;32m   2902\u001b[0m         \u001b[0;32mif\u001b[0m \u001b[0mtolerance\u001b[0m \u001b[0;32mis\u001b[0m \u001b[0;32mnot\u001b[0m \u001b[0;32mNone\u001b[0m\u001b[0;34m:\u001b[0m\u001b[0;34m\u001b[0m\u001b[0;34m\u001b[0m\u001b[0m\n",
            "\u001b[0;31mKeyError\u001b[0m: 'Salarypred'"
          ]
        },
        {
          "output_type": "display_data",
          "data": {
            "image/png": "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\n",
            "text/plain": [
              "<Figure size 432x288 with 1 Axes>"
            ]
          },
          "metadata": {
            "needs_background": "light"
          }
        }
      ]
    },
    {
      "cell_type": "markdown",
      "source": [
        "**Conclusion**\n",
        "\n",
        "1) We learnt about how linear regression can be used for predicting values and implemented the same on colab with and without using the built in functions.\n",
        "\n",
        "2) In order to find the predicted values first we find out the values of the b1 and b0 which are the slope (bias) and intercept (weight) of the equation.\n",
        "\n",
        "3) The accuracy can be found out using r^2 and by first finding out ssr,sst and r^2 = ssr/sst\n",
        "\n",
        "4) From sklearn.linear_model to make use of built in functions LinearRegression was imported and was initialised with the name model.\n",
        "\n",
        "5) model.fit(x,y) can be used to train the model for the values of x,y.\n",
        "\n",
        "6) model.score(x,y) can be used to see the score/accuracy of the model.\n",
        "\n",
        "7) model.predict [[a]] can be used to predict values having input a.\n",
        "\n"
      ],
      "metadata": {
        "id": "3FEEkic5vVek"
      }
    }
  ]
}
