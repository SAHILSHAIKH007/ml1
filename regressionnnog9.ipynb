{
  "nbformat": 4,
  "nbformat_minor": 0,
  "metadata": {
    "colab": {
      "name": "regressionnnog9.ipynb",
      "provenance": [],
      "collapsed_sections": []
    },
    "kernelspec": {
      "name": "python3",
      "display_name": "Python 3"
    },
    "language_info": {
      "name": "python"
    }
  },
  "cells": [
    {
      "cell_type": "markdown",
      "source": [
        "#AIM: To solve a regression problem using NN."
      ],
      "metadata": {
        "id": "JRHAEiHt-SpS"
      }
    },
    {
      "cell_type": "code",
      "execution_count": null,
      "metadata": {
        "id": "Jmf_QpPG2B4G"
      },
      "outputs": [],
      "source": [
        "import numpy as np\n",
        "import pandas as pd\n",
        "import matplotlib.pyplot as plt"
      ]
    },
    {
      "cell_type": "code",
      "source": [
        "from sklearn.datasets import load_boston\n",
        "load_boston()"
      ],
      "metadata": {
        "colab": {
          "base_uri": "https://localhost:8080/"
        },
        "id": "vRY2_-Vq3Or-",
        "outputId": "b75c3158-edc8-433f-b909-6078327e5266"
      },
      "execution_count": null,
      "outputs": [
        {
          "output_type": "stream",
          "name": "stderr",
          "text": [
            "/usr/local/lib/python3.7/dist-packages/sklearn/utils/deprecation.py:87: FutureWarning: Function load_boston is deprecated; `load_boston` is deprecated in 1.0 and will be removed in 1.2.\n",
            "\n",
            "    The Boston housing prices dataset has an ethical problem. You can refer to\n",
            "    the documentation of this function for further details.\n",
            "\n",
            "    The scikit-learn maintainers therefore strongly discourage the use of this\n",
            "    dataset unless the purpose of the code is to study and educate about\n",
            "    ethical issues in data science and machine learning.\n",
            "\n",
            "    In this special case, you can fetch the dataset from the original\n",
            "    source::\n",
            "\n",
            "        import pandas as pd\n",
            "        import numpy as np\n",
            "\n",
            "\n",
            "        data_url = \"http://lib.stat.cmu.edu/datasets/boston\"\n",
            "        raw_df = pd.read_csv(data_url, sep=\"\\s+\", skiprows=22, header=None)\n",
            "        data = np.hstack([raw_df.values[::2, :], raw_df.values[1::2, :2]])\n",
            "        target = raw_df.values[1::2, 2]\n",
            "\n",
            "    Alternative datasets include the California housing dataset (i.e.\n",
            "    :func:`~sklearn.datasets.fetch_california_housing`) and the Ames housing\n",
            "    dataset. You can load the datasets as follows::\n",
            "\n",
            "        from sklearn.datasets import fetch_california_housing\n",
            "        housing = fetch_california_housing()\n",
            "\n",
            "    for the California housing dataset and::\n",
            "\n",
            "        from sklearn.datasets import fetch_openml\n",
            "        housing = fetch_openml(name=\"house_prices\", as_frame=True)\n",
            "\n",
            "    for the Ames housing dataset.\n",
            "    \n",
            "  warnings.warn(msg, category=FutureWarning)\n"
          ]
        },
        {
          "output_type": "execute_result",
          "data": {
            "text/plain": [
              "{'DESCR': \".. _boston_dataset:\\n\\nBoston house prices dataset\\n---------------------------\\n\\n**Data Set Characteristics:**  \\n\\n    :Number of Instances: 506 \\n\\n    :Number of Attributes: 13 numeric/categorical predictive. Median Value (attribute 14) is usually the target.\\n\\n    :Attribute Information (in order):\\n        - CRIM     per capita crime rate by town\\n        - ZN       proportion of residential land zoned for lots over 25,000 sq.ft.\\n        - INDUS    proportion of non-retail business acres per town\\n        - CHAS     Charles River dummy variable (= 1 if tract bounds river; 0 otherwise)\\n        - NOX      nitric oxides concentration (parts per 10 million)\\n        - RM       average number of rooms per dwelling\\n        - AGE      proportion of owner-occupied units built prior to 1940\\n        - DIS      weighted distances to five Boston employment centres\\n        - RAD      index of accessibility to radial highways\\n        - TAX      full-value property-tax rate per $10,000\\n        - PTRATIO  pupil-teacher ratio by town\\n        - B        1000(Bk - 0.63)^2 where Bk is the proportion of black people by town\\n        - LSTAT    % lower status of the population\\n        - MEDV     Median value of owner-occupied homes in $1000's\\n\\n    :Missing Attribute Values: None\\n\\n    :Creator: Harrison, D. and Rubinfeld, D.L.\\n\\nThis is a copy of UCI ML housing dataset.\\nhttps://archive.ics.uci.edu/ml/machine-learning-databases/housing/\\n\\n\\nThis dataset was taken from the StatLib library which is maintained at Carnegie Mellon University.\\n\\nThe Boston house-price data of Harrison, D. and Rubinfeld, D.L. 'Hedonic\\nprices and the demand for clean air', J. Environ. Economics & Management,\\nvol.5, 81-102, 1978.   Used in Belsley, Kuh & Welsch, 'Regression diagnostics\\n...', Wiley, 1980.   N.B. Various transformations are used in the table on\\npages 244-261 of the latter.\\n\\nThe Boston house-price data has been used in many machine learning papers that address regression\\nproblems.   \\n     \\n.. topic:: References\\n\\n   - Belsley, Kuh & Welsch, 'Regression diagnostics: Identifying Influential Data and Sources of Collinearity', Wiley, 1980. 244-261.\\n   - Quinlan,R. (1993). Combining Instance-Based and Model-Based Learning. In Proceedings on the Tenth International Conference of Machine Learning, 236-243, University of Massachusetts, Amherst. Morgan Kaufmann.\\n\",\n",
              " 'data': array([[6.3200e-03, 1.8000e+01, 2.3100e+00, ..., 1.5300e+01, 3.9690e+02,\n",
              "         4.9800e+00],\n",
              "        [2.7310e-02, 0.0000e+00, 7.0700e+00, ..., 1.7800e+01, 3.9690e+02,\n",
              "         9.1400e+00],\n",
              "        [2.7290e-02, 0.0000e+00, 7.0700e+00, ..., 1.7800e+01, 3.9283e+02,\n",
              "         4.0300e+00],\n",
              "        ...,\n",
              "        [6.0760e-02, 0.0000e+00, 1.1930e+01, ..., 2.1000e+01, 3.9690e+02,\n",
              "         5.6400e+00],\n",
              "        [1.0959e-01, 0.0000e+00, 1.1930e+01, ..., 2.1000e+01, 3.9345e+02,\n",
              "         6.4800e+00],\n",
              "        [4.7410e-02, 0.0000e+00, 1.1930e+01, ..., 2.1000e+01, 3.9690e+02,\n",
              "         7.8800e+00]]),\n",
              " 'data_module': 'sklearn.datasets.data',\n",
              " 'feature_names': array(['CRIM', 'ZN', 'INDUS', 'CHAS', 'NOX', 'RM', 'AGE', 'DIS', 'RAD',\n",
              "        'TAX', 'PTRATIO', 'B', 'LSTAT'], dtype='<U7'),\n",
              " 'filename': 'boston_house_prices.csv',\n",
              " 'target': array([24. , 21.6, 34.7, 33.4, 36.2, 28.7, 22.9, 27.1, 16.5, 18.9, 15. ,\n",
              "        18.9, 21.7, 20.4, 18.2, 19.9, 23.1, 17.5, 20.2, 18.2, 13.6, 19.6,\n",
              "        15.2, 14.5, 15.6, 13.9, 16.6, 14.8, 18.4, 21. , 12.7, 14.5, 13.2,\n",
              "        13.1, 13.5, 18.9, 20. , 21. , 24.7, 30.8, 34.9, 26.6, 25.3, 24.7,\n",
              "        21.2, 19.3, 20. , 16.6, 14.4, 19.4, 19.7, 20.5, 25. , 23.4, 18.9,\n",
              "        35.4, 24.7, 31.6, 23.3, 19.6, 18.7, 16. , 22.2, 25. , 33. , 23.5,\n",
              "        19.4, 22. , 17.4, 20.9, 24.2, 21.7, 22.8, 23.4, 24.1, 21.4, 20. ,\n",
              "        20.8, 21.2, 20.3, 28. , 23.9, 24.8, 22.9, 23.9, 26.6, 22.5, 22.2,\n",
              "        23.6, 28.7, 22.6, 22. , 22.9, 25. , 20.6, 28.4, 21.4, 38.7, 43.8,\n",
              "        33.2, 27.5, 26.5, 18.6, 19.3, 20.1, 19.5, 19.5, 20.4, 19.8, 19.4,\n",
              "        21.7, 22.8, 18.8, 18.7, 18.5, 18.3, 21.2, 19.2, 20.4, 19.3, 22. ,\n",
              "        20.3, 20.5, 17.3, 18.8, 21.4, 15.7, 16.2, 18. , 14.3, 19.2, 19.6,\n",
              "        23. , 18.4, 15.6, 18.1, 17.4, 17.1, 13.3, 17.8, 14. , 14.4, 13.4,\n",
              "        15.6, 11.8, 13.8, 15.6, 14.6, 17.8, 15.4, 21.5, 19.6, 15.3, 19.4,\n",
              "        17. , 15.6, 13.1, 41.3, 24.3, 23.3, 27. , 50. , 50. , 50. , 22.7,\n",
              "        25. , 50. , 23.8, 23.8, 22.3, 17.4, 19.1, 23.1, 23.6, 22.6, 29.4,\n",
              "        23.2, 24.6, 29.9, 37.2, 39.8, 36.2, 37.9, 32.5, 26.4, 29.6, 50. ,\n",
              "        32. , 29.8, 34.9, 37. , 30.5, 36.4, 31.1, 29.1, 50. , 33.3, 30.3,\n",
              "        34.6, 34.9, 32.9, 24.1, 42.3, 48.5, 50. , 22.6, 24.4, 22.5, 24.4,\n",
              "        20. , 21.7, 19.3, 22.4, 28.1, 23.7, 25. , 23.3, 28.7, 21.5, 23. ,\n",
              "        26.7, 21.7, 27.5, 30.1, 44.8, 50. , 37.6, 31.6, 46.7, 31.5, 24.3,\n",
              "        31.7, 41.7, 48.3, 29. , 24. , 25.1, 31.5, 23.7, 23.3, 22. , 20.1,\n",
              "        22.2, 23.7, 17.6, 18.5, 24.3, 20.5, 24.5, 26.2, 24.4, 24.8, 29.6,\n",
              "        42.8, 21.9, 20.9, 44. , 50. , 36. , 30.1, 33.8, 43.1, 48.8, 31. ,\n",
              "        36.5, 22.8, 30.7, 50. , 43.5, 20.7, 21.1, 25.2, 24.4, 35.2, 32.4,\n",
              "        32. , 33.2, 33.1, 29.1, 35.1, 45.4, 35.4, 46. , 50. , 32.2, 22. ,\n",
              "        20.1, 23.2, 22.3, 24.8, 28.5, 37.3, 27.9, 23.9, 21.7, 28.6, 27.1,\n",
              "        20.3, 22.5, 29. , 24.8, 22. , 26.4, 33.1, 36.1, 28.4, 33.4, 28.2,\n",
              "        22.8, 20.3, 16.1, 22.1, 19.4, 21.6, 23.8, 16.2, 17.8, 19.8, 23.1,\n",
              "        21. , 23.8, 23.1, 20.4, 18.5, 25. , 24.6, 23. , 22.2, 19.3, 22.6,\n",
              "        19.8, 17.1, 19.4, 22.2, 20.7, 21.1, 19.5, 18.5, 20.6, 19. , 18.7,\n",
              "        32.7, 16.5, 23.9, 31.2, 17.5, 17.2, 23.1, 24.5, 26.6, 22.9, 24.1,\n",
              "        18.6, 30.1, 18.2, 20.6, 17.8, 21.7, 22.7, 22.6, 25. , 19.9, 20.8,\n",
              "        16.8, 21.9, 27.5, 21.9, 23.1, 50. , 50. , 50. , 50. , 50. , 13.8,\n",
              "        13.8, 15. , 13.9, 13.3, 13.1, 10.2, 10.4, 10.9, 11.3, 12.3,  8.8,\n",
              "         7.2, 10.5,  7.4, 10.2, 11.5, 15.1, 23.2,  9.7, 13.8, 12.7, 13.1,\n",
              "        12.5,  8.5,  5. ,  6.3,  5.6,  7.2, 12.1,  8.3,  8.5,  5. , 11.9,\n",
              "        27.9, 17.2, 27.5, 15. , 17.2, 17.9, 16.3,  7. ,  7.2,  7.5, 10.4,\n",
              "         8.8,  8.4, 16.7, 14.2, 20.8, 13.4, 11.7,  8.3, 10.2, 10.9, 11. ,\n",
              "         9.5, 14.5, 14.1, 16.1, 14.3, 11.7, 13.4,  9.6,  8.7,  8.4, 12.8,\n",
              "        10.5, 17.1, 18.4, 15.4, 10.8, 11.8, 14.9, 12.6, 14.1, 13. , 13.4,\n",
              "        15.2, 16.1, 17.8, 14.9, 14.1, 12.7, 13.5, 14.9, 20. , 16.4, 17.7,\n",
              "        19.5, 20.2, 21.4, 19.9, 19. , 19.1, 19.1, 20.1, 19.9, 19.6, 23.2,\n",
              "        29.8, 13.8, 13.3, 16.7, 12. , 14.6, 21.4, 23. , 23.7, 25. , 21.8,\n",
              "        20.6, 21.2, 19.1, 20.6, 15.2,  7. ,  8.1, 13.6, 20.1, 21.8, 24.5,\n",
              "        23.1, 19.7, 18.3, 21.2, 17.5, 16.8, 22.4, 20.6, 23.9, 22. , 11.9])}"
            ]
          },
          "metadata": {},
          "execution_count": 2
        }
      ]
    },
    {
      "cell_type": "code",
      "source": [
        "boston = load_boston()\n",
        "X = boston.data\n",
        "Y = boston.target"
      ],
      "metadata": {
        "colab": {
          "base_uri": "https://localhost:8080/"
        },
        "id": "zQ09UaWY3OpD",
        "outputId": "4fadcf9f-db28-4a66-af07-5aaa5db137cf"
      },
      "execution_count": null,
      "outputs": [
        {
          "output_type": "stream",
          "name": "stderr",
          "text": [
            "/usr/local/lib/python3.7/dist-packages/sklearn/utils/deprecation.py:87: FutureWarning: Function load_boston is deprecated; `load_boston` is deprecated in 1.0 and will be removed in 1.2.\n",
            "\n",
            "    The Boston housing prices dataset has an ethical problem. You can refer to\n",
            "    the documentation of this function for further details.\n",
            "\n",
            "    The scikit-learn maintainers therefore strongly discourage the use of this\n",
            "    dataset unless the purpose of the code is to study and educate about\n",
            "    ethical issues in data science and machine learning.\n",
            "\n",
            "    In this special case, you can fetch the dataset from the original\n",
            "    source::\n",
            "\n",
            "        import pandas as pd\n",
            "        import numpy as np\n",
            "\n",
            "\n",
            "        data_url = \"http://lib.stat.cmu.edu/datasets/boston\"\n",
            "        raw_df = pd.read_csv(data_url, sep=\"\\s+\", skiprows=22, header=None)\n",
            "        data = np.hstack([raw_df.values[::2, :], raw_df.values[1::2, :2]])\n",
            "        target = raw_df.values[1::2, 2]\n",
            "\n",
            "    Alternative datasets include the California housing dataset (i.e.\n",
            "    :func:`~sklearn.datasets.fetch_california_housing`) and the Ames housing\n",
            "    dataset. You can load the datasets as follows::\n",
            "\n",
            "        from sklearn.datasets import fetch_california_housing\n",
            "        housing = fetch_california_housing()\n",
            "\n",
            "    for the California housing dataset and::\n",
            "\n",
            "        from sklearn.datasets import fetch_openml\n",
            "        housing = fetch_openml(name=\"house_prices\", as_frame=True)\n",
            "\n",
            "    for the Ames housing dataset.\n",
            "    \n",
            "  warnings.warn(msg, category=FutureWarning)\n"
          ]
        }
      ]
    },
    {
      "cell_type": "code",
      "source": [
        "load_boston "
      ],
      "metadata": {
        "colab": {
          "base_uri": "https://localhost:8080/"
        },
        "id": "mxq0wmUS3OmP",
        "outputId": "9e61741b-743d-4523-c303-4af51f1783ce"
      },
      "execution_count": null,
      "outputs": [
        {
          "output_type": "execute_result",
          "data": {
            "text/plain": [
              "<function sklearn.datasets._base.load_boston>"
            ]
          },
          "metadata": {},
          "execution_count": 4
        }
      ]
    },
    {
      "cell_type": "code",
      "source": [
        "X.shape"
      ],
      "metadata": {
        "colab": {
          "base_uri": "https://localhost:8080/"
        },
        "id": "qf-2IqUr3Ojl",
        "outputId": "41af100e-3800-4f1c-b8bd-625d62c26444"
      },
      "execution_count": null,
      "outputs": [
        {
          "output_type": "execute_result",
          "data": {
            "text/plain": [
              "(506, 13)"
            ]
          },
          "metadata": {},
          "execution_count": 5
        }
      ]
    },
    {
      "cell_type": "code",
      "source": [
        "X"
      ],
      "metadata": {
        "colab": {
          "base_uri": "https://localhost:8080/"
        },
        "id": "xyLep0YP3Ogd",
        "outputId": "6fc1993b-4fbc-4df4-eaf0-87e32dd046ea"
      },
      "execution_count": null,
      "outputs": [
        {
          "output_type": "execute_result",
          "data": {
            "text/plain": [
              "array([[6.3200e-03, 1.8000e+01, 2.3100e+00, ..., 1.5300e+01, 3.9690e+02,\n",
              "        4.9800e+00],\n",
              "       [2.7310e-02, 0.0000e+00, 7.0700e+00, ..., 1.7800e+01, 3.9690e+02,\n",
              "        9.1400e+00],\n",
              "       [2.7290e-02, 0.0000e+00, 7.0700e+00, ..., 1.7800e+01, 3.9283e+02,\n",
              "        4.0300e+00],\n",
              "       ...,\n",
              "       [6.0760e-02, 0.0000e+00, 1.1930e+01, ..., 2.1000e+01, 3.9690e+02,\n",
              "        5.6400e+00],\n",
              "       [1.0959e-01, 0.0000e+00, 1.1930e+01, ..., 2.1000e+01, 3.9345e+02,\n",
              "        6.4800e+00],\n",
              "       [4.7410e-02, 0.0000e+00, 1.1930e+01, ..., 2.1000e+01, 3.9690e+02,\n",
              "        7.8800e+00]])"
            ]
          },
          "metadata": {},
          "execution_count": 6
        }
      ]
    },
    {
      "cell_type": "code",
      "source": [
        "type(X)"
      ],
      "metadata": {
        "colab": {
          "base_uri": "https://localhost:8080/"
        },
        "id": "sLOAvVsE3Od9",
        "outputId": "0fe4125b-f91d-4c52-d5e1-b9ae88adca21"
      },
      "execution_count": null,
      "outputs": [
        {
          "output_type": "execute_result",
          "data": {
            "text/plain": [
              "numpy.ndarray"
            ]
          },
          "metadata": {},
          "execution_count": 7
        }
      ]
    },
    {
      "cell_type": "code",
      "source": [
        "Y.shape"
      ],
      "metadata": {
        "colab": {
          "base_uri": "https://localhost:8080/"
        },
        "id": "nFLJSyrT3hXY",
        "outputId": "bb18deef-c976-4e16-bf81-499cecd8c7f5"
      },
      "execution_count": null,
      "outputs": [
        {
          "output_type": "execute_result",
          "data": {
            "text/plain": [
              "(506,)"
            ]
          },
          "metadata": {},
          "execution_count": 8
        }
      ]
    },
    {
      "cell_type": "code",
      "source": [
        "Y"
      ],
      "metadata": {
        "colab": {
          "base_uri": "https://localhost:8080/"
        },
        "id": "ZvNGimxY3hUx",
        "outputId": "9cc3e7a7-3b6b-40df-d5fc-ea538ef8524a"
      },
      "execution_count": null,
      "outputs": [
        {
          "output_type": "execute_result",
          "data": {
            "text/plain": [
              "array([24. , 21.6, 34.7, 33.4, 36.2, 28.7, 22.9, 27.1, 16.5, 18.9, 15. ,\n",
              "       18.9, 21.7, 20.4, 18.2, 19.9, 23.1, 17.5, 20.2, 18.2, 13.6, 19.6,\n",
              "       15.2, 14.5, 15.6, 13.9, 16.6, 14.8, 18.4, 21. , 12.7, 14.5, 13.2,\n",
              "       13.1, 13.5, 18.9, 20. , 21. , 24.7, 30.8, 34.9, 26.6, 25.3, 24.7,\n",
              "       21.2, 19.3, 20. , 16.6, 14.4, 19.4, 19.7, 20.5, 25. , 23.4, 18.9,\n",
              "       35.4, 24.7, 31.6, 23.3, 19.6, 18.7, 16. , 22.2, 25. , 33. , 23.5,\n",
              "       19.4, 22. , 17.4, 20.9, 24.2, 21.7, 22.8, 23.4, 24.1, 21.4, 20. ,\n",
              "       20.8, 21.2, 20.3, 28. , 23.9, 24.8, 22.9, 23.9, 26.6, 22.5, 22.2,\n",
              "       23.6, 28.7, 22.6, 22. , 22.9, 25. , 20.6, 28.4, 21.4, 38.7, 43.8,\n",
              "       33.2, 27.5, 26.5, 18.6, 19.3, 20.1, 19.5, 19.5, 20.4, 19.8, 19.4,\n",
              "       21.7, 22.8, 18.8, 18.7, 18.5, 18.3, 21.2, 19.2, 20.4, 19.3, 22. ,\n",
              "       20.3, 20.5, 17.3, 18.8, 21.4, 15.7, 16.2, 18. , 14.3, 19.2, 19.6,\n",
              "       23. , 18.4, 15.6, 18.1, 17.4, 17.1, 13.3, 17.8, 14. , 14.4, 13.4,\n",
              "       15.6, 11.8, 13.8, 15.6, 14.6, 17.8, 15.4, 21.5, 19.6, 15.3, 19.4,\n",
              "       17. , 15.6, 13.1, 41.3, 24.3, 23.3, 27. , 50. , 50. , 50. , 22.7,\n",
              "       25. , 50. , 23.8, 23.8, 22.3, 17.4, 19.1, 23.1, 23.6, 22.6, 29.4,\n",
              "       23.2, 24.6, 29.9, 37.2, 39.8, 36.2, 37.9, 32.5, 26.4, 29.6, 50. ,\n",
              "       32. , 29.8, 34.9, 37. , 30.5, 36.4, 31.1, 29.1, 50. , 33.3, 30.3,\n",
              "       34.6, 34.9, 32.9, 24.1, 42.3, 48.5, 50. , 22.6, 24.4, 22.5, 24.4,\n",
              "       20. , 21.7, 19.3, 22.4, 28.1, 23.7, 25. , 23.3, 28.7, 21.5, 23. ,\n",
              "       26.7, 21.7, 27.5, 30.1, 44.8, 50. , 37.6, 31.6, 46.7, 31.5, 24.3,\n",
              "       31.7, 41.7, 48.3, 29. , 24. , 25.1, 31.5, 23.7, 23.3, 22. , 20.1,\n",
              "       22.2, 23.7, 17.6, 18.5, 24.3, 20.5, 24.5, 26.2, 24.4, 24.8, 29.6,\n",
              "       42.8, 21.9, 20.9, 44. , 50. , 36. , 30.1, 33.8, 43.1, 48.8, 31. ,\n",
              "       36.5, 22.8, 30.7, 50. , 43.5, 20.7, 21.1, 25.2, 24.4, 35.2, 32.4,\n",
              "       32. , 33.2, 33.1, 29.1, 35.1, 45.4, 35.4, 46. , 50. , 32.2, 22. ,\n",
              "       20.1, 23.2, 22.3, 24.8, 28.5, 37.3, 27.9, 23.9, 21.7, 28.6, 27.1,\n",
              "       20.3, 22.5, 29. , 24.8, 22. , 26.4, 33.1, 36.1, 28.4, 33.4, 28.2,\n",
              "       22.8, 20.3, 16.1, 22.1, 19.4, 21.6, 23.8, 16.2, 17.8, 19.8, 23.1,\n",
              "       21. , 23.8, 23.1, 20.4, 18.5, 25. , 24.6, 23. , 22.2, 19.3, 22.6,\n",
              "       19.8, 17.1, 19.4, 22.2, 20.7, 21.1, 19.5, 18.5, 20.6, 19. , 18.7,\n",
              "       32.7, 16.5, 23.9, 31.2, 17.5, 17.2, 23.1, 24.5, 26.6, 22.9, 24.1,\n",
              "       18.6, 30.1, 18.2, 20.6, 17.8, 21.7, 22.7, 22.6, 25. , 19.9, 20.8,\n",
              "       16.8, 21.9, 27.5, 21.9, 23.1, 50. , 50. , 50. , 50. , 50. , 13.8,\n",
              "       13.8, 15. , 13.9, 13.3, 13.1, 10.2, 10.4, 10.9, 11.3, 12.3,  8.8,\n",
              "        7.2, 10.5,  7.4, 10.2, 11.5, 15.1, 23.2,  9.7, 13.8, 12.7, 13.1,\n",
              "       12.5,  8.5,  5. ,  6.3,  5.6,  7.2, 12.1,  8.3,  8.5,  5. , 11.9,\n",
              "       27.9, 17.2, 27.5, 15. , 17.2, 17.9, 16.3,  7. ,  7.2,  7.5, 10.4,\n",
              "        8.8,  8.4, 16.7, 14.2, 20.8, 13.4, 11.7,  8.3, 10.2, 10.9, 11. ,\n",
              "        9.5, 14.5, 14.1, 16.1, 14.3, 11.7, 13.4,  9.6,  8.7,  8.4, 12.8,\n",
              "       10.5, 17.1, 18.4, 15.4, 10.8, 11.8, 14.9, 12.6, 14.1, 13. , 13.4,\n",
              "       15.2, 16.1, 17.8, 14.9, 14.1, 12.7, 13.5, 14.9, 20. , 16.4, 17.7,\n",
              "       19.5, 20.2, 21.4, 19.9, 19. , 19.1, 19.1, 20.1, 19.9, 19.6, 23.2,\n",
              "       29.8, 13.8, 13.3, 16.7, 12. , 14.6, 21.4, 23. , 23.7, 25. , 21.8,\n",
              "       20.6, 21.2, 19.1, 20.6, 15.2,  7. ,  8.1, 13.6, 20.1, 21.8, 24.5,\n",
              "       23.1, 19.7, 18.3, 21.2, 17.5, 16.8, 22.4, 20.6, 23.9, 22. , 11.9])"
            ]
          },
          "metadata": {},
          "execution_count": 9
        }
      ]
    },
    {
      "cell_type": "code",
      "source": [
        "from sklearn.preprocessing import StandardScaler\n",
        "sc=StandardScaler()\n",
        "X_transform=sc.fit_transform(X)\n",
        "X_transform"
      ],
      "metadata": {
        "colab": {
          "base_uri": "https://localhost:8080/"
        },
        "id": "QeEs8b9F3hSQ",
        "outputId": "b3b1928b-eaf4-4129-da69-382a40f5c614"
      },
      "execution_count": null,
      "outputs": [
        {
          "output_type": "execute_result",
          "data": {
            "text/plain": [
              "array([[-0.41978194,  0.28482986, -1.2879095 , ..., -1.45900038,\n",
              "         0.44105193, -1.0755623 ],\n",
              "       [-0.41733926, -0.48772236, -0.59338101, ..., -0.30309415,\n",
              "         0.44105193, -0.49243937],\n",
              "       [-0.41734159, -0.48772236, -0.59338101, ..., -0.30309415,\n",
              "         0.39642699, -1.2087274 ],\n",
              "       ...,\n",
              "       [-0.41344658, -0.48772236,  0.11573841, ...,  1.17646583,\n",
              "         0.44105193, -0.98304761],\n",
              "       [-0.40776407, -0.48772236,  0.11573841, ...,  1.17646583,\n",
              "         0.4032249 , -0.86530163],\n",
              "       [-0.41500016, -0.48772236,  0.11573841, ...,  1.17646583,\n",
              "         0.44105193, -0.66905833]])"
            ]
          },
          "metadata": {},
          "execution_count": 10
        }
      ]
    },
    {
      "cell_type": "code",
      "source": [
        "from sklearn.model_selection import train_test_split\n",
        "X_train,X_test,Y_train,Y_test = train_test_split(X_transform,Y,test_size=0.2,random_state=0)"
      ],
      "metadata": {
        "id": "f0N7MZD177q5"
      },
      "execution_count": null,
      "outputs": []
    },
    {
      "cell_type": "code",
      "source": [
        "#importing the libraries \n",
        "from keras.models import Sequential\n",
        "from keras.layers import Dense\n",
        "\n",
        "model = Sequential()\n",
        "\n",
        "#defining the input layer and first hidden layer\n",
        "model.add(Dense(units=13,input_dim=13,kernel_initializer='normal',activation='relu'))\n",
        "\n",
        "#defining the second layer of the model\n",
        "#after first layer there is no need to specify input_dim as keras configure it automatically\n",
        "model.add(Dense(units=13,kernel_initializer='normal',activation='relu'))\n",
        "model.add(Dense(units=6,kernel_initializer='normal',activation='relu'))\n",
        "#model.add(Dense(units=2,kernel_initializer='normal',activation='relu'))\n",
        "#the output neuron is a single fully connected node\n",
        "# since we will be predicting a single number\n",
        "model.add(Dense(1,kernel_initializer='normal'))\n",
        "\n",
        "#compiling the model\n",
        "model.compile(loss='mean_squared_error',optimizer='adam')\n",
        "\n",
        "#Fitting the ANN to the training set\n",
        "model_1 = model.fit(X_train,Y_train,validation_data=(X_test,Y_test),batch_size=1,epochs=200,verbose=1)\n",
        " #Batch size is a term used in machine learning and refers to the number of training examples utilized in one iteration. The batch size can be one of three options: batch mode: where the batch size is equal to the total dataset thus making the iteration and epoch values equivalent\n",
        "#verbose basically means logs. It accepts values as 0/1. If you put Verbose value as 1 in ModelCheckPoint callback, after every epoch you will get a statement like Model improved from error 456 to 123 or model did not improve in this epoch."
      ],
      "metadata": {
        "colab": {
          "base_uri": "https://localhost:8080/"
        },
        "id": "BSe8zXQO3hPv",
        "outputId": "e8e24fa9-b1e3-4b0c-caa7-a2cfd75dfabe"
      },
      "execution_count": null,
      "outputs": [
        {
          "output_type": "stream",
          "name": "stdout",
          "text": [
            "Epoch 1/200\n",
            "404/404 [==============================] - 2s 3ms/step - loss: 412.5626 - val_loss: 116.7464\n",
            "Epoch 2/200\n",
            "404/404 [==============================] - 1s 3ms/step - loss: 46.6399 - val_loss: 58.9809\n",
            "Epoch 3/200\n",
            "404/404 [==============================] - 2s 4ms/step - loss: 30.9135 - val_loss: 51.6159\n",
            "Epoch 4/200\n",
            "404/404 [==============================] - 2s 4ms/step - loss: 27.1611 - val_loss: 48.8138\n",
            "Epoch 5/200\n",
            "404/404 [==============================] - 2s 5ms/step - loss: 24.7336 - val_loss: 46.1994\n",
            "Epoch 6/200\n",
            "404/404 [==============================] - 2s 5ms/step - loss: 22.9712 - val_loss: 43.1999\n",
            "Epoch 7/200\n",
            "404/404 [==============================] - 2s 5ms/step - loss: 21.0377 - val_loss: 39.9266\n",
            "Epoch 8/200\n",
            "404/404 [==============================] - 2s 4ms/step - loss: 19.6478 - val_loss: 36.9164\n",
            "Epoch 9/200\n",
            "404/404 [==============================] - 2s 5ms/step - loss: 18.3665 - val_loss: 34.4672\n",
            "Epoch 10/200\n",
            "404/404 [==============================] - 2s 5ms/step - loss: 17.4201 - val_loss: 33.1809\n",
            "Epoch 11/200\n",
            "404/404 [==============================] - 2s 4ms/step - loss: 16.4463 - val_loss: 30.8643\n",
            "Epoch 12/200\n",
            "404/404 [==============================] - 2s 4ms/step - loss: 15.5591 - val_loss: 31.1337\n",
            "Epoch 13/200\n",
            "404/404 [==============================] - 2s 6ms/step - loss: 15.0393 - val_loss: 29.5847\n",
            "Epoch 14/200\n",
            "404/404 [==============================] - 1s 3ms/step - loss: 14.5669 - val_loss: 28.3920\n",
            "Epoch 15/200\n",
            "404/404 [==============================] - 1s 2ms/step - loss: 13.9990 - val_loss: 29.4180\n",
            "Epoch 16/200\n",
            "404/404 [==============================] - 1s 2ms/step - loss: 13.7697 - val_loss: 27.5737\n",
            "Epoch 17/200\n",
            "404/404 [==============================] - 1s 2ms/step - loss: 13.3435 - val_loss: 28.8298\n",
            "Epoch 18/200\n",
            "404/404 [==============================] - 1s 2ms/step - loss: 12.9295 - val_loss: 26.3973\n",
            "Epoch 19/200\n",
            "404/404 [==============================] - 1s 2ms/step - loss: 12.6599 - val_loss: 25.4533\n",
            "Epoch 20/200\n",
            "404/404 [==============================] - 1s 2ms/step - loss: 12.3228 - val_loss: 23.8096\n",
            "Epoch 21/200\n",
            "404/404 [==============================] - 1s 2ms/step - loss: 12.0580 - val_loss: 25.0383\n",
            "Epoch 22/200\n",
            "404/404 [==============================] - 1s 2ms/step - loss: 11.9690 - val_loss: 24.6954\n",
            "Epoch 23/200\n",
            "404/404 [==============================] - 1s 2ms/step - loss: 11.6288 - val_loss: 23.9767\n",
            "Epoch 24/200\n",
            "404/404 [==============================] - 1s 2ms/step - loss: 11.4950 - val_loss: 23.8295\n",
            "Epoch 25/200\n",
            "404/404 [==============================] - 1s 2ms/step - loss: 11.0898 - val_loss: 22.5895\n",
            "Epoch 26/200\n",
            "404/404 [==============================] - 1s 2ms/step - loss: 10.7807 - val_loss: 21.6349\n",
            "Epoch 27/200\n",
            "404/404 [==============================] - 1s 2ms/step - loss: 10.8845 - val_loss: 21.8306\n",
            "Epoch 28/200\n",
            "404/404 [==============================] - 1s 2ms/step - loss: 10.6176 - val_loss: 21.3745\n",
            "Epoch 29/200\n",
            "404/404 [==============================] - 1s 2ms/step - loss: 10.4236 - val_loss: 22.7370\n",
            "Epoch 30/200\n",
            "404/404 [==============================] - 1s 2ms/step - loss: 10.4671 - val_loss: 22.0042\n",
            "Epoch 31/200\n",
            "404/404 [==============================] - 1s 2ms/step - loss: 10.0517 - val_loss: 20.6739\n",
            "Epoch 32/200\n",
            "404/404 [==============================] - 1s 2ms/step - loss: 9.9926 - val_loss: 22.2186\n",
            "Epoch 33/200\n",
            "404/404 [==============================] - 1s 2ms/step - loss: 9.7689 - val_loss: 20.8008\n",
            "Epoch 34/200\n",
            "404/404 [==============================] - 1s 2ms/step - loss: 9.6764 - val_loss: 20.1469\n",
            "Epoch 35/200\n",
            "404/404 [==============================] - 1s 2ms/step - loss: 9.1995 - val_loss: 20.4231\n",
            "Epoch 36/200\n",
            "404/404 [==============================] - 1s 2ms/step - loss: 9.5596 - val_loss: 20.7737\n",
            "Epoch 37/200\n",
            "404/404 [==============================] - 1s 2ms/step - loss: 9.3657 - val_loss: 22.3260\n",
            "Epoch 38/200\n",
            "404/404 [==============================] - 1s 2ms/step - loss: 9.2913 - val_loss: 20.4943\n",
            "Epoch 39/200\n",
            "404/404 [==============================] - 1s 2ms/step - loss: 9.1364 - val_loss: 19.8039\n",
            "Epoch 40/200\n",
            "404/404 [==============================] - 1s 2ms/step - loss: 8.8024 - val_loss: 20.6971\n",
            "Epoch 41/200\n",
            "404/404 [==============================] - 1s 2ms/step - loss: 8.8988 - val_loss: 19.7602\n",
            "Epoch 42/200\n",
            "404/404 [==============================] - 1s 2ms/step - loss: 8.9309 - val_loss: 19.9242\n",
            "Epoch 43/200\n",
            "404/404 [==============================] - 1s 2ms/step - loss: 8.4917 - val_loss: 19.5492\n",
            "Epoch 44/200\n",
            "404/404 [==============================] - 1s 2ms/step - loss: 8.6581 - val_loss: 20.0467\n",
            "Epoch 45/200\n",
            "404/404 [==============================] - 1s 2ms/step - loss: 8.5568 - val_loss: 20.2223\n",
            "Epoch 46/200\n",
            "404/404 [==============================] - 1s 2ms/step - loss: 8.4512 - val_loss: 19.9916\n",
            "Epoch 47/200\n",
            "404/404 [==============================] - 1s 2ms/step - loss: 8.3557 - val_loss: 19.7589\n",
            "Epoch 48/200\n",
            "404/404 [==============================] - 1s 2ms/step - loss: 8.1936 - val_loss: 19.0984\n",
            "Epoch 49/200\n",
            "404/404 [==============================] - 1s 2ms/step - loss: 8.2906 - val_loss: 18.9994\n",
            "Epoch 50/200\n",
            "404/404 [==============================] - 1s 2ms/step - loss: 7.9520 - val_loss: 18.7398\n",
            "Epoch 51/200\n",
            "404/404 [==============================] - 1s 2ms/step - loss: 8.2597 - val_loss: 19.7887\n",
            "Epoch 52/200\n",
            "404/404 [==============================] - 1s 2ms/step - loss: 8.1267 - val_loss: 19.9284\n",
            "Epoch 53/200\n",
            "404/404 [==============================] - 1s 2ms/step - loss: 7.9431 - val_loss: 19.1687\n",
            "Epoch 54/200\n",
            "404/404 [==============================] - 1s 2ms/step - loss: 7.8259 - val_loss: 18.8967\n",
            "Epoch 55/200\n",
            "404/404 [==============================] - 1s 2ms/step - loss: 7.9193 - val_loss: 19.2865\n",
            "Epoch 56/200\n",
            "404/404 [==============================] - 1s 2ms/step - loss: 7.7520 - val_loss: 20.1018\n",
            "Epoch 57/200\n",
            "404/404 [==============================] - 1s 2ms/step - loss: 7.9110 - val_loss: 19.7251\n",
            "Epoch 58/200\n",
            "404/404 [==============================] - 1s 2ms/step - loss: 7.7933 - val_loss: 19.4158\n",
            "Epoch 59/200\n",
            "404/404 [==============================] - 1s 2ms/step - loss: 7.6814 - val_loss: 18.4285\n",
            "Epoch 60/200\n",
            "404/404 [==============================] - 1s 2ms/step - loss: 7.4443 - val_loss: 19.4450\n",
            "Epoch 61/200\n",
            "404/404 [==============================] - 1s 2ms/step - loss: 7.6520 - val_loss: 18.7511\n",
            "Epoch 62/200\n",
            "404/404 [==============================] - 1s 2ms/step - loss: 7.3813 - val_loss: 18.7401\n",
            "Epoch 63/200\n",
            "404/404 [==============================] - 1s 2ms/step - loss: 7.6583 - val_loss: 18.0269\n",
            "Epoch 64/200\n",
            "404/404 [==============================] - 1s 2ms/step - loss: 7.5892 - val_loss: 19.4395\n",
            "Epoch 65/200\n",
            "404/404 [==============================] - 1s 2ms/step - loss: 7.5884 - val_loss: 18.8980\n",
            "Epoch 66/200\n",
            "404/404 [==============================] - 1s 2ms/step - loss: 7.4636 - val_loss: 18.9712\n",
            "Epoch 67/200\n",
            "404/404 [==============================] - 1s 2ms/step - loss: 7.5018 - val_loss: 20.7445\n",
            "Epoch 68/200\n",
            "404/404 [==============================] - 1s 2ms/step - loss: 7.2071 - val_loss: 21.2513\n",
            "Epoch 69/200\n",
            "404/404 [==============================] - 1s 2ms/step - loss: 7.3685 - val_loss: 18.7302\n",
            "Epoch 70/200\n",
            "404/404 [==============================] - 1s 2ms/step - loss: 7.1238 - val_loss: 21.3233\n",
            "Epoch 71/200\n",
            "404/404 [==============================] - 1s 2ms/step - loss: 7.4587 - val_loss: 19.6020\n",
            "Epoch 72/200\n",
            "404/404 [==============================] - 1s 2ms/step - loss: 7.3379 - val_loss: 20.8063\n",
            "Epoch 73/200\n",
            "404/404 [==============================] - 1s 2ms/step - loss: 7.1883 - val_loss: 20.4238\n",
            "Epoch 74/200\n",
            "404/404 [==============================] - 1s 2ms/step - loss: 7.2429 - val_loss: 19.1762\n",
            "Epoch 75/200\n",
            "404/404 [==============================] - 1s 2ms/step - loss: 7.3370 - val_loss: 19.3555\n",
            "Epoch 76/200\n",
            "404/404 [==============================] - 1s 2ms/step - loss: 7.1996 - val_loss: 19.0614\n",
            "Epoch 77/200\n",
            "404/404 [==============================] - 1s 2ms/step - loss: 7.2608 - val_loss: 20.6928\n",
            "Epoch 78/200\n",
            "404/404 [==============================] - 1s 2ms/step - loss: 6.9287 - val_loss: 18.6485\n",
            "Epoch 79/200\n",
            "404/404 [==============================] - 1s 2ms/step - loss: 7.0986 - val_loss: 19.8472\n",
            "Epoch 80/200\n",
            "404/404 [==============================] - 1s 2ms/step - loss: 7.0624 - val_loss: 19.3644\n",
            "Epoch 81/200\n",
            "404/404 [==============================] - 1s 2ms/step - loss: 7.0942 - val_loss: 19.7105\n",
            "Epoch 82/200\n",
            "404/404 [==============================] - 1s 2ms/step - loss: 6.8228 - val_loss: 18.6245\n",
            "Epoch 83/200\n",
            "404/404 [==============================] - 1s 2ms/step - loss: 6.8668 - val_loss: 18.3541\n",
            "Epoch 84/200\n",
            "404/404 [==============================] - 1s 2ms/step - loss: 6.8884 - val_loss: 17.9751\n",
            "Epoch 85/200\n",
            "404/404 [==============================] - 1s 2ms/step - loss: 6.7944 - val_loss: 20.8139\n",
            "Epoch 86/200\n",
            "404/404 [==============================] - 1s 2ms/step - loss: 6.9791 - val_loss: 19.6105\n",
            "Epoch 87/200\n",
            "404/404 [==============================] - 1s 2ms/step - loss: 6.7584 - val_loss: 20.6021\n",
            "Epoch 88/200\n",
            "404/404 [==============================] - 1s 2ms/step - loss: 6.8148 - val_loss: 20.6962\n",
            "Epoch 89/200\n",
            "404/404 [==============================] - 1s 2ms/step - loss: 6.7847 - val_loss: 18.8090\n",
            "Epoch 90/200\n",
            "404/404 [==============================] - 1s 2ms/step - loss: 6.8907 - val_loss: 20.9978\n",
            "Epoch 91/200\n",
            "404/404 [==============================] - 1s 2ms/step - loss: 6.6466 - val_loss: 18.1020\n",
            "Epoch 92/200\n",
            "404/404 [==============================] - 1s 2ms/step - loss: 6.9161 - val_loss: 19.2165\n",
            "Epoch 93/200\n",
            "404/404 [==============================] - 1s 2ms/step - loss: 6.6727 - val_loss: 20.6199\n",
            "Epoch 94/200\n",
            "404/404 [==============================] - 1s 2ms/step - loss: 6.6574 - val_loss: 18.6009\n",
            "Epoch 95/200\n",
            "404/404 [==============================] - 1s 2ms/step - loss: 6.6860 - val_loss: 20.2026\n",
            "Epoch 96/200\n",
            "404/404 [==============================] - 1s 2ms/step - loss: 6.7688 - val_loss: 20.0476\n",
            "Epoch 97/200\n",
            "404/404 [==============================] - 1s 2ms/step - loss: 6.5897 - val_loss: 20.8510\n",
            "Epoch 98/200\n",
            "404/404 [==============================] - 1s 2ms/step - loss: 6.7267 - val_loss: 20.7563\n",
            "Epoch 99/200\n",
            "404/404 [==============================] - 1s 2ms/step - loss: 6.5381 - val_loss: 20.5355\n",
            "Epoch 100/200\n",
            "404/404 [==============================] - 1s 2ms/step - loss: 6.5843 - val_loss: 18.1836\n",
            "Epoch 101/200\n",
            "404/404 [==============================] - 1s 2ms/step - loss: 6.6071 - val_loss: 18.2813\n",
            "Epoch 102/200\n",
            "404/404 [==============================] - 1s 2ms/step - loss: 6.6020 - val_loss: 19.7981\n",
            "Epoch 103/200\n",
            "404/404 [==============================] - 1s 2ms/step - loss: 6.4373 - val_loss: 18.3385\n",
            "Epoch 104/200\n",
            "404/404 [==============================] - 1s 2ms/step - loss: 6.6001 - val_loss: 19.3326\n",
            "Epoch 105/200\n",
            "404/404 [==============================] - 1s 2ms/step - loss: 6.6389 - val_loss: 19.2196\n",
            "Epoch 106/200\n",
            "404/404 [==============================] - 1s 2ms/step - loss: 6.4205 - val_loss: 19.5992\n",
            "Epoch 107/200\n",
            "404/404 [==============================] - 1s 2ms/step - loss: 6.6831 - val_loss: 19.0578\n",
            "Epoch 108/200\n",
            "404/404 [==============================] - 1s 2ms/step - loss: 6.6067 - val_loss: 18.5393\n",
            "Epoch 109/200\n",
            "404/404 [==============================] - 1s 2ms/step - loss: 6.3957 - val_loss: 20.6335\n",
            "Epoch 110/200\n",
            "404/404 [==============================] - 1s 2ms/step - loss: 6.4966 - val_loss: 19.3310\n",
            "Epoch 111/200\n",
            "404/404 [==============================] - 1s 2ms/step - loss: 6.3978 - val_loss: 18.5663\n",
            "Epoch 112/200\n",
            "404/404 [==============================] - 1s 2ms/step - loss: 6.4954 - val_loss: 18.8386\n",
            "Epoch 113/200\n",
            "404/404 [==============================] - 1s 2ms/step - loss: 6.3113 - val_loss: 19.8615\n",
            "Epoch 114/200\n",
            "404/404 [==============================] - 1s 2ms/step - loss: 6.3988 - val_loss: 18.9863\n",
            "Epoch 115/200\n",
            "404/404 [==============================] - 1s 3ms/step - loss: 6.3971 - val_loss: 18.5335\n",
            "Epoch 116/200\n",
            "404/404 [==============================] - 1s 2ms/step - loss: 6.4074 - val_loss: 19.3137\n",
            "Epoch 117/200\n",
            "404/404 [==============================] - 1s 2ms/step - loss: 6.3879 - val_loss: 19.9038\n",
            "Epoch 118/200\n",
            "404/404 [==============================] - 1s 2ms/step - loss: 6.2451 - val_loss: 18.5408\n",
            "Epoch 119/200\n",
            "404/404 [==============================] - 1s 2ms/step - loss: 6.2339 - val_loss: 19.3172\n",
            "Epoch 120/200\n",
            "404/404 [==============================] - 1s 2ms/step - loss: 6.2742 - val_loss: 18.4971\n",
            "Epoch 121/200\n",
            "404/404 [==============================] - 1s 2ms/step - loss: 6.3229 - val_loss: 18.3930\n",
            "Epoch 122/200\n",
            "404/404 [==============================] - 1s 3ms/step - loss: 6.2765 - val_loss: 19.3446\n",
            "Epoch 123/200\n",
            "404/404 [==============================] - 1s 2ms/step - loss: 6.4934 - val_loss: 19.2291\n",
            "Epoch 124/200\n",
            "404/404 [==============================] - 1s 2ms/step - loss: 6.3255 - val_loss: 19.5014\n",
            "Epoch 125/200\n",
            "404/404 [==============================] - 1s 2ms/step - loss: 6.3835 - val_loss: 19.0165\n",
            "Epoch 126/200\n",
            "404/404 [==============================] - 1s 2ms/step - loss: 6.2076 - val_loss: 18.9676\n",
            "Epoch 127/200\n",
            "404/404 [==============================] - 1s 2ms/step - loss: 6.3581 - val_loss: 18.5038\n",
            "Epoch 128/200\n",
            "404/404 [==============================] - 1s 2ms/step - loss: 6.2977 - val_loss: 18.7702\n",
            "Epoch 129/200\n",
            "404/404 [==============================] - 1s 2ms/step - loss: 6.2029 - val_loss: 19.5620\n",
            "Epoch 130/200\n",
            "404/404 [==============================] - 1s 2ms/step - loss: 6.1242 - val_loss: 17.7091\n",
            "Epoch 131/200\n",
            "404/404 [==============================] - 1s 2ms/step - loss: 6.2630 - val_loss: 17.7377\n",
            "Epoch 132/200\n",
            "404/404 [==============================] - 1s 2ms/step - loss: 6.3017 - val_loss: 19.3752\n",
            "Epoch 133/200\n",
            "404/404 [==============================] - 1s 2ms/step - loss: 6.0981 - val_loss: 18.6733\n",
            "Epoch 134/200\n",
            "404/404 [==============================] - 1s 2ms/step - loss: 6.2652 - val_loss: 17.6677\n",
            "Epoch 135/200\n",
            "404/404 [==============================] - 1s 2ms/step - loss: 6.3291 - val_loss: 18.4532\n",
            "Epoch 136/200\n",
            "404/404 [==============================] - 1s 2ms/step - loss: 6.1911 - val_loss: 18.9903\n",
            "Epoch 137/200\n",
            "404/404 [==============================] - 1s 2ms/step - loss: 6.2534 - val_loss: 18.2904\n",
            "Epoch 138/200\n",
            "404/404 [==============================] - 1s 2ms/step - loss: 6.1626 - val_loss: 18.1818\n",
            "Epoch 139/200\n",
            "404/404 [==============================] - 1s 2ms/step - loss: 6.1987 - val_loss: 19.0544\n",
            "Epoch 140/200\n",
            "404/404 [==============================] - 1s 2ms/step - loss: 6.1320 - val_loss: 18.3161\n",
            "Epoch 141/200\n",
            "404/404 [==============================] - 1s 2ms/step - loss: 6.1250 - val_loss: 18.8339\n",
            "Epoch 142/200\n",
            "404/404 [==============================] - 1s 2ms/step - loss: 6.1147 - val_loss: 18.9128\n",
            "Epoch 143/200\n",
            "404/404 [==============================] - 1s 2ms/step - loss: 5.9721 - val_loss: 18.1484\n",
            "Epoch 144/200\n",
            "404/404 [==============================] - 1s 2ms/step - loss: 6.0852 - val_loss: 19.9746\n",
            "Epoch 145/200\n",
            "404/404 [==============================] - 1s 2ms/step - loss: 6.0405 - val_loss: 17.7950\n",
            "Epoch 146/200\n",
            "404/404 [==============================] - 1s 2ms/step - loss: 6.0982 - val_loss: 20.3553\n",
            "Epoch 147/200\n",
            "404/404 [==============================] - 1s 2ms/step - loss: 6.0625 - val_loss: 18.3195\n",
            "Epoch 148/200\n",
            "404/404 [==============================] - 1s 2ms/step - loss: 6.1845 - val_loss: 18.9094\n",
            "Epoch 149/200\n",
            "404/404 [==============================] - 1s 2ms/step - loss: 5.9500 - val_loss: 18.1537\n",
            "Epoch 150/200\n",
            "404/404 [==============================] - 1s 2ms/step - loss: 5.9703 - val_loss: 20.8211\n",
            "Epoch 151/200\n",
            "404/404 [==============================] - 1s 2ms/step - loss: 5.8795 - val_loss: 20.4005\n",
            "Epoch 152/200\n",
            "404/404 [==============================] - 1s 2ms/step - loss: 6.2281 - val_loss: 18.0900\n",
            "Epoch 153/200\n",
            "404/404 [==============================] - 1s 2ms/step - loss: 5.7561 - val_loss: 19.9694\n",
            "Epoch 154/200\n",
            "404/404 [==============================] - 1s 2ms/step - loss: 6.0339 - val_loss: 18.9254\n",
            "Epoch 155/200\n",
            "404/404 [==============================] - 1s 2ms/step - loss: 5.9180 - val_loss: 18.3551\n",
            "Epoch 156/200\n",
            "404/404 [==============================] - 1s 2ms/step - loss: 6.0382 - val_loss: 17.9971\n",
            "Epoch 157/200\n",
            "404/404 [==============================] - 1s 2ms/step - loss: 6.0138 - val_loss: 18.9858\n",
            "Epoch 158/200\n",
            "404/404 [==============================] - 1s 2ms/step - loss: 6.0266 - val_loss: 19.0486\n",
            "Epoch 159/200\n",
            "404/404 [==============================] - 1s 2ms/step - loss: 5.7798 - val_loss: 18.0586\n",
            "Epoch 160/200\n",
            "404/404 [==============================] - 1s 2ms/step - loss: 5.7808 - val_loss: 18.5526\n",
            "Epoch 161/200\n",
            "404/404 [==============================] - 1s 2ms/step - loss: 6.1283 - val_loss: 18.7101\n",
            "Epoch 162/200\n",
            "404/404 [==============================] - 1s 2ms/step - loss: 5.9245 - val_loss: 18.5428\n",
            "Epoch 163/200\n",
            "404/404 [==============================] - 1s 2ms/step - loss: 5.9567 - val_loss: 19.6110\n",
            "Epoch 164/200\n",
            "404/404 [==============================] - 1s 2ms/step - loss: 5.9226 - val_loss: 20.1731\n",
            "Epoch 165/200\n",
            "404/404 [==============================] - 1s 2ms/step - loss: 6.0700 - val_loss: 17.9174\n",
            "Epoch 166/200\n",
            "404/404 [==============================] - 1s 2ms/step - loss: 5.8925 - val_loss: 18.7339\n",
            "Epoch 167/200\n",
            "404/404 [==============================] - 1s 2ms/step - loss: 5.8911 - val_loss: 18.8871\n",
            "Epoch 168/200\n",
            "404/404 [==============================] - 1s 2ms/step - loss: 5.8641 - val_loss: 19.4502\n",
            "Epoch 169/200\n",
            "404/404 [==============================] - 1s 2ms/step - loss: 5.8796 - val_loss: 19.2959\n",
            "Epoch 170/200\n",
            "404/404 [==============================] - 1s 2ms/step - loss: 5.8808 - val_loss: 20.6016\n",
            "Epoch 171/200\n",
            "404/404 [==============================] - 1s 2ms/step - loss: 5.7318 - val_loss: 18.5561\n",
            "Epoch 172/200\n",
            "404/404 [==============================] - 1s 2ms/step - loss: 5.8623 - val_loss: 19.2638\n",
            "Epoch 173/200\n",
            "404/404 [==============================] - 1s 2ms/step - loss: 5.9418 - val_loss: 18.6906\n",
            "Epoch 174/200\n",
            "404/404 [==============================] - 1s 2ms/step - loss: 5.8782 - val_loss: 19.9786\n",
            "Epoch 175/200\n",
            "404/404 [==============================] - 1s 2ms/step - loss: 5.8354 - val_loss: 18.1087\n",
            "Epoch 176/200\n",
            "404/404 [==============================] - 1s 2ms/step - loss: 5.7036 - val_loss: 18.5526\n",
            "Epoch 177/200\n",
            "404/404 [==============================] - 1s 2ms/step - loss: 5.9255 - val_loss: 18.4293\n",
            "Epoch 178/200\n",
            "404/404 [==============================] - 1s 2ms/step - loss: 5.7367 - val_loss: 19.1576\n",
            "Epoch 179/200\n",
            "404/404 [==============================] - 1s 2ms/step - loss: 5.7640 - val_loss: 19.0771\n",
            "Epoch 180/200\n",
            "404/404 [==============================] - 1s 2ms/step - loss: 5.6715 - val_loss: 20.4940\n",
            "Epoch 181/200\n",
            "404/404 [==============================] - 1s 2ms/step - loss: 5.6117 - val_loss: 19.7022\n",
            "Epoch 182/200\n",
            "404/404 [==============================] - 1s 2ms/step - loss: 5.7697 - val_loss: 18.6043\n",
            "Epoch 183/200\n",
            "404/404 [==============================] - 1s 2ms/step - loss: 5.7426 - val_loss: 18.0179\n",
            "Epoch 184/200\n",
            "404/404 [==============================] - 1s 2ms/step - loss: 5.5478 - val_loss: 17.8605\n",
            "Epoch 185/200\n",
            "404/404 [==============================] - 1s 2ms/step - loss: 5.5548 - val_loss: 19.1957\n",
            "Epoch 186/200\n",
            "404/404 [==============================] - 1s 2ms/step - loss: 5.6706 - val_loss: 20.1929\n",
            "Epoch 187/200\n",
            "404/404 [==============================] - 1s 2ms/step - loss: 5.5689 - val_loss: 20.6363\n",
            "Epoch 188/200\n",
            "404/404 [==============================] - 1s 2ms/step - loss: 5.5349 - val_loss: 17.8397\n",
            "Epoch 189/200\n",
            "404/404 [==============================] - 1s 2ms/step - loss: 5.6925 - val_loss: 18.1729\n",
            "Epoch 190/200\n",
            "404/404 [==============================] - 1s 2ms/step - loss: 5.6294 - val_loss: 19.1582\n",
            "Epoch 191/200\n",
            "404/404 [==============================] - 1s 2ms/step - loss: 5.5544 - val_loss: 18.3929\n",
            "Epoch 192/200\n",
            "404/404 [==============================] - 1s 2ms/step - loss: 5.5945 - val_loss: 20.6770\n",
            "Epoch 193/200\n",
            "404/404 [==============================] - 1s 2ms/step - loss: 5.6534 - val_loss: 19.8763\n",
            "Epoch 194/200\n",
            "404/404 [==============================] - 1s 2ms/step - loss: 5.5906 - val_loss: 19.4234\n",
            "Epoch 195/200\n",
            "404/404 [==============================] - 1s 2ms/step - loss: 5.7069 - val_loss: 18.9273\n",
            "Epoch 196/200\n",
            "404/404 [==============================] - 1s 2ms/step - loss: 5.6369 - val_loss: 18.7444\n",
            "Epoch 197/200\n",
            "404/404 [==============================] - 1s 2ms/step - loss: 5.6374 - val_loss: 19.2668\n",
            "Epoch 198/200\n",
            "404/404 [==============================] - 1s 2ms/step - loss: 5.6375 - val_loss: 18.1049\n",
            "Epoch 199/200\n",
            "404/404 [==============================] - 1s 2ms/step - loss: 5.3836 - val_loss: 20.1971\n",
            "Epoch 200/200\n",
            "404/404 [==============================] - 1s 2ms/step - loss: 5.5861 - val_loss: 19.1591\n"
          ]
        }
      ]
    },
    {
      "cell_type": "code",
      "source": [
        "epoch_range = range(0,200)\n",
        "fig = plt.figure()\n",
        "#a1 = fig.add_axes([0,0,1,1])\n",
        "plt.plot(epoch_range, model_1.history['loss'])\n",
        "plt.plot(epoch_range, model_1.history['val_loss'])\n",
        "plt.title('model Error')\n",
        "plt.ylabel('Loss')\n",
        "plt.xlabel('Epoch')\n",
        "#a1.set_ylim(0,1)\n",
        "#plt.legend(['Train','Val'], loc = 'upper right')\n",
        "plt.show()"
      ],
      "metadata": {
        "colab": {
          "base_uri": "https://localhost:8080/",
          "height": 295
        },
        "id": "9_Ml5w4oxrfa",
        "outputId": "29a5c352-c7d2-4a57-b6b1-a8751bae7036"
      },
      "execution_count": null,
      "outputs": [
        {
          "output_type": "display_data",
          "data": {
            "image/png": "[encoded data removed]",
            "text/plain": [
              "<Figure size 432x288 with 1 Axes>"
            ]
          },
          "metadata": {
            "needs_background": "light"
          }
        }
      ]
    },
    {
      "cell_type": "code",
      "source": [
        "Y_pred_mlr = model.predict(X_test)"
      ],
      "metadata": {
        "id": "vJSCG708xsxD"
      },
      "execution_count": null,
      "outputs": []
    },
    {
      "cell_type": "code",
      "source": [
        "from sklearn import metrics\n",
        "meanAbErr = metrics.mean_absolute_error(Y_test, Y_pred_mlr)\n",
        "meanSqErr = metrics.mean_squared_error(Y_test, Y_pred_mlr)\n",
        "rootMeanSqErr = np.sqrt(metrics.mean_squared_error(Y_test, Y_pred_mlr))\n",
        "#print('R squared: {:.2f}'.format(model.score(x,y)*100))\n",
        "print('Mean Absolute Error:', meanAbErr)\n",
        "print('Mean Square Error:', meanSqErr)\n",
        "print('Root Mean Square Error:', rootMeanSqErr)"
      ],
      "metadata": {
        "colab": {
          "base_uri": "https://localhost:8080/"
        },
        "id": "HPh1833UxsnV",
        "outputId": "a5384fe8-708e-4961-8a14-43019e717f19"
      },
      "execution_count": null,
      "outputs": [
        {
          "output_type": "stream",
          "name": "stdout",
          "text": [
            "Mean Absolute Error: 2.93269061200759\n",
            "Mean Square Error: 19.159144872841086\n",
            "Root Mean Square Error: 4.377116045165022\n"
          ]
        }
      ]
    }
  ]
}