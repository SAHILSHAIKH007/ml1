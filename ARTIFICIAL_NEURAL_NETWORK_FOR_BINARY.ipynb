{
  "nbformat": 4,
  "nbformat_minor": 0,
  "metadata": {
    "colab": {
      "name": "ARTIFICIAL_NEURAL_NETWORK_FOR_BINARY.ipynb",
      "provenance": []
    },
    "kernelspec": {
      "name": "python3",
      "display_name": "Python 3"
    },
    "language_info": {
      "name": "python"
    }
  },
  "cells": [
    {
      "cell_type": "markdown",
      "source": [
        "#Breast Cancer Detection using Artificial Neural Network\n",
        "1. Deep Neural Network (DNN)\n"
      ],
      "metadata": {
        "id": "aVDb_nb6tYC8"
      }
    },
    {
      "cell_type": "markdown",
      "source": [
        "Aim: To implement Neural Network for a classification problem"
      ],
      "metadata": {
        "id": "SCUteESXpzvm"
      }
    },
    {
      "cell_type": "code",
      "source": [
        " #importing all required libraries\n",
        "import keras\n",
        "from keras import Sequential\n",
        "from keras.layers import Flatten, Dense, Dropout, BatchNormalization , Conv1D, MaxPool1D\n",
        "from keras.preprocessing.image import ImageDataGenerator\n",
        "from tensorflow.keras.optimizers import Adam\n",
        "print('The required libraries for the ANN has been imported from the keras')"
      ],
      "metadata": {
        "colab": {
          "base_uri": "https://localhost:8080/"
        },
        "id": "QMzumK3fp8bE",
        "outputId": "dbe72db4-f071-4860-9810-b046854d2f55"
      },
      "execution_count": null,
      "outputs": [
        {
          "output_type": "stream",
          "name": "stdout",
          "text": [
            "The required libraries for the ANN has been imported from the keras\n"
          ]
        }
      ]
    },
    {
      "cell_type": "code",
      "source": [
        "import numpy as np\n",
        "import pandas as pd\n",
        "import matplotlib.pyplot as plt\n",
        "from sklearn.model_selection import train_test_split\n",
        "from sklearn.preprocessing import StandardScaler"
      ],
      "metadata": {
        "id": "s5lMv6LCweGJ"
      },
      "execution_count": null,
      "outputs": []
    },
    {
      "cell_type": "markdown",
      "source": [
        "Loading the Breast Cancer dataset. The Description of the dataset is as follows:\n"
      ],
      "metadata": {
        "id": "7zZWvGUTwrz9"
      }
    },
    {
      "cell_type": "code",
      "source": [
        "df = pd.read_csv('/content/data (2).csv')\n",
        "df.head"
      ],
      "metadata": {
        "colab": {
          "base_uri": "https://localhost:8080/"
        },
        "id": "rnPFvE-FyL14",
        "outputId": "b25f238d-b95a-45e8-ae52-bb48a748b17f"
      },
      "execution_count": null,
      "outputs": [
        {
          "output_type": "execute_result",
          "data": {
            "text/plain": [
              "<bound method NDFrame.head of            id diagnosis  ...  symmetry_worst  fractal_dimension_worst\n",
              "0      842302         M  ...          0.4601                  0.11890\n",
              "1      842517         M  ...          0.2750                  0.08902\n",
              "2    84300903         M  ...          0.3613                  0.08758\n",
              "3    84348301         M  ...          0.6638                  0.17300\n",
              "4    84358402         M  ...          0.2364                  0.07678\n",
              "..        ...       ...  ...             ...                      ...\n",
              "564    926424         M  ...          0.2060                  0.07115\n",
              "565    926682         M  ...          0.2572                  0.06637\n",
              "566    926954         M  ...          0.2218                  0.07820\n",
              "567    927241         M  ...          0.4087                  0.12400\n",
              "568     92751         B  ...          0.2871                  0.07039\n",
              "\n",
              "[569 rows x 32 columns]>"
            ]
          },
          "metadata": {},
          "execution_count": 10
        }
      ]
    },
    {
      "cell_type": "code",
      "source": [
        "#defining indexes of the dataframes\n",
        "X = df.iloc[:, 2:32].values #selecting all the rows and columns 2-32\n",
        "Y = df.iloc[:,1].values #all rows and 1st column"
      ],
      "metadata": {
        "id": "UKAvFFAAyc3R"
      },
      "execution_count": null,
      "outputs": []
    },
    {
      "cell_type": "code",
      "source": [
        "X"
      ],
      "metadata": {
        "id": "SE-vTECPzG1g",
        "colab": {
          "base_uri": "https://localhost:8080/"
        },
        "outputId": "68b8d2e0-c269-4562-80c9-1f73176f3737"
      },
      "execution_count": null,
      "outputs": [
        {
          "output_type": "execute_result",
          "data": {
            "text/plain": [
              "array([[1.799e+01, 1.038e+01, 1.228e+02, ..., 2.654e-01, 4.601e-01,\n",
              "        1.189e-01],\n",
              "       [2.057e+01, 1.777e+01, 1.329e+02, ..., 1.860e-01, 2.750e-01,\n",
              "        8.902e-02],\n",
              "       [1.969e+01, 2.125e+01, 1.300e+02, ..., 2.430e-01, 3.613e-01,\n",
              "        8.758e-02],\n",
              "       ...,\n",
              "       [1.660e+01, 2.808e+01, 1.083e+02, ..., 1.418e-01, 2.218e-01,\n",
              "        7.820e-02],\n",
              "       [2.060e+01, 2.933e+01, 1.401e+02, ..., 2.650e-01, 4.087e-01,\n",
              "        1.240e-01],\n",
              "       [7.760e+00, 2.454e+01, 4.792e+01, ..., 0.000e+00, 2.871e-01,\n",
              "        7.039e-02]])"
            ]
          },
          "metadata": {},
          "execution_count": 12
        }
      ]
    },
    {
      "cell_type": "code",
      "source": [
        "Y"
      ],
      "metadata": {
        "id": "_Pbbh_COzX8w",
        "colab": {
          "base_uri": "https://localhost:8080/"
        },
        "outputId": "6bcc3e41-f2a9-4c91-8c44-e9de72270f37"
      },
      "execution_count": null,
      "outputs": [
        {
          "output_type": "execute_result",
          "data": {
            "text/plain": [
              "array(['M', 'M', 'M', 'M', 'M', 'M', 'M', 'M', 'M', 'M', 'M', 'M', 'M',\n",
              "       'M', 'M', 'M', 'M', 'M', 'M', 'B', 'B', 'B', 'M', 'M', 'M', 'M',\n",
              "       'M', 'M', 'M', 'M', 'M', 'M', 'M', 'M', 'M', 'M', 'M', 'B', 'M',\n",
              "       'M', 'M', 'M', 'M', 'M', 'M', 'M', 'B', 'M', 'B', 'B', 'B', 'B',\n",
              "       'B', 'M', 'M', 'B', 'M', 'M', 'B', 'B', 'B', 'B', 'M', 'B', 'M',\n",
              "       'M', 'B', 'B', 'B', 'B', 'M', 'B', 'M', 'M', 'B', 'M', 'B', 'M',\n",
              "       'M', 'B', 'B', 'B', 'M', 'M', 'B', 'M', 'M', 'M', 'B', 'B', 'B',\n",
              "       'M', 'B', 'B', 'M', 'M', 'B', 'B', 'B', 'M', 'M', 'B', 'B', 'B',\n",
              "       'B', 'M', 'B', 'B', 'M', 'B', 'B', 'B', 'B', 'B', 'B', 'B', 'B',\n",
              "       'M', 'M', 'M', 'B', 'M', 'M', 'B', 'B', 'B', 'M', 'M', 'B', 'M',\n",
              "       'B', 'M', 'M', 'B', 'M', 'M', 'B', 'B', 'M', 'B', 'B', 'M', 'B',\n",
              "       'B', 'B', 'B', 'M', 'B', 'B', 'B', 'B', 'B', 'B', 'B', 'B', 'B',\n",
              "       'M', 'B', 'B', 'B', 'B', 'M', 'M', 'B', 'M', 'B', 'B', 'M', 'M',\n",
              "       'B', 'B', 'M', 'M', 'B', 'B', 'B', 'B', 'M', 'B', 'B', 'M', 'M',\n",
              "       'M', 'B', 'M', 'B', 'M', 'B', 'B', 'B', 'M', 'B', 'B', 'M', 'M',\n",
              "       'B', 'M', 'M', 'M', 'M', 'B', 'M', 'M', 'M', 'B', 'M', 'B', 'M',\n",
              "       'B', 'B', 'M', 'B', 'M', 'M', 'M', 'M', 'B', 'B', 'M', 'M', 'B',\n",
              "       'B', 'B', 'M', 'B', 'B', 'B', 'B', 'B', 'M', 'M', 'B', 'B', 'M',\n",
              "       'B', 'B', 'M', 'M', 'B', 'M', 'B', 'B', 'B', 'B', 'M', 'B', 'B',\n",
              "       'B', 'B', 'B', 'M', 'B', 'M', 'M', 'M', 'M', 'M', 'M', 'M', 'M',\n",
              "       'M', 'M', 'M', 'M', 'M', 'M', 'B', 'B', 'B', 'B', 'B', 'B', 'M',\n",
              "       'B', 'M', 'B', 'B', 'M', 'B', 'B', 'M', 'B', 'M', 'M', 'B', 'B',\n",
              "       'B', 'B', 'B', 'B', 'B', 'B', 'B', 'B', 'B', 'B', 'B', 'M', 'B',\n",
              "       'B', 'M', 'B', 'M', 'B', 'B', 'B', 'B', 'B', 'B', 'B', 'B', 'B',\n",
              "       'B', 'B', 'B', 'B', 'B', 'M', 'B', 'B', 'B', 'M', 'B', 'M', 'B',\n",
              "       'B', 'B', 'B', 'M', 'M', 'M', 'B', 'B', 'B', 'B', 'M', 'B', 'M',\n",
              "       'B', 'M', 'B', 'B', 'B', 'M', 'B', 'B', 'B', 'B', 'B', 'B', 'B',\n",
              "       'M', 'M', 'M', 'B', 'B', 'B', 'B', 'B', 'B', 'B', 'B', 'B', 'B',\n",
              "       'B', 'M', 'M', 'B', 'M', 'M', 'M', 'B', 'M', 'M', 'B', 'B', 'B',\n",
              "       'B', 'B', 'M', 'B', 'B', 'B', 'B', 'B', 'M', 'B', 'B', 'B', 'M',\n",
              "       'B', 'B', 'M', 'M', 'B', 'B', 'B', 'B', 'B', 'B', 'M', 'B', 'B',\n",
              "       'B', 'B', 'B', 'B', 'B', 'M', 'B', 'B', 'B', 'B', 'B', 'M', 'B',\n",
              "       'B', 'M', 'B', 'B', 'B', 'B', 'B', 'B', 'B', 'B', 'B', 'B', 'B',\n",
              "       'B', 'M', 'B', 'M', 'M', 'B', 'M', 'B', 'B', 'B', 'B', 'B', 'M',\n",
              "       'B', 'B', 'M', 'B', 'M', 'B', 'B', 'M', 'B', 'M', 'B', 'B', 'B',\n",
              "       'B', 'B', 'B', 'B', 'B', 'M', 'M', 'B', 'B', 'B', 'B', 'B', 'B',\n",
              "       'M', 'B', 'B', 'B', 'B', 'B', 'B', 'B', 'B', 'B', 'B', 'M', 'B',\n",
              "       'B', 'B', 'B', 'B', 'B', 'B', 'M', 'B', 'M', 'B', 'B', 'M', 'B',\n",
              "       'B', 'B', 'B', 'B', 'M', 'M', 'B', 'M', 'B', 'M', 'B', 'B', 'B',\n",
              "       'B', 'B', 'M', 'B', 'B', 'M', 'B', 'M', 'B', 'M', 'M', 'B', 'B',\n",
              "       'B', 'M', 'B', 'B', 'B', 'B', 'B', 'B', 'B', 'B', 'B', 'B', 'B',\n",
              "       'M', 'B', 'M', 'M', 'B', 'B', 'B', 'B', 'B', 'B', 'B', 'B', 'B',\n",
              "       'B', 'B', 'B', 'B', 'B', 'B', 'B', 'B', 'B', 'B', 'B', 'B', 'B',\n",
              "       'B', 'B', 'B', 'M', 'M', 'M', 'M', 'M', 'M', 'B'], dtype=object)"
            ]
          },
          "metadata": {},
          "execution_count": 13
        }
      ]
    },
    {
      "cell_type": "code",
      "source": [
        "from sklearn.preprocessing import LabelEncoder\n",
        "labelencoder_Y = LabelEncoder()\n",
        "Y = labelencoder_Y.fit_transform(Y)\n",
        "\n",
        "X_train, X_test, Y_train, Y_test = train_test_split(X,Y, test_size = 0.2, random_state = 0)\n",
        "\n",
        "sc = StandardScaler()\n",
        "X_train = sc.fit_transform(X_train)\n",
        "X_test = sc.transform(X_test)\n",
        "\n",
        "print('The data type of the actual data', type(df))\n",
        "print('The data type pf X and Y is',type(X))"
      ],
      "metadata": {
        "id": "XuE-9YzOzaUY",
        "colab": {
          "base_uri": "https://localhost:8080/"
        },
        "outputId": "e24431e0-43e4-4a94-f5af-8966f0d8cc42"
      },
      "execution_count": null,
      "outputs": [
        {
          "output_type": "stream",
          "name": "stdout",
          "text": [
            "The data type of the actual data <class 'pandas.core.frame.DataFrame'>\n",
            "The data type pf X and Y is <class 'numpy.ndarray'>\n"
          ]
        }
      ]
    },
    {
      "cell_type": "code",
      "source": [
        "Y"
      ],
      "metadata": {
        "id": "XQle0aEX1_Vr",
        "colab": {
          "base_uri": "https://localhost:8080/"
        },
        "outputId": "1fd77ef6-788d-4bf0-8d8f-975c905e7e7a"
      },
      "execution_count": null,
      "outputs": [
        {
          "output_type": "execute_result",
          "data": {
            "text/plain": [
              "array([1, 1, 1, 1, 1, 1, 1, 1, 1, 1, 1, 1, 1, 1, 1, 1, 1, 1, 1, 0, 0, 0,\n",
              "       1, 1, 1, 1, 1, 1, 1, 1, 1, 1, 1, 1, 1, 1, 1, 0, 1, 1, 1, 1, 1, 1,\n",
              "       1, 1, 0, 1, 0, 0, 0, 0, 0, 1, 1, 0, 1, 1, 0, 0, 0, 0, 1, 0, 1, 1,\n",
              "       0, 0, 0, 0, 1, 0, 1, 1, 0, 1, 0, 1, 1, 0, 0, 0, 1, 1, 0, 1, 1, 1,\n",
              "       0, 0, 0, 1, 0, 0, 1, 1, 0, 0, 0, 1, 1, 0, 0, 0, 0, 1, 0, 0, 1, 0,\n",
              "       0, 0, 0, 0, 0, 0, 0, 1, 1, 1, 0, 1, 1, 0, 0, 0, 1, 1, 0, 1, 0, 1,\n",
              "       1, 0, 1, 1, 0, 0, 1, 0, 0, 1, 0, 0, 0, 0, 1, 0, 0, 0, 0, 0, 0, 0,\n",
              "       0, 0, 1, 0, 0, 0, 0, 1, 1, 0, 1, 0, 0, 1, 1, 0, 0, 1, 1, 0, 0, 0,\n",
              "       0, 1, 0, 0, 1, 1, 1, 0, 1, 0, 1, 0, 0, 0, 1, 0, 0, 1, 1, 0, 1, 1,\n",
              "       1, 1, 0, 1, 1, 1, 0, 1, 0, 1, 0, 0, 1, 0, 1, 1, 1, 1, 0, 0, 1, 1,\n",
              "       0, 0, 0, 1, 0, 0, 0, 0, 0, 1, 1, 0, 0, 1, 0, 0, 1, 1, 0, 1, 0, 0,\n",
              "       0, 0, 1, 0, 0, 0, 0, 0, 1, 0, 1, 1, 1, 1, 1, 1, 1, 1, 1, 1, 1, 1,\n",
              "       1, 1, 0, 0, 0, 0, 0, 0, 1, 0, 1, 0, 0, 1, 0, 0, 1, 0, 1, 1, 0, 0,\n",
              "       0, 0, 0, 0, 0, 0, 0, 0, 0, 0, 0, 1, 0, 0, 1, 0, 1, 0, 0, 0, 0, 0,\n",
              "       0, 0, 0, 0, 0, 0, 0, 0, 0, 1, 0, 0, 0, 1, 0, 1, 0, 0, 0, 0, 1, 1,\n",
              "       1, 0, 0, 0, 0, 1, 0, 1, 0, 1, 0, 0, 0, 1, 0, 0, 0, 0, 0, 0, 0, 1,\n",
              "       1, 1, 0, 0, 0, 0, 0, 0, 0, 0, 0, 0, 0, 1, 1, 0, 1, 1, 1, 0, 1, 1,\n",
              "       0, 0, 0, 0, 0, 1, 0, 0, 0, 0, 0, 1, 0, 0, 0, 1, 0, 0, 1, 1, 0, 0,\n",
              "       0, 0, 0, 0, 1, 0, 0, 0, 0, 0, 0, 0, 1, 0, 0, 0, 0, 0, 1, 0, 0, 1,\n",
              "       0, 0, 0, 0, 0, 0, 0, 0, 0, 0, 0, 0, 1, 0, 1, 1, 0, 1, 0, 0, 0, 0,\n",
              "       0, 1, 0, 0, 1, 0, 1, 0, 0, 1, 0, 1, 0, 0, 0, 0, 0, 0, 0, 0, 1, 1,\n",
              "       0, 0, 0, 0, 0, 0, 1, 0, 0, 0, 0, 0, 0, 0, 0, 0, 0, 1, 0, 0, 0, 0,\n",
              "       0, 0, 0, 1, 0, 1, 0, 0, 1, 0, 0, 0, 0, 0, 1, 1, 0, 1, 0, 1, 0, 0,\n",
              "       0, 0, 0, 1, 0, 0, 1, 0, 1, 0, 1, 1, 0, 0, 0, 1, 0, 0, 0, 0, 0, 0,\n",
              "       0, 0, 0, 0, 0, 1, 0, 1, 1, 0, 0, 0, 0, 0, 0, 0, 0, 0, 0, 0, 0, 0,\n",
              "       0, 0, 0, 0, 0, 0, 0, 0, 0, 0, 0, 0, 1, 1, 1, 1, 1, 1, 0])"
            ]
          },
          "metadata": {},
          "execution_count": 15
        }
      ]
    },
    {
      "cell_type": "code",
      "source": [
        "X_train"
      ],
      "metadata": {
        "id": "uhkovHsv2DiC",
        "colab": {
          "base_uri": "https://localhost:8080/"
        },
        "outputId": "319d0390-5541-4bfb-e4e2-09a665a6c6a4"
      },
      "execution_count": null,
      "outputs": [
        {
          "output_type": "execute_result",
          "data": {
            "text/plain": [
              "array([[-1.15036482, -0.39064196, -1.12855021, ..., -0.75798367,\n",
              "        -0.01614761, -0.38503402],\n",
              "       [-0.93798972,  0.68051405, -0.94820146, ..., -0.60687023,\n",
              "         0.09669004, -0.38615797],\n",
              "       [ 0.574121  , -1.03333557,  0.51394098, ..., -0.02371948,\n",
              "        -0.20050207, -0.75144254],\n",
              "       ...,\n",
              "       [-1.32422924, -0.20048168, -1.31754581, ..., -0.97974953,\n",
              "        -0.71542314, -0.11978123],\n",
              "       [-1.24380987, -0.2245526 , -1.28007609, ..., -1.75401433,\n",
              "        -1.58157125, -1.00601779],\n",
              "       [-0.73694129,  1.14989702, -0.71226578, ..., -0.27460457,\n",
              "        -1.25895095,  0.21515662]])"
            ]
          },
          "metadata": {},
          "execution_count": 16
        }
      ]
    },
    {
      "cell_type": "code",
      "source": [
        "X_test"
      ],
      "metadata": {
        "id": "wu-5zm-S2E-K",
        "colab": {
          "base_uri": "https://localhost:8080/"
        },
        "outputId": "27452cbf-ada1-4cf7-aeb3-b1d3fbeadb23"
      },
      "execution_count": null,
      "outputs": [
        {
          "output_type": "execute_result",
          "data": {
            "text/plain": [
              "array([[-0.20175604,  0.3290786 , -0.13086754, ...,  1.3893291 ,\n",
              "         1.08203284,  1.54029664],\n",
              "       [-0.25555773,  1.46763319, -0.31780437, ..., -0.83369364,\n",
              "        -0.73131577, -0.87732522],\n",
              "       [-0.02619262, -0.8407682 , -0.09175081, ..., -0.49483785,\n",
              "        -1.22080864, -0.92115937],\n",
              "       ...,\n",
              "       [ 1.71811488,  0.09318356,  1.7286186 , ...,  1.57630515,\n",
              "         0.20317063, -0.15406178],\n",
              "       [ 1.18859296,  0.34352115,  1.19333694, ...,  0.56019755,\n",
              "         0.26991966, -0.27320074],\n",
              "       [ 0.26263752, -0.58080224,  0.28459338, ..., -0.19383705,\n",
              "        -1.15564888,  0.11231497]])"
            ]
          },
          "metadata": {},
          "execution_count": 17
        }
      ]
    },
    {
      "cell_type": "code",
      "source": [
        "model_NN = Sequential()\n",
        "\n",
        "#Add an input layer\n",
        "model_NN.add(Dense(30,activation='relu', input_shape=(30,)))\n",
        "\n",
        "#Add hidden layer (1st,2nd,3rd,4th)\n",
        "model_NN.add(Dense(16,activation='relu'))\n",
        "model_NN.add(Dense(8,activation='relu'))\n",
        "\n",
        "model_NN.add(Dense(4,activation='relu'))\n",
        "\n",
        "model_NN.add(Dense(2,activation='relu'))\n",
        "\n",
        "#Add an output layer\n",
        "model_NN.add(Dense(1, activation = 'sigmoid'))\n"
      ],
      "metadata": {
        "id": "1PbbDm6m2JiC"
      },
      "execution_count": null,
      "outputs": []
    },
    {
      "cell_type": "code",
      "source": [
        "model_NN.summary()"
      ],
      "metadata": {
        "id": "msT3496L4RiV",
        "colab": {
          "base_uri": "https://localhost:8080/"
        },
        "outputId": "f78284d5-7352-4ec5-cf32-dfb72c637ac7"
      },
      "execution_count": null,
      "outputs": [
        {
          "output_type": "stream",
          "name": "stdout",
          "text": [
            "Model: \"sequential\"\n",
            "_________________________________________________________________\n",
            " Layer (type)                Output Shape              Param #   \n",
            "=================================================================\n",
            " dense (Dense)               (None, 30)                930       \n",
            "                                                                 \n",
            " dense_1 (Dense)             (None, 16)                496       \n",
            "                                                                 \n",
            " dense_2 (Dense)             (None, 8)                 136       \n",
            "                                                                 \n",
            " dense_3 (Dense)             (None, 4)                 36        \n",
            "                                                                 \n",
            " dense_4 (Dense)             (None, 2)                 10        \n",
            "                                                                 \n",
            " dense_5 (Dense)             (None, 1)                 3         \n",
            "                                                                 \n",
            "=================================================================\n",
            "Total params: 1,611\n",
            "Trainable params: 1,611\n",
            "Non-trainable params: 0\n",
            "_________________________________________________________________\n"
          ]
        }
      ]
    },
    {
      "cell_type": "markdown",
      "source": [
        "Model is compiled with layer information taken above and with optimizer adam which is used for the gradient decent algorithm and learning rate. Since our final classification in the form of either cancer Malignet or Bigne so we have considered over here Binary cross entropy loss and metrics as accuracy"
      ],
      "metadata": {
        "id": "6M93c-6c4koO"
      }
    },
    {
      "cell_type": "code",
      "source": [
        "model_NN.compile(optimizer = 'Adam', loss = 'binary_crossentropy', metrics = ['accuracy'])"
      ],
      "metadata": {
        "id": "Mn6j5z9S4YfM"
      },
      "execution_count": null,
      "outputs": []
    },
    {
      "cell_type": "markdown",
      "source": [
        "Finally the Deep Neural Netwrok is trained with help pf training data and also tested with testing data. The epoches here ar 150"
      ],
      "metadata": {
        "id": "hlz-cv455LlK"
      }
    },
    {
      "cell_type": "code",
      "source": [
        "model = model_NN.fit(X_train, Y_train, epochs = 150, validation_data = (X_test, Y_test), verbose = 1, batch_size=1)"
      ],
      "metadata": {
        "id": "SXUOmugY5Kb6",
        "colab": {
          "base_uri": "https://localhost:8080/"
        },
        "outputId": "c42fa625-a016-447b-bc44-ef078ba846ac"
      },
      "execution_count": null,
      "outputs": [
        {
          "output_type": "stream",
          "name": "stdout",
          "text": [
            "Epoch 1/150\n",
            "455/455 [==============================] - 2s 3ms/step - loss: 0.3749 - accuracy: 0.8220 - val_loss: 0.3356 - val_accuracy: 0.9211\n",
            "Epoch 2/150\n",
            "455/455 [==============================] - 1s 2ms/step - loss: 0.2741 - accuracy: 0.9648 - val_loss: 0.3108 - val_accuracy: 0.9298\n",
            "Epoch 3/150\n",
            "455/455 [==============================] - 1s 2ms/step - loss: 0.2296 - accuracy: 0.9824 - val_loss: 0.2963 - val_accuracy: 0.9649\n",
            "Epoch 4/150\n",
            "455/455 [==============================] - 1s 2ms/step - loss: 0.2034 - accuracy: 0.9824 - val_loss: 0.2792 - val_accuracy: 0.9649\n",
            "Epoch 5/150\n",
            "455/455 [==============================] - 1s 2ms/step - loss: 0.1627 - accuracy: 0.9868 - val_loss: 0.2846 - val_accuracy: 0.9649\n",
            "Epoch 6/150\n",
            "455/455 [==============================] - 1s 2ms/step - loss: 0.1497 - accuracy: 0.9824 - val_loss: 0.2590 - val_accuracy: 0.9474\n",
            "Epoch 7/150\n",
            "455/455 [==============================] - 1s 2ms/step - loss: 0.1235 - accuracy: 0.9868 - val_loss: 0.2548 - val_accuracy: 0.9649\n",
            "Epoch 8/150\n",
            "455/455 [==============================] - 1s 2ms/step - loss: 0.1001 - accuracy: 0.9912 - val_loss: 0.2345 - val_accuracy: 0.9737\n",
            "Epoch 9/150\n",
            "455/455 [==============================] - 1s 2ms/step - loss: 0.0898 - accuracy: 0.9912 - val_loss: 0.2057 - val_accuracy: 0.9474\n",
            "Epoch 10/150\n",
            "455/455 [==============================] - 1s 2ms/step - loss: 0.0747 - accuracy: 0.9934 - val_loss: 0.2277 - val_accuracy: 0.9474\n",
            "Epoch 11/150\n",
            "455/455 [==============================] - 1s 2ms/step - loss: 0.0636 - accuracy: 0.9934 - val_loss: 0.2413 - val_accuracy: 0.9561\n",
            "Epoch 12/150\n",
            "455/455 [==============================] - 1s 2ms/step - loss: 0.0584 - accuracy: 0.9956 - val_loss: 0.3223 - val_accuracy: 0.9561\n",
            "Epoch 13/150\n",
            "455/455 [==============================] - 2s 4ms/step - loss: 0.0729 - accuracy: 0.9890 - val_loss: 0.1641 - val_accuracy: 0.9386\n",
            "Epoch 14/150\n",
            "455/455 [==============================] - 2s 4ms/step - loss: 0.0448 - accuracy: 0.9956 - val_loss: 0.2040 - val_accuracy: 0.9298\n",
            "Epoch 15/150\n",
            "455/455 [==============================] - 2s 5ms/step - loss: 0.0363 - accuracy: 0.9978 - val_loss: 0.1913 - val_accuracy: 0.9386\n",
            "Epoch 16/150\n",
            "455/455 [==============================] - 2s 4ms/step - loss: 0.0341 - accuracy: 0.9956 - val_loss: 0.1752 - val_accuracy: 0.9474\n",
            "Epoch 17/150\n",
            "455/455 [==============================] - 2s 4ms/step - loss: 0.0252 - accuracy: 1.0000 - val_loss: 0.1936 - val_accuracy: 0.9474\n",
            "Epoch 18/150\n",
            "455/455 [==============================] - 2s 4ms/step - loss: 0.0217 - accuracy: 1.0000 - val_loss: 0.1898 - val_accuracy: 0.9474\n",
            "Epoch 19/150\n",
            "455/455 [==============================] - 2s 4ms/step - loss: 0.0189 - accuracy: 1.0000 - val_loss: 0.2186 - val_accuracy: 0.9474\n",
            "Epoch 20/150\n",
            "455/455 [==============================] - 2s 5ms/step - loss: 0.0162 - accuracy: 1.0000 - val_loss: 0.2133 - val_accuracy: 0.9474\n",
            "Epoch 21/150\n",
            "455/455 [==============================] - 2s 5ms/step - loss: 0.0139 - accuracy: 1.0000 - val_loss: 0.2165 - val_accuracy: 0.9474\n",
            "Epoch 22/150\n",
            "455/455 [==============================] - 2s 4ms/step - loss: 0.0120 - accuracy: 1.0000 - val_loss: 0.2179 - val_accuracy: 0.9474\n",
            "Epoch 23/150\n",
            "455/455 [==============================] - 2s 5ms/step - loss: 0.0103 - accuracy: 1.0000 - val_loss: 0.2704 - val_accuracy: 0.9474\n",
            "Epoch 24/150\n",
            "455/455 [==============================] - 3s 6ms/step - loss: 0.0089 - accuracy: 1.0000 - val_loss: 0.2597 - val_accuracy: 0.9561\n",
            "Epoch 25/150\n",
            "455/455 [==============================] - 1s 3ms/step - loss: 0.0076 - accuracy: 1.0000 - val_loss: 0.2526 - val_accuracy: 0.9561\n",
            "Epoch 26/150\n",
            "455/455 [==============================] - 1s 2ms/step - loss: 0.0065 - accuracy: 1.0000 - val_loss: 0.2425 - val_accuracy: 0.9474\n",
            "Epoch 27/150\n",
            "455/455 [==============================] - 1s 2ms/step - loss: 0.0055 - accuracy: 1.0000 - val_loss: 0.2411 - val_accuracy: 0.9474\n",
            "Epoch 28/150\n",
            "455/455 [==============================] - 1s 2ms/step - loss: 0.0048 - accuracy: 1.0000 - val_loss: 0.2770 - val_accuracy: 0.9386\n",
            "Epoch 29/150\n",
            "455/455 [==============================] - 1s 2ms/step - loss: 0.0130 - accuracy: 0.9978 - val_loss: 0.4090 - val_accuracy: 0.9561\n",
            "Epoch 30/150\n",
            "455/455 [==============================] - 1s 2ms/step - loss: 0.0381 - accuracy: 0.9868 - val_loss: 0.5714 - val_accuracy: 0.9561\n",
            "Epoch 31/150\n",
            "455/455 [==============================] - 1s 2ms/step - loss: 0.0097 - accuracy: 0.9956 - val_loss: 0.4977 - val_accuracy: 0.9474\n",
            "Epoch 32/150\n",
            "455/455 [==============================] - 1s 2ms/step - loss: 0.0048 - accuracy: 1.0000 - val_loss: 0.4776 - val_accuracy: 0.9474\n",
            "Epoch 33/150\n",
            "455/455 [==============================] - 1s 2ms/step - loss: 0.0049 - accuracy: 1.0000 - val_loss: 0.4395 - val_accuracy: 0.9386\n",
            "Epoch 34/150\n",
            "455/455 [==============================] - 1s 2ms/step - loss: 0.0036 - accuracy: 1.0000 - val_loss: 0.4290 - val_accuracy: 0.9561\n",
            "Epoch 35/150\n",
            "455/455 [==============================] - 1s 2ms/step - loss: 0.0033 - accuracy: 1.0000 - val_loss: 0.4278 - val_accuracy: 0.9561\n",
            "Epoch 36/150\n",
            "455/455 [==============================] - 1s 2ms/step - loss: 0.0031 - accuracy: 1.0000 - val_loss: 0.4249 - val_accuracy: 0.9561\n",
            "Epoch 37/150\n",
            "455/455 [==============================] - 1s 2ms/step - loss: 0.0029 - accuracy: 1.0000 - val_loss: 0.4254 - val_accuracy: 0.9561\n",
            "Epoch 38/150\n",
            "455/455 [==============================] - 1s 2ms/step - loss: 0.0027 - accuracy: 1.0000 - val_loss: 0.4228 - val_accuracy: 0.9561\n",
            "Epoch 39/150\n",
            "455/455 [==============================] - 1s 2ms/step - loss: 0.0025 - accuracy: 1.0000 - val_loss: 0.4259 - val_accuracy: 0.9561\n",
            "Epoch 40/150\n",
            "455/455 [==============================] - 1s 2ms/step - loss: 0.0023 - accuracy: 1.0000 - val_loss: 0.4233 - val_accuracy: 0.9561\n",
            "Epoch 41/150\n",
            "455/455 [==============================] - 1s 2ms/step - loss: 0.0021 - accuracy: 1.0000 - val_loss: 0.4339 - val_accuracy: 0.9561\n",
            "Epoch 42/150\n",
            "455/455 [==============================] - 1s 2ms/step - loss: 0.0018 - accuracy: 1.0000 - val_loss: 0.4315 - val_accuracy: 0.9561\n",
            "Epoch 43/150\n",
            "455/455 [==============================] - 1s 2ms/step - loss: 0.0016 - accuracy: 1.0000 - val_loss: 0.4307 - val_accuracy: 0.9561\n",
            "Epoch 44/150\n",
            "455/455 [==============================] - 1s 2ms/step - loss: 0.0014 - accuracy: 1.0000 - val_loss: 0.4406 - val_accuracy: 0.9561\n",
            "Epoch 45/150\n",
            "455/455 [==============================] - 1s 2ms/step - loss: 0.0013 - accuracy: 1.0000 - val_loss: 0.4387 - val_accuracy: 0.9561\n",
            "Epoch 46/150\n",
            "455/455 [==============================] - 1s 2ms/step - loss: 0.0011 - accuracy: 1.0000 - val_loss: 0.4623 - val_accuracy: 0.9561\n",
            "Epoch 47/150\n",
            "455/455 [==============================] - 2s 4ms/step - loss: 9.4522e-04 - accuracy: 1.0000 - val_loss: 0.4566 - val_accuracy: 0.9561\n",
            "Epoch 48/150\n",
            "455/455 [==============================] - 2s 5ms/step - loss: 8.1608e-04 - accuracy: 1.0000 - val_loss: 0.4561 - val_accuracy: 0.9561\n",
            "Epoch 49/150\n",
            "455/455 [==============================] - 2s 5ms/step - loss: 7.0476e-04 - accuracy: 1.0000 - val_loss: 0.4605 - val_accuracy: 0.9474\n",
            "Epoch 50/150\n",
            "455/455 [==============================] - 2s 4ms/step - loss: 6.0897e-04 - accuracy: 1.0000 - val_loss: 0.4961 - val_accuracy: 0.9474\n",
            "Epoch 51/150\n",
            "455/455 [==============================] - 2s 3ms/step - loss: 5.2585e-04 - accuracy: 1.0000 - val_loss: 0.5087 - val_accuracy: 0.9561\n",
            "Epoch 52/150\n",
            "455/455 [==============================] - 1s 2ms/step - loss: 4.4783e-04 - accuracy: 1.0000 - val_loss: 0.5121 - val_accuracy: 0.9561\n",
            "Epoch 53/150\n",
            "455/455 [==============================] - 1s 2ms/step - loss: 3.8434e-04 - accuracy: 1.0000 - val_loss: 0.5126 - val_accuracy: 0.9561\n",
            "Epoch 54/150\n",
            "455/455 [==============================] - 1s 2ms/step - loss: 3.2922e-04 - accuracy: 1.0000 - val_loss: 0.5159 - val_accuracy: 0.9561\n",
            "Epoch 55/150\n",
            "455/455 [==============================] - 1s 2ms/step - loss: 2.8242e-04 - accuracy: 1.0000 - val_loss: 0.5678 - val_accuracy: 0.9474\n",
            "Epoch 56/150\n",
            "455/455 [==============================] - 1s 2ms/step - loss: 2.4207e-04 - accuracy: 1.0000 - val_loss: 0.5605 - val_accuracy: 0.9474\n",
            "Epoch 57/150\n",
            "455/455 [==============================] - 1s 2ms/step - loss: 2.0755e-04 - accuracy: 1.0000 - val_loss: 0.5593 - val_accuracy: 0.9474\n",
            "Epoch 58/150\n",
            "455/455 [==============================] - 1s 2ms/step - loss: 1.7767e-04 - accuracy: 1.0000 - val_loss: 0.5683 - val_accuracy: 0.9386\n",
            "Epoch 59/150\n",
            "455/455 [==============================] - 1s 2ms/step - loss: 1.5220e-04 - accuracy: 1.0000 - val_loss: 0.5672 - val_accuracy: 0.9474\n",
            "Epoch 60/150\n",
            "455/455 [==============================] - 1s 2ms/step - loss: 1.3021e-04 - accuracy: 1.0000 - val_loss: 0.5689 - val_accuracy: 0.9474\n",
            "Epoch 61/150\n",
            "455/455 [==============================] - 1s 2ms/step - loss: 1.1155e-04 - accuracy: 1.0000 - val_loss: 0.5666 - val_accuracy: 0.9386\n",
            "Epoch 62/150\n",
            "455/455 [==============================] - 1s 2ms/step - loss: 9.5612e-05 - accuracy: 1.0000 - val_loss: 0.5677 - val_accuracy: 0.9474\n",
            "Epoch 63/150\n",
            "455/455 [==============================] - 1s 2ms/step - loss: 8.1835e-05 - accuracy: 1.0000 - val_loss: 0.5702 - val_accuracy: 0.9649\n",
            "Epoch 64/150\n",
            "455/455 [==============================] - 1s 2ms/step - loss: 7.0134e-05 - accuracy: 1.0000 - val_loss: 0.6492 - val_accuracy: 0.9474\n",
            "Epoch 65/150\n",
            "455/455 [==============================] - 1s 2ms/step - loss: 6.0631e-05 - accuracy: 1.0000 - val_loss: 0.6509 - val_accuracy: 0.9561\n",
            "Epoch 66/150\n",
            "455/455 [==============================] - 1s 2ms/step - loss: 0.0327 - accuracy: 0.9934 - val_loss: 1.0972 - val_accuracy: 0.9649\n",
            "Epoch 67/150\n",
            "455/455 [==============================] - 1s 2ms/step - loss: 0.1035 - accuracy: 0.9956 - val_loss: 0.4694 - val_accuracy: 0.9474\n",
            "Epoch 68/150\n",
            "455/455 [==============================] - 1s 2ms/step - loss: 0.0271 - accuracy: 0.9956 - val_loss: 0.4535 - val_accuracy: 0.9474\n",
            "Epoch 69/150\n",
            "455/455 [==============================] - 1s 2ms/step - loss: 5.7288e-05 - accuracy: 1.0000 - val_loss: 0.4545 - val_accuracy: 0.9474\n",
            "Epoch 70/150\n",
            "455/455 [==============================] - 1s 2ms/step - loss: 5.6605e-05 - accuracy: 1.0000 - val_loss: 0.4556 - val_accuracy: 0.9474\n",
            "Epoch 71/150\n",
            "455/455 [==============================] - 1s 2ms/step - loss: 5.6106e-05 - accuracy: 1.0000 - val_loss: 0.4566 - val_accuracy: 0.9474\n",
            "Epoch 72/150\n",
            "455/455 [==============================] - 1s 2ms/step - loss: 5.5742e-05 - accuracy: 1.0000 - val_loss: 0.4575 - val_accuracy: 0.9474\n",
            "Epoch 73/150\n",
            "455/455 [==============================] - 1s 2ms/step - loss: 5.5472e-05 - accuracy: 1.0000 - val_loss: 0.4580 - val_accuracy: 0.9474\n",
            "Epoch 74/150\n",
            "455/455 [==============================] - 1s 2ms/step - loss: 5.5238e-05 - accuracy: 1.0000 - val_loss: 0.4587 - val_accuracy: 0.9474\n",
            "Epoch 75/150\n",
            "455/455 [==============================] - 1s 2ms/step - loss: 5.4994e-05 - accuracy: 1.0000 - val_loss: 0.4589 - val_accuracy: 0.9474\n",
            "Epoch 76/150\n",
            "455/455 [==============================] - 1s 2ms/step - loss: 5.4741e-05 - accuracy: 1.0000 - val_loss: 0.4601 - val_accuracy: 0.9474\n",
            "Epoch 77/150\n",
            "455/455 [==============================] - 1s 2ms/step - loss: 5.4479e-05 - accuracy: 1.0000 - val_loss: 0.4604 - val_accuracy: 0.9474\n",
            "Epoch 78/150\n",
            "455/455 [==============================] - 1s 2ms/step - loss: 5.4126e-05 - accuracy: 1.0000 - val_loss: 0.4608 - val_accuracy: 0.9474\n",
            "Epoch 79/150\n",
            "455/455 [==============================] - 2s 3ms/step - loss: 5.3737e-05 - accuracy: 1.0000 - val_loss: 0.4588 - val_accuracy: 0.9474\n",
            "Epoch 80/150\n",
            "455/455 [==============================] - 2s 4ms/step - loss: 5.3276e-05 - accuracy: 1.0000 - val_loss: 0.4578 - val_accuracy: 0.9474\n",
            "Epoch 81/150\n",
            "455/455 [==============================] - 2s 4ms/step - loss: 5.2871e-05 - accuracy: 1.0000 - val_loss: 0.4591 - val_accuracy: 0.9474\n",
            "Epoch 82/150\n",
            "455/455 [==============================] - 2s 4ms/step - loss: 5.2308e-05 - accuracy: 1.0000 - val_loss: 0.4577 - val_accuracy: 0.9474\n",
            "Epoch 83/150\n",
            "455/455 [==============================] - 2s 4ms/step - loss: 5.1691e-05 - accuracy: 1.0000 - val_loss: 0.4572 - val_accuracy: 0.9474\n",
            "Epoch 84/150\n",
            "455/455 [==============================] - 2s 5ms/step - loss: 5.1092e-05 - accuracy: 1.0000 - val_loss: 0.4634 - val_accuracy: 0.9474\n",
            "Epoch 85/150\n",
            "455/455 [==============================] - 2s 4ms/step - loss: 5.0248e-05 - accuracy: 1.0000 - val_loss: 0.4609 - val_accuracy: 0.9474\n",
            "Epoch 86/150\n",
            "455/455 [==============================] - 2s 4ms/step - loss: 4.9176e-05 - accuracy: 1.0000 - val_loss: 0.4601 - val_accuracy: 0.9474\n",
            "Epoch 87/150\n",
            "455/455 [==============================] - 3s 6ms/step - loss: 4.8137e-05 - accuracy: 1.0000 - val_loss: 0.4721 - val_accuracy: 0.9474\n",
            "Epoch 88/150\n",
            "455/455 [==============================] - 2s 5ms/step - loss: 4.6766e-05 - accuracy: 1.0000 - val_loss: 0.4704 - val_accuracy: 0.9474\n",
            "Epoch 89/150\n",
            "455/455 [==============================] - 2s 5ms/step - loss: 4.5141e-05 - accuracy: 1.0000 - val_loss: 0.4704 - val_accuracy: 0.9561\n",
            "Epoch 90/150\n",
            "455/455 [==============================] - 2s 4ms/step - loss: 4.3566e-05 - accuracy: 1.0000 - val_loss: 0.4645 - val_accuracy: 0.9561\n",
            "Epoch 91/150\n",
            "455/455 [==============================] - 1s 2ms/step - loss: 4.1279e-05 - accuracy: 1.0000 - val_loss: 0.4660 - val_accuracy: 0.9561\n",
            "Epoch 92/150\n",
            "455/455 [==============================] - 1s 2ms/step - loss: 3.8985e-05 - accuracy: 1.0000 - val_loss: 0.4679 - val_accuracy: 0.9561\n",
            "Epoch 93/150\n",
            "455/455 [==============================] - 1s 2ms/step - loss: 3.6744e-05 - accuracy: 1.0000 - val_loss: 0.4934 - val_accuracy: 0.9561\n",
            "Epoch 94/150\n",
            "455/455 [==============================] - 1s 2ms/step - loss: 3.3865e-05 - accuracy: 1.0000 - val_loss: 0.4955 - val_accuracy: 0.9561\n",
            "Epoch 95/150\n",
            "455/455 [==============================] - 1s 2ms/step - loss: 3.1067e-05 - accuracy: 1.0000 - val_loss: 0.4980 - val_accuracy: 0.9561\n",
            "Epoch 96/150\n",
            "455/455 [==============================] - 1s 2ms/step - loss: 2.8210e-05 - accuracy: 1.0000 - val_loss: 0.5003 - val_accuracy: 0.9561\n",
            "Epoch 97/150\n",
            "455/455 [==============================] - 1s 2ms/step - loss: 2.5366e-05 - accuracy: 1.0000 - val_loss: 0.5051 - val_accuracy: 0.9561\n",
            "Epoch 98/150\n",
            "455/455 [==============================] - 1s 2ms/step - loss: 2.2733e-05 - accuracy: 1.0000 - val_loss: 0.4899 - val_accuracy: 0.9561\n",
            "Epoch 99/150\n",
            "455/455 [==============================] - 1s 2ms/step - loss: 2.0008e-05 - accuracy: 1.0000 - val_loss: 0.4946 - val_accuracy: 0.9561\n",
            "Epoch 100/150\n",
            "455/455 [==============================] - 1s 2ms/step - loss: 1.7578e-05 - accuracy: 1.0000 - val_loss: 0.5001 - val_accuracy: 0.9561\n",
            "Epoch 101/150\n",
            "455/455 [==============================] - 1s 2ms/step - loss: 1.5358e-05 - accuracy: 1.0000 - val_loss: 0.5056 - val_accuracy: 0.9561\n",
            "Epoch 102/150\n",
            "455/455 [==============================] - 1s 2ms/step - loss: 1.3537e-05 - accuracy: 1.0000 - val_loss: 0.6102 - val_accuracy: 0.9474\n",
            "Epoch 103/150\n",
            "455/455 [==============================] - 1s 2ms/step - loss: 1.1660e-05 - accuracy: 1.0000 - val_loss: 0.6169 - val_accuracy: 0.9561\n",
            "Epoch 104/150\n",
            "455/455 [==============================] - 1s 2ms/step - loss: 0.0017 - accuracy: 0.9978 - val_loss: 0.3595 - val_accuracy: 0.9649\n",
            "Epoch 105/150\n",
            "455/455 [==============================] - 1s 2ms/step - loss: 0.1009 - accuracy: 0.9890 - val_loss: 0.1852 - val_accuracy: 0.9649\n",
            "Epoch 106/150\n",
            "455/455 [==============================] - 1s 2ms/step - loss: 2.5184e-05 - accuracy: 1.0000 - val_loss: 0.1799 - val_accuracy: 0.9649\n",
            "Epoch 107/150\n",
            "455/455 [==============================] - 1s 2ms/step - loss: 1.8367e-05 - accuracy: 1.0000 - val_loss: 0.1828 - val_accuracy: 0.9649\n",
            "Epoch 108/150\n",
            "455/455 [==============================] - 1s 2ms/step - loss: 1.4725e-05 - accuracy: 1.0000 - val_loss: 0.1801 - val_accuracy: 0.9649\n",
            "Epoch 109/150\n",
            "455/455 [==============================] - 1s 2ms/step - loss: 1.3993e-05 - accuracy: 1.0000 - val_loss: 0.1784 - val_accuracy: 0.9649\n",
            "Epoch 110/150\n",
            "455/455 [==============================] - 1s 2ms/step - loss: 1.3395e-05 - accuracy: 1.0000 - val_loss: 0.1765 - val_accuracy: 0.9649\n",
            "Epoch 111/150\n",
            "455/455 [==============================] - 1s 2ms/step - loss: 1.2907e-05 - accuracy: 1.0000 - val_loss: 0.1752 - val_accuracy: 0.9649\n",
            "Epoch 112/150\n",
            "455/455 [==============================] - 1s 2ms/step - loss: 1.2427e-05 - accuracy: 1.0000 - val_loss: 0.1733 - val_accuracy: 0.9649\n",
            "Epoch 113/150\n",
            "455/455 [==============================] - 1s 2ms/step - loss: 1.2030e-05 - accuracy: 1.0000 - val_loss: 0.1708 - val_accuracy: 0.9649\n",
            "Epoch 114/150\n",
            "455/455 [==============================] - 1s 2ms/step - loss: 1.1726e-05 - accuracy: 1.0000 - val_loss: 0.1719 - val_accuracy: 0.9649\n",
            "Epoch 115/150\n",
            "455/455 [==============================] - 2s 3ms/step - loss: 1.1406e-05 - accuracy: 1.0000 - val_loss: 0.1680 - val_accuracy: 0.9649\n",
            "Epoch 116/150\n",
            "455/455 [==============================] - 1s 2ms/step - loss: 1.1144e-05 - accuracy: 1.0000 - val_loss: 0.1653 - val_accuracy: 0.9649\n",
            "Epoch 117/150\n",
            "455/455 [==============================] - 1s 2ms/step - loss: 1.0913e-05 - accuracy: 1.0000 - val_loss: 0.1669 - val_accuracy: 0.9649\n",
            "Epoch 118/150\n",
            "455/455 [==============================] - 1s 2ms/step - loss: 1.0717e-05 - accuracy: 1.0000 - val_loss: 0.1641 - val_accuracy: 0.9649\n",
            "Epoch 119/150\n",
            "455/455 [==============================] - 1s 2ms/step - loss: 1.0550e-05 - accuracy: 1.0000 - val_loss: 0.1663 - val_accuracy: 0.9649\n",
            "Epoch 120/150\n",
            "455/455 [==============================] - 1s 2ms/step - loss: 1.0434e-05 - accuracy: 1.0000 - val_loss: 0.1604 - val_accuracy: 0.9649\n",
            "Epoch 121/150\n",
            "455/455 [==============================] - 1s 2ms/step - loss: 1.0246e-05 - accuracy: 1.0000 - val_loss: 0.1623 - val_accuracy: 0.9649\n",
            "Epoch 122/150\n",
            "455/455 [==============================] - 1s 2ms/step - loss: 1.0080e-05 - accuracy: 1.0000 - val_loss: 0.1611 - val_accuracy: 0.9649\n",
            "Epoch 123/150\n",
            "455/455 [==============================] - 1s 2ms/step - loss: 9.9811e-06 - accuracy: 1.0000 - val_loss: 0.1699 - val_accuracy: 0.9649\n",
            "Epoch 124/150\n",
            "455/455 [==============================] - 1s 2ms/step - loss: 9.8405e-06 - accuracy: 1.0000 - val_loss: 0.1590 - val_accuracy: 0.9649\n",
            "Epoch 125/150\n",
            "455/455 [==============================] - 1s 2ms/step - loss: 9.7261e-06 - accuracy: 1.0000 - val_loss: 0.1585 - val_accuracy: 0.9649\n",
            "Epoch 126/150\n",
            "455/455 [==============================] - 1s 2ms/step - loss: 9.6035e-06 - accuracy: 1.0000 - val_loss: 0.1748 - val_accuracy: 0.9649\n",
            "Epoch 127/150\n",
            "455/455 [==============================] - 1s 2ms/step - loss: 9.4785e-06 - accuracy: 1.0000 - val_loss: 0.1670 - val_accuracy: 0.9649\n",
            "Epoch 128/150\n",
            "455/455 [==============================] - 1s 2ms/step - loss: 9.3617e-06 - accuracy: 1.0000 - val_loss: 0.1488 - val_accuracy: 0.9649\n",
            "Epoch 129/150\n",
            "455/455 [==============================] - 1s 2ms/step - loss: 9.2511e-06 - accuracy: 1.0000 - val_loss: 0.1534 - val_accuracy: 0.9649\n",
            "Epoch 130/150\n",
            "455/455 [==============================] - 1s 2ms/step - loss: 9.0450e-06 - accuracy: 1.0000 - val_loss: 0.1505 - val_accuracy: 0.9561\n",
            "Epoch 131/150\n",
            "455/455 [==============================] - 1s 2ms/step - loss: 9.0966e-06 - accuracy: 1.0000 - val_loss: 0.2091 - val_accuracy: 0.9649\n",
            "Epoch 132/150\n",
            "455/455 [==============================] - 1s 2ms/step - loss: 8.7518e-06 - accuracy: 1.0000 - val_loss: 0.1951 - val_accuracy: 0.9649\n",
            "Epoch 133/150\n",
            "455/455 [==============================] - 1s 2ms/step - loss: 8.3857e-06 - accuracy: 1.0000 - val_loss: 0.1749 - val_accuracy: 0.9649\n",
            "Epoch 134/150\n",
            "455/455 [==============================] - 1s 2ms/step - loss: 8.0806e-06 - accuracy: 1.0000 - val_loss: 0.1716 - val_accuracy: 0.9649\n",
            "Epoch 135/150\n",
            "455/455 [==============================] - 1s 2ms/step - loss: 7.7286e-06 - accuracy: 1.0000 - val_loss: 0.1699 - val_accuracy: 0.9649\n",
            "Epoch 136/150\n",
            "455/455 [==============================] - 1s 2ms/step - loss: 7.3393e-06 - accuracy: 1.0000 - val_loss: 0.1682 - val_accuracy: 0.9649\n",
            "Epoch 137/150\n",
            "455/455 [==============================] - 1s 2ms/step - loss: 6.9362e-06 - accuracy: 1.0000 - val_loss: 0.1608 - val_accuracy: 0.9649\n",
            "Epoch 138/150\n",
            "455/455 [==============================] - 1s 2ms/step - loss: 6.4799e-06 - accuracy: 1.0000 - val_loss: 0.1619 - val_accuracy: 0.9649\n",
            "Epoch 139/150\n",
            "455/455 [==============================] - 1s 2ms/step - loss: 5.9515e-06 - accuracy: 1.0000 - val_loss: 0.1620 - val_accuracy: 0.9649\n",
            "Epoch 140/150\n",
            "455/455 [==============================] - 1s 2ms/step - loss: 5.5152e-06 - accuracy: 1.0000 - val_loss: 0.1383 - val_accuracy: 0.9737\n",
            "Epoch 141/150\n",
            "455/455 [==============================] - 1s 2ms/step - loss: 4.9691e-06 - accuracy: 1.0000 - val_loss: 0.1801 - val_accuracy: 0.9561\n",
            "Epoch 142/150\n",
            "455/455 [==============================] - 1s 2ms/step - loss: 4.4302e-06 - accuracy: 1.0000 - val_loss: 0.1589 - val_accuracy: 0.9649\n",
            "Epoch 143/150\n",
            "455/455 [==============================] - 1s 2ms/step - loss: 3.9389e-06 - accuracy: 1.0000 - val_loss: 0.1579 - val_accuracy: 0.9649\n",
            "Epoch 144/150\n",
            "455/455 [==============================] - 1s 2ms/step - loss: 0.1208 - accuracy: 0.9978 - val_loss: 0.2580 - val_accuracy: 0.9737\n",
            "Epoch 145/150\n",
            "455/455 [==============================] - 1s 2ms/step - loss: 0.0617 - accuracy: 0.9956 - val_loss: 0.1937 - val_accuracy: 0.9561\n",
            "Epoch 146/150\n",
            "455/455 [==============================] - 1s 2ms/step - loss: 1.8985e-05 - accuracy: 1.0000 - val_loss: 0.1276 - val_accuracy: 0.9737\n",
            "Epoch 147/150\n",
            "455/455 [==============================] - 1s 2ms/step - loss: 5.6233e-06 - accuracy: 1.0000 - val_loss: 0.1271 - val_accuracy: 0.9737\n",
            "Epoch 148/150\n",
            "455/455 [==============================] - 1s 2ms/step - loss: 5.4422e-06 - accuracy: 1.0000 - val_loss: 0.1264 - val_accuracy: 0.9737\n",
            "Epoch 149/150\n",
            "455/455 [==============================] - 1s 2ms/step - loss: 5.2781e-06 - accuracy: 1.0000 - val_loss: 0.1261 - val_accuracy: 0.9737\n",
            "Epoch 150/150\n",
            "455/455 [==============================] - 1s 2ms/step - loss: 5.2127e-06 - accuracy: 1.0000 - val_loss: 0.1253 - val_accuracy: 0.9737\n"
          ]
        }
      ]
    },
    {
      "cell_type": "markdown",
      "source": [
        "#Confusion Matrix and Classification of DNN"
      ],
      "metadata": {
        "id": "m4B9jmHzyoVN"
      }
    },
    {
      "cell_type": "code",
      "source": [
        "from sklearn.metrics import accuracy_score, confusion_matrix, classification_report\n",
        "DNN_pred = model_NN.predict(X_test)\n",
        "DNN_pred = (DNN_pred>0.5)\n",
        "print('The confusion matrix of Logistic Regression\\n', confusion_matrix(Y_test,DNN_pred))\n",
        "print('The classification report of Logistic Regression is\\n', classification_report(Y_test, DNN_pred))"
      ],
      "metadata": {
        "colab": {
          "base_uri": "https://localhost:8080/"
        },
        "id": "GQIQVxGYynde",
        "outputId": "b9e23471-7021-47b5-a8b2-fd4ea6f294e1"
      },
      "execution_count": null,
      "outputs": [
        {
          "output_type": "stream",
          "name": "stdout",
          "text": [
            "The confusion matrix of Logistic Regression\n",
            " [[64  3]\n",
            " [ 0 47]]\n",
            "The classification report of Logistic Regression is\n",
            "               precision    recall  f1-score   support\n",
            "\n",
            "           0       1.00      0.96      0.98        67\n",
            "           1       0.94      1.00      0.97        47\n",
            "\n",
            "    accuracy                           0.97       114\n",
            "   macro avg       0.97      0.98      0.97       114\n",
            "weighted avg       0.98      0.97      0.97       114\n",
            "\n"
          ]
        }
      ]
    }
  ]
}